{
  "cells": [
    {
      "attachments": {},
      "cell_type": "markdown",
      "metadata": {
        "id": "Vt0uQZukhGZf"
      },
      "source": [
        "### 69. Sqrt(x) ----- Without using inbuit methods\n",
        "\n",
        "<div class=\"_1l1MA\" data-track-load=\"description_content\"><p>Given a non-negative integer <code>x</code>, return <em>the square root of </em><code>x</code><em> rounded down to the nearest integer</em>. The returned integer should be <strong>non-negative</strong> as well.</p>\n",
        "\n",
        "<p>You <strong>must not use</strong> any built-in exponent function or operator.</p>\n",
        "\n",
        "<ul>\n",
        "\t<li>For example, do not use <code>pow(x, 0.5)</code> in c++ or <code>x ** 0.5</code> in python.</li>\n",
        "</ul>\n",
        "\n",
        "<p>&nbsp;</p>\n",
        "<p><strong class=\"example\">Example 1:</strong></p>\n",
        "\n",
        "<pre><strong>Input:</strong> x = 4\n",
        "<strong>Output:</strong> 2\n",
        "<strong>Explanation:</strong> The square root of 4 is 2, so we return 2.\n",
        "</pre>\n",
        "\n",
        "<p><strong class=\"example\">Example 2:</strong></p>\n",
        "\n",
        "<pre><strong>Input:</strong> x = 8\n",
        "<strong>Output:</strong> 2\n",
        "<strong>Explanation:</strong> The square root of 8 is 2.82842..., and since we round it down to the nearest integer, 2 is returned.\n",
        "</pre>\n",
        "\n",
        "<p>&nbsp;</p>\n",
        "<p><strong>Constraints:</strong></p>\n",
        "\n",
        "<ul>\n",
        "\t<li><code>0 &lt;= x &lt;= 2<sup>31</sup> - 1</code></li>\n",
        "</ul>\n",
        "</div>"
      ]
    },
    {
      "cell_type": "code",
      "execution_count": 11,
      "metadata": {
        "id": "IImNetWWhI0o"
      },
      "outputs": [],
      "source": [
        "class Solution:\n",
        "    def mySqrt(x):\n",
        "        # Binary search approach\n",
        "        left = 1\n",
        "        right = x\n",
        "\n",
        "        if x == 0:\n",
        "            return 0\n",
        "        else:\n",
        "            while left <= right:\n",
        "                middle = (left + right)//2\n",
        "\n",
        "                if middle * middle == x:\n",
        "                    return middle\n",
        "                elif middle * middle > x:\n",
        "                    right = middle - 1\n",
        "                else:\n",
        "                    left = middle + 1\n",
        "            return int(right)"
      ]
    },
    {
      "cell_type": "code",
      "execution_count": 12,
      "metadata": {
        "id": "0hvV5J9jhV-i"
      },
      "outputs": [],
      "source": [
        "squareroot = Solution"
      ]
    },
    {
      "cell_type": "code",
      "execution_count": 13,
      "metadata": {
        "colab": {
          "base_uri": "https://localhost:8080/"
        },
        "id": "H1CLqVxfhkKD",
        "outputId": "fc78ae57-ab95-4fc9-f975-383c8e756fa3"
      },
      "outputs": [
        {
          "data": {
            "text/plain": [
              "2"
            ]
          },
          "execution_count": 13,
          "metadata": {},
          "output_type": "execute_result"
        }
      ],
      "source": [
        "squareroot.mySqrt(8)"
      ]
    },
    {
      "cell_type": "code",
      "execution_count": null,
      "metadata": {
        "id": "9AJOZz6MhtEj"
      },
      "outputs": [],
      "source": []
    }
  ],
  "metadata": {
    "colab": {
      "provenance": []
    },
    "kernelspec": {
      "display_name": "Python 3",
      "name": "python3"
    },
    "language_info": {
      "name": "python"
    }
  },
  "nbformat": 4,
  "nbformat_minor": 0
}
