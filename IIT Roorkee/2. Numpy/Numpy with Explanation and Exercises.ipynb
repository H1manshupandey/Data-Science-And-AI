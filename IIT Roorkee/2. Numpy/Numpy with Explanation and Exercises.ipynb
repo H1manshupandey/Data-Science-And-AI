{
 "cells": [
  {
   "cell_type": "markdown",
   "metadata": {
    "collapsed": true
   },
   "source": [
    "# Numpy"
   ]
  },
  {
   "cell_type": "code",
   "execution_count": 1,
   "metadata": {},
   "outputs": [],
   "source": [
    "import numpy as np"
   ]
  },
  {
   "cell_type": "code",
   "execution_count": 2,
   "metadata": {},
   "outputs": [],
   "source": [
    "# %timeit  # to time any operation for comparision"
   ]
  },
  {
   "cell_type": "code",
   "execution_count": 3,
   "metadata": {},
   "outputs": [],
   "source": [
    "a = np.array([1,2,3,4])"
   ]
  },
  {
   "cell_type": "code",
   "execution_count": 4,
   "metadata": {},
   "outputs": [
    {
     "data": {
      "text/plain": [
       "numpy.ndarray"
      ]
     },
     "execution_count": 4,
     "metadata": {},
     "output_type": "execute_result"
    }
   ],
   "source": [
    "type(a)"
   ]
  },
  {
   "cell_type": "code",
   "execution_count": 5,
   "metadata": {},
   "outputs": [],
   "source": [
    "b = np.array((3,4,5))"
   ]
  },
  {
   "cell_type": "code",
   "execution_count": 6,
   "metadata": {},
   "outputs": [
    {
     "name": "stdout",
     "output_type": "stream",
     "text": [
      "[3 4 5]\n"
     ]
    },
    {
     "data": {
      "text/plain": [
       "numpy.ndarray"
      ]
     },
     "execution_count": 6,
     "metadata": {},
     "output_type": "execute_result"
    }
   ],
   "source": [
    "print(b)\n",
    "type(b)"
   ]
  },
  {
   "cell_type": "code",
   "execution_count": 7,
   "metadata": {},
   "outputs": [
    {
     "name": "stdout",
     "output_type": "stream",
     "text": [
      "[[0. 0. 0. 0.]\n",
      " [0. 0. 0. 0.]\n",
      " [0. 0. 0. 0.]]\n"
     ]
    },
    {
     "data": {
      "text/plain": [
       "(3, 4)"
      ]
     },
     "execution_count": 7,
     "metadata": {},
     "output_type": "execute_result"
    }
   ],
   "source": [
    "x = np.zeros((3,4))\n",
    "print (x)   #rank od 2 ----2d array\n",
    "type(x)\n",
    "x.shape"
   ]
  },
  {
   "cell_type": "code",
   "execution_count": 8,
   "metadata": {},
   "outputs": [
    {
     "name": "stdout",
     "output_type": "stream",
     "text": [
      "[[1 1 1 1]\n",
      " [1 1 1 1]\n",
      " [1 1 1 1]]\n"
     ]
    },
    {
     "data": {
      "text/plain": [
       "(3, 4)"
      ]
     },
     "execution_count": 8,
     "metadata": {},
     "output_type": "execute_result"
    }
   ],
   "source": [
    "y = np.ones((3,4), dtype =np.int16)\n",
    "print(y)\n",
    "y.shape"
   ]
  },
  {
   "cell_type": "code",
   "execution_count": 9,
   "metadata": {},
   "outputs": [
    {
     "name": "stdout",
     "output_type": "stream",
     "text": [
      "[[[0. 0. 0. 0.]\n",
      "  [0. 0. 0. 0.]\n",
      "  [0. 0. 0. 0.]]\n",
      "\n",
      " [[0. 0. 0. 0.]\n",
      "  [0. 0. 0. 0.]\n",
      "  [0. 0. 0. 0.]]]\n"
     ]
    },
    {
     "data": {
      "text/plain": [
       "numpy.ndarray"
      ]
     },
     "execution_count": 9,
     "metadata": {},
     "output_type": "execute_result"
    }
   ],
   "source": [
    "z = np.zeros((2,3,4))\n",
    "print (z)   #rank od 3 ----3d array\n",
    "type(z)"
   ]
  },
  {
   "cell_type": "code",
   "execution_count": 10,
   "metadata": {},
   "outputs": [
    {
     "name": "stdout",
     "output_type": "stream",
     "text": [
      "[[1. 1. 1. 1.]\n",
      " [1. 1. 1. 1.]\n",
      " [1. 1. 1. 1.]]\n"
     ]
    }
   ],
   "source": [
    "y = np.ones((3,4), dtype =np.float64)\n",
    "print(y)"
   ]
  },
  {
   "cell_type": "code",
   "execution_count": 11,
   "metadata": {},
   "outputs": [
    {
     "name": "stdout",
     "output_type": "stream",
     "text": [
      "[[101 101 101 101]\n",
      " [101 101 101 101]\n",
      " [101 101 101 101]]\n"
     ]
    }
   ],
   "source": [
    "z = np.full((3,4), 101)\n",
    "print(z)"
   ]
  },
  {
   "cell_type": "code",
   "execution_count": 12,
   "metadata": {},
   "outputs": [
    {
     "name": "stdout",
     "output_type": "stream",
     "text": [
      "[[3.14159265 3.14159265 3.14159265 3.14159265]\n",
      " [3.14159265 3.14159265 3.14159265 3.14159265]\n",
      " [3.14159265 3.14159265 3.14159265 3.14159265]]\n"
     ]
    }
   ],
   "source": [
    "pi = np.full((3,4), np.pi)\n",
    "print(pi)"
   ]
  },
  {
   "cell_type": "code",
   "execution_count": 13,
   "metadata": {},
   "outputs": [
    {
     "data": {
      "text/plain": [
       "array([10, 11, 12, 13, 14, 15, 16, 17, 18, 19, 20, 21, 22, 23, 24, 25, 26,\n",
       "       27, 28, 29])"
      ]
     },
     "execution_count": 13,
     "metadata": {},
     "output_type": "execute_result"
    }
   ],
   "source": [
    "#np.arange ------Starts with till last number\n",
    "np.arange(10,30)"
   ]
  },
  {
   "cell_type": "code",
   "execution_count": 14,
   "metadata": {},
   "outputs": [
    {
     "data": {
      "text/plain": [
       "array([10, 14, 18, 22, 26])"
      ]
     },
     "execution_count": 14,
     "metadata": {},
     "output_type": "execute_result"
    }
   ],
   "source": [
    "np.arange(10,30, 4)"
   ]
  },
  {
   "cell_type": "code",
   "execution_count": 15,
   "metadata": {},
   "outputs": [
    {
     "data": {
      "text/plain": [
       "array([0. , 0.2, 0.4, 0.6, 0.8, 1. ])"
      ]
     },
     "execution_count": 15,
     "metadata": {},
     "output_type": "execute_result"
    }
   ],
   "source": [
    "np.arange(0,1.1, 0.2)"
   ]
  },
  {
   "cell_type": "code",
   "execution_count": 16,
   "metadata": {},
   "outputs": [],
   "source": [
    "x = [\n",
    "    [\n",
    "        [1],\n",
    "        [1],\n",
    "        [1],\n",
    "        [1]],\n",
    "    [\n",
    "        [1],\n",
    "        [1],\n",
    "        [1],\n",
    "        [1]]\n",
    "]"
   ]
  },
  {
   "cell_type": "code",
   "execution_count": 17,
   "metadata": {},
   "outputs": [
    {
     "data": {
      "text/plain": [
       "(2, 4, 1)"
      ]
     },
     "execution_count": 17,
     "metadata": {},
     "output_type": "execute_result"
    }
   ],
   "source": [
    "xx= np.array(x)\n",
    "xx.shape"
   ]
  },
  {
   "cell_type": "code",
   "execution_count": 18,
   "metadata": {},
   "outputs": [
    {
     "data": {
      "text/plain": [
       "array([  0.,  10.,  20.,  30.,  40.,  50.,  60.,  70.,  80.,  90., 100.])"
      ]
     },
     "execution_count": 18,
     "metadata": {},
     "output_type": "execute_result"
    }
   ],
   "source": [
    "#linear space\n",
    "np.linspace(0, 100, 11)"
   ]
  },
  {
   "cell_type": "code",
   "execution_count": 19,
   "metadata": {},
   "outputs": [
    {
     "data": {
      "text/plain": [
       "array([ 1.   ,  1.375,  1.75 ,  2.125,  2.5  ,  2.875,  3.25 ,  3.625,\n",
       "        4.   ,  4.375,  4.75 ,  5.125,  5.5  ,  5.875,  6.25 ,  6.625,\n",
       "        7.   ,  7.375,  7.75 ,  8.125,  8.5  ,  8.875,  9.25 ,  9.625,\n",
       "       10.   ])"
      ]
     },
     "execution_count": 19,
     "metadata": {},
     "output_type": "execute_result"
    }
   ],
   "source": [
    "np.linspace(1, 10, 25)"
   ]
  },
  {
   "cell_type": "code",
   "execution_count": 20,
   "metadata": {},
   "outputs": [
    {
     "name": "stdout",
     "output_type": "stream",
     "text": [
      "[[0.64785026 0.8361103  0.82929816]\n",
      " [0.49855817 0.03706656 0.61639333]] <class 'numpy.ndarray'>\n"
     ]
    }
   ],
   "source": [
    "x= np.random.rand(2,3)\n",
    "print(x, type(x))"
   ]
  },
  {
   "cell_type": "code",
   "execution_count": 21,
   "metadata": {},
   "outputs": [],
   "source": [
    "x = np.empty((2,3))"
   ]
  },
  {
   "cell_type": "code",
   "execution_count": 22,
   "metadata": {},
   "outputs": [
    {
     "data": {
      "text/plain": [
       "array([[0.64785026, 0.8361103 , 0.82929816],\n",
       "       [0.49855817, 0.03706656, 0.61639333]])"
      ]
     },
     "execution_count": 22,
     "metadata": {},
     "output_type": "execute_result"
    }
   ],
   "source": [
    "x"
   ]
  },
  {
   "cell_type": "code",
   "execution_count": 23,
   "metadata": {},
   "outputs": [
    {
     "data": {
      "text/plain": [
       "array([1, 2, 3, 4])"
      ]
     },
     "execution_count": 23,
     "metadata": {},
     "output_type": "execute_result"
    }
   ],
   "source": [
    "c = np.arange(1,5)\n",
    "c"
   ]
  },
  {
   "cell_type": "code",
   "execution_count": 24,
   "metadata": {},
   "outputs": [
    {
     "data": {
      "text/plain": [
       "dtype('int64')"
      ]
     },
     "execution_count": 24,
     "metadata": {},
     "output_type": "execute_result"
    }
   ],
   "source": [
    "c.dtype"
   ]
  },
  {
   "cell_type": "code",
   "execution_count": 25,
   "metadata": {},
   "outputs": [
    {
     "data": {
      "text/plain": [
       "8"
      ]
     },
     "execution_count": 25,
     "metadata": {},
     "output_type": "execute_result"
    }
   ],
   "source": [
    "c.itemsize"
   ]
  },
  {
   "cell_type": "code",
   "execution_count": 26,
   "metadata": {},
   "outputs": [],
   "source": [
    "a = np.arange(6)"
   ]
  },
  {
   "cell_type": "code",
   "execution_count": 27,
   "metadata": {},
   "outputs": [
    {
     "data": {
      "text/plain": [
       "array([0, 1, 2, 3, 4, 5])"
      ]
     },
     "execution_count": 27,
     "metadata": {},
     "output_type": "execute_result"
    }
   ],
   "source": [
    "a"
   ]
  },
  {
   "cell_type": "code",
   "execution_count": 28,
   "metadata": {},
   "outputs": [
    {
     "name": "stdout",
     "output_type": "stream",
     "text": [
      "[[0 1 2]\n",
      " [3 4 5]]\n"
     ]
    }
   ],
   "source": [
    "b = a.reshape(2,3)\n",
    "print(b)"
   ]
  },
  {
   "cell_type": "code",
   "execution_count": 29,
   "metadata": {},
   "outputs": [
    {
     "ename": "ValueError",
     "evalue": "cannot reshape array of size 6 into shape (2,2)",
     "output_type": "error",
     "traceback": [
      "\u001b[0;31m---------------------------------------------------------------------------\u001b[0m",
      "\u001b[0;31mValueError\u001b[0m                                Traceback (most recent call last)",
      "\u001b[0;32m<ipython-input-29-2b2aba15240a>\u001b[0m in \u001b[0;36m<module>\u001b[0;34m\u001b[0m\n\u001b[0;32m----> 1\u001b[0;31m \u001b[0mb\u001b[0m \u001b[0;34m=\u001b[0m \u001b[0ma\u001b[0m\u001b[0;34m.\u001b[0m\u001b[0mreshape\u001b[0m\u001b[0;34m(\u001b[0m\u001b[0;36m2\u001b[0m\u001b[0;34m,\u001b[0m\u001b[0;36m2\u001b[0m\u001b[0;34m)\u001b[0m\u001b[0;34m\u001b[0m\u001b[0;34m\u001b[0m\u001b[0m\n\u001b[0m\u001b[1;32m      2\u001b[0m \u001b[0mprint\u001b[0m\u001b[0;34m(\u001b[0m\u001b[0mb\u001b[0m\u001b[0;34m)\u001b[0m\u001b[0;34m\u001b[0m\u001b[0;34m\u001b[0m\u001b[0m\n",
      "\u001b[0;31mValueError\u001b[0m: cannot reshape array of size 6 into shape (2,2)"
     ]
    }
   ],
   "source": [
    "b = a.reshape(2,2)\n",
    "print(b)"
   ]
  },
  {
   "cell_type": "code",
   "execution_count": null,
   "metadata": {},
   "outputs": [],
   "source": [
    "a = np.arange(1,15,2)\n",
    "print (a)"
   ]
  },
  {
   "cell_type": "code",
   "execution_count": null,
   "metadata": {},
   "outputs": [],
   "source": [
    "a[4]"
   ]
  },
  {
   "cell_type": "code",
   "execution_count": null,
   "metadata": {},
   "outputs": [],
   "source": [
    "print(a[2:5])"
   ]
  },
  {
   "cell_type": "code",
   "execution_count": 30,
   "metadata": {},
   "outputs": [
    {
     "name": "stdout",
     "output_type": "stream",
     "text": [
      "[2 4]\n",
      "[2 5]\n"
     ]
    }
   ],
   "source": [
    "print(a[2::2])\n",
    "print(a[2::3])"
   ]
  },
  {
   "cell_type": "code",
   "execution_count": 31,
   "metadata": {},
   "outputs": [
    {
     "name": "stdout",
     "output_type": "stream",
     "text": [
      "[5 4 3 2 1 0]\n"
     ]
    }
   ],
   "source": [
    "print(a[::-1])"
   ]
  },
  {
   "cell_type": "code",
   "execution_count": 32,
   "metadata": {},
   "outputs": [
    {
     "name": "stdout",
     "output_type": "stream",
     "text": [
      "[ 0  1 -1 -1 -1  5]\n"
     ]
    }
   ],
   "source": [
    "a[2:5] = -1\n",
    "print(a)"
   ]
  },
  {
   "cell_type": "code",
   "execution_count": 33,
   "metadata": {},
   "outputs": [
    {
     "name": "stdout",
     "output_type": "stream",
     "text": [
      "[0 0 0 0 0 0]\n"
     ]
    }
   ],
   "source": [
    "a[:] = 0\n",
    "print(a)"
   ]
  },
  {
   "cell_type": "code",
   "execution_count": 34,
   "metadata": {},
   "outputs": [
    {
     "name": "stdout",
     "output_type": "stream",
     "text": [
      "[ 1  3  6  9 12 15 18 21 22]\n",
      "[12 15 18 21 22]\n",
      "[ 12 100 100 100 100]\n",
      "[  1   3   6   9  12 100 100 100 100]\n"
     ]
    }
   ],
   "source": [
    "# Carefull update\n",
    "a = np.array ([1,3,6,9,12,15,18,21,22])\n",
    "print(a)\n",
    "\n",
    "a_slice = a[4:]\n",
    "print(a_slice)\n",
    "\n",
    "a_slice[1:5]=100\n",
    "print(a_slice)\n",
    "\n",
    "print(a)"
   ]
  },
  {
   "cell_type": "code",
   "execution_count": 35,
   "metadata": {},
   "outputs": [
    {
     "name": "stdout",
     "output_type": "stream",
     "text": [
      "[ 1  3  6  9 12 15 18 21 22]\n",
      "[12 15 18 21 22]\n",
      "[ 12 100 100 100 100]\n",
      "[ 1  3  6  9 12 15 18 21 22]\n"
     ]
    }
   ],
   "source": [
    "a = np.array ([1,3,6,9,12,15,18,21,22])\n",
    "print(a)\n",
    "\n",
    "a_slice = a[4:].copy()   #copy\n",
    "print(a_slice)\n",
    "\n",
    "a_slice[1:5]=100\n",
    "print(a_slice)   #update\n",
    "\n",
    "print(a)         #unchanged"
   ]
  },
  {
   "cell_type": "code",
   "execution_count": 36,
   "metadata": {},
   "outputs": [
    {
     "name": "stdout",
     "output_type": "stream",
     "text": [
      "[[0.30204737 0.506353   0.58220849 0.08043013 0.13881144]\n",
      " [0.30187111 0.32009235 0.20501048 0.22506782 0.83010496]\n",
      " [0.72875671 0.897249   0.98259622 0.91329984 0.25246407]\n",
      " [0.94913853 0.68350839 0.10427169 0.70590022 0.99547475]]\n"
     ]
    }
   ],
   "source": [
    "x = np.random.rand(4,5)\n",
    "print(x)"
   ]
  },
  {
   "cell_type": "code",
   "execution_count": 37,
   "metadata": {},
   "outputs": [
    {
     "data": {
      "text/plain": [
       "array([0.30187111, 0.32009235, 0.20501048, 0.22506782, 0.83010496])"
      ]
     },
     "execution_count": 37,
     "metadata": {},
     "output_type": "execute_result"
    }
   ],
   "source": [
    "x[1]     # row"
   ]
  },
  {
   "cell_type": "code",
   "execution_count": 38,
   "metadata": {},
   "outputs": [
    {
     "data": {
      "text/plain": [
       "0.30187110847230836"
      ]
     },
     "execution_count": 38,
     "metadata": {},
     "output_type": "execute_result"
    }
   ],
   "source": [
    "x[1, 0]    #row/columns"
   ]
  },
  {
   "cell_type": "code",
   "execution_count": 39,
   "metadata": {},
   "outputs": [
    {
     "data": {
      "text/plain": [
       "array([[0.30204737, 0.506353  , 0.58220849, 0.08043013]])"
      ]
     },
     "execution_count": 39,
     "metadata": {},
     "output_type": "execute_result"
    }
   ],
   "source": [
    "x [0:1, 0:4,]  # [ Row:Row , Column: Column]"
   ]
  },
  {
   "cell_type": "code",
   "execution_count": 40,
   "metadata": {},
   "outputs": [
    {
     "name": "stdout",
     "output_type": "stream",
     "text": [
      "[[ 0  1  2  3]\n",
      " [ 4  5  6  7]\n",
      " [ 8  9 10 11]]\n",
      "[ True False  True]\n"
     ]
    },
    {
     "data": {
      "text/plain": [
       "array([[ 0,  1,  2,  3],\n",
       "       [ 8,  9, 10, 11]])"
      ]
     },
     "execution_count": 40,
     "metadata": {},
     "output_type": "execute_result"
    }
   ],
   "source": [
    "a = np.arange(12).reshape(3,4)\n",
    "print (a)\n",
    "\n",
    "row_on = np.array([True, False, True])\n",
    "\n",
    "print(row_on)\n",
    "\n",
    "a[row_on]"
   ]
  },
  {
   "cell_type": "code",
   "execution_count": 41,
   "metadata": {},
   "outputs": [
    {
     "name": "stdout",
     "output_type": "stream",
     "text": [
      "[20 30 40 50]\n",
      "[0 1 2 3]\n",
      "[20 31 42 53]\n"
     ]
    }
   ],
   "source": [
    "a = np.array([20, 30, 40 , 50])\n",
    "print(a)\n",
    "b= np.arange(4)\n",
    "print(b)\n",
    "c = a+b\n",
    "print(c)"
   ]
  },
  {
   "cell_type": "code",
   "execution_count": 42,
   "metadata": {},
   "outputs": [
    {
     "name": "stdout",
     "output_type": "stream",
     "text": [
      "[[2 0]\n",
      " [0 4]]\n",
      "------------------------------------\n",
      "[[2, 0], [0, 4]]\n"
     ]
    }
   ],
   "source": [
    "import numpy as np\n",
    "A = np.array ([[1,1],\n",
    "              [0,1]])\n",
    "B = np.array ([[2,0],\n",
    "              [3,4]])\n",
    "\n",
    "print(A*B)     # element wise product\n",
    "\n",
    "\n",
    "print('------------------------------------')\n",
    "\n",
    "print (([[1*2,1*0],\n",
    "              [0*3,1*4]]))"
   ]
  },
  {
   "cell_type": "code",
   "execution_count": 43,
   "metadata": {},
   "outputs": [
    {
     "name": "stdout",
     "output_type": "stream",
     "text": [
      "[[5 4]\n",
      " [3 4]]\n",
      "------------------------------------\n",
      "[[5, 4], [3, 4]]\n"
     ]
    }
   ],
   "source": [
    "\n",
    "print(np.dot(A,B))\n",
    "\n",
    "print('------------------------------------')\n",
    "\n",
    "print (([[1*2+1*3,1*0+1*4],[0*2+1*3, 0*0+1*4]]))"
   ]
  },
  {
   "cell_type": "code",
   "execution_count": 44,
   "metadata": {},
   "outputs": [],
   "source": [
    "# Vector is defined by magnitude and direction\n",
    "# vector = list of scalars\n",
    "\n",
    "# Using vectors is machine learning\n",
    "\n",
    "# X =  f1  f2  f3  f4\n",
    "#   = [10, 12, 23, 40] -------Features as vectror\n",
    "\n",
    "# Glove Vectors\n",
    "# Queen - women + man = King\n",
    "# relationship between Man & Women has same with King & Queen\n"
   ]
  },
  {
   "cell_type": "code",
   "execution_count": 45,
   "metadata": {},
   "outputs": [],
   "source": [
    "# numpy.array([1, 1, 1, 1])"
   ]
  },
  {
   "cell_type": "markdown",
   "metadata": {},
   "source": [
    "##### Broadcasting in Numpy Array"
   ]
  },
  {
   "cell_type": "markdown",
   "metadata": {},
   "source": [
    "##### 2 rules of broadcasting\n",
    "\n",
    "###### 1st rule\n",
    "First rule of Broadcasting\n",
    "\n",
    "[[[1, 3 ]]] + [5] [[[6, 8]]]\n",
    "\n",
    "Shape (1, 1, 2) (1, ) (1, 1, 2)\n",
    "\n",
    "If the arrays do not have the same rank, then a 1 will be\n",
    "prepended to the smaller ranking arrays until their ranks match.\n",
    "\n"
   ]
  },
  {
   "cell_type": "code",
   "execution_count": 46,
   "metadata": {},
   "outputs": [
    {
     "name": "stdout",
     "output_type": "stream",
     "text": [
      "A =  [[0 1 2]\n",
      " [3 4 5]]\n",
      "B =  [1]\n",
      "[[1 2 3]\n",
      " [4 5 6]]\n"
     ]
    }
   ],
   "source": [
    "a = np.arange(6).reshape(2,3)\n",
    "print(\"A = \",a)\n",
    "b = np.array([1])\n",
    "print(\"B = \", b)\n",
    "c = a + b\n",
    "print(c)"
   ]
  },
  {
   "cell_type": "code",
   "execution_count": 47,
   "metadata": {},
   "outputs": [
    {
     "name": "stdout",
     "output_type": "stream",
     "text": [
      "[[-1  0  1]\n",
      " [ 2  3  4]]\n"
     ]
    }
   ],
   "source": [
    "c = a-b\n",
    "print(c)"
   ]
  },
  {
   "cell_type": "code",
   "execution_count": 48,
   "metadata": {},
   "outputs": [
    {
     "name": "stdout",
     "output_type": "stream",
     "text": [
      "A =  [[1]] Shape =  (1, 1)\n",
      "B =  [1] Shape =  (1,)\n",
      "C =  [[2]] Shape =  (1, 1)\n"
     ]
    }
   ],
   "source": [
    "a = np.array([[1]])\n",
    "print(\"A = \",a, \"Shape = \",a.shape)\n",
    "b = np.array([1])\n",
    "print(\"B = \", b, \"Shape = \",b.shape)\n",
    "c = a+b\n",
    "print(\"C = \" , c,\"Shape = \", c.shape)"
   ]
  },
  {
   "cell_type": "markdown",
   "metadata": {},
   "source": [
    "##### 2nd rule\n",
    "<img src=\"https://s3.amazonaws.com/cloudxlab/static/images/course/numpy_pandas_for_ml/Broacasting_2_rule.png\" alt=\"drawing\" width=\"500\"/>"
   ]
  },
  {
   "cell_type": "code",
   "execution_count": 49,
   "metadata": {},
   "outputs": [
    {
     "data": {
      "text/plain": [
       "array([[100, 201, 302],\n",
       "       [103, 204, 305]])"
      ]
     },
     "execution_count": 49,
     "metadata": {},
     "output_type": "execute_result"
    }
   ],
   "source": [
    "k = np.arange(6).reshape(2, 3)\n",
    "k\n",
    "\n",
    "k + [100, 200, 300]\n"
   ]
  },
  {
   "cell_type": "code",
   "execution_count": 50,
   "metadata": {},
   "outputs": [
    {
     "data": {
      "text/plain": [
       "1.0"
      ]
     },
     "execution_count": 50,
     "metadata": {},
     "output_type": "execute_result"
    }
   ],
   "source": [
    "# Python array\n",
    "a - [1,2,3,4,5]\n",
    "a.mean()"
   ]
  },
  {
   "cell_type": "code",
   "execution_count": 51,
   "metadata": {},
   "outputs": [
    {
     "name": "stdout",
     "output_type": "stream",
     "text": [
      "mean = 6.766666666666667\n"
     ]
    }
   ],
   "source": [
    "#numpy array\n",
    "a = np.array([[-2.5, 3.1, 7], [10, 11, 12]])  # sum of all elements/count\n",
    "print(\"mean =\", a.mean())"
   ]
  },
  {
   "cell_type": "markdown",
   "metadata": {},
   "source": [
    "Similar to mean there are other ndarray methods which can be\n",
    "used for various computations.\n",
    "\n",
    "* min - returns the minimum element in the ndarray\n",
    "* max - returns the maximum element in the ndarray\n",
    "* sum - returns the sum of the elements in the ndarray\n",
    "* prod - returns the product of the elements in the ndarray\n",
    "* std - returns the standard deviation of the elements in the ndarray.\n",
    "* var - returns the variance of the elements in the ndarray."
   ]
  },
  {
   "cell_type": "code",
   "execution_count": 52,
   "metadata": {},
   "outputs": [
    {
     "name": "stdout",
     "output_type": "stream",
     "text": [
      "min = -2.5\n",
      "max = 12.0\n",
      "sum = 40.6\n",
      "prod = -71610.0\n",
      "std = 5.084835843520964\n",
      "var = 25.855555555555554\n"
     ]
    }
   ],
   "source": [
    "a = np.array([[-2.5, 3.1, 7], [10, 11, 12]])\n",
    "\n",
    "for func in (a.min, a.max, a.sum, a.prod, a.std,a.var):\n",
    "    print(func.__name__, \"=\", func())"
   ]
  },
  {
   "cell_type": "code",
   "execution_count": 53,
   "metadata": {},
   "outputs": [
    {
     "data": {
      "text/plain": [
       "array([[[ 0,  1,  2,  3],\n",
       "        [ 4,  5,  6,  7],\n",
       "        [ 8,  9, 10, 11]],\n",
       "\n",
       "       [[12, 13, 14, 15],\n",
       "        [16, 17, 18, 19],\n",
       "        [20, 21, 22, 23]]])"
      ]
     },
     "execution_count": 53,
     "metadata": {},
     "output_type": "execute_result"
    }
   ],
   "source": [
    "c=np.arange(24).reshape(2,3,4)\n",
    "c"
   ]
  },
  {
   "cell_type": "code",
   "execution_count": 54,
   "metadata": {},
   "outputs": [
    {
     "data": {
      "text/plain": [
       "array([[12, 14, 16, 18],\n",
       "       [20, 22, 24, 26],\n",
       "       [28, 30, 32, 34]])"
      ]
     },
     "execution_count": 54,
     "metadata": {},
     "output_type": "execute_result"
    }
   ],
   "source": [
    "c.sum(axis=0) # sum across matrices"
   ]
  },
  {
   "cell_type": "code",
   "execution_count": 55,
   "metadata": {},
   "outputs": [],
   "source": [
    "# Important about numpy sum\n",
    "a= np.array ([[1,2,3],\n",
    "             [4,5,6]])\n",
    "b= np.array ([[.1,.2,.3],\n",
    "             [.4,.5,.6]])"
   ]
  },
  {
   "cell_type": "code",
   "execution_count": 56,
   "metadata": {},
   "outputs": [
    {
     "data": {
      "text/plain": [
       "array([[1.1, 2.2, 3.3],\n",
       "       [4.4, 5.5, 6.6]])"
      ]
     },
     "execution_count": 56,
     "metadata": {},
     "output_type": "execute_result"
    }
   ],
   "source": [
    "a+b"
   ]
  },
  {
   "cell_type": "code",
   "execution_count": 57,
   "metadata": {},
   "outputs": [
    {
     "data": {
      "text/plain": [
       "21"
      ]
     },
     "execution_count": 57,
     "metadata": {},
     "output_type": "execute_result"
    }
   ],
   "source": [
    "a= np.array ([[1,2,3],\n",
    "             [4,5,6]])\n",
    "a.sum()"
   ]
  },
  {
   "cell_type": "code",
   "execution_count": 58,
   "metadata": {},
   "outputs": [
    {
     "data": {
      "text/plain": [
       "array([5, 7, 9])"
      ]
     },
     "execution_count": 58,
     "metadata": {},
     "output_type": "execute_result"
    }
   ],
   "source": [
    "a.sum(axis = 0)"
   ]
  },
  {
   "cell_type": "code",
   "execution_count": 59,
   "metadata": {},
   "outputs": [
    {
     "data": {
      "text/plain": [
       "array([ 6, 15])"
      ]
     },
     "execution_count": 59,
     "metadata": {},
     "output_type": "execute_result"
    }
   ],
   "source": [
    "a.sum(axis = 1)"
   ]
  },
  {
   "cell_type": "code",
   "execution_count": 60,
   "metadata": {},
   "outputs": [
    {
     "data": {
      "text/plain": [
       "array([[0, 3],\n",
       "       [1, 4],\n",
       "       [2, 5]])"
      ]
     },
     "execution_count": 60,
     "metadata": {},
     "output_type": "execute_result"
    }
   ],
   "source": [
    "# Transpose\n",
    ">>> m1 = np.arange(6).reshape(2,3)\n",
    ">>> m1\n",
    ">>> m1.T"
   ]
  },
  {
   "cell_type": "markdown",
   "metadata": {},
   "source": [
    "#### Solving a system of linear scalar equations\n",
    "2x + 6y = 6\n",
    "5x + 3y = -9"
   ]
  },
  {
   "cell_type": "code",
   "execution_count": 61,
   "metadata": {},
   "outputs": [],
   "source": [
    "from numpy import linalg"
   ]
  },
  {
   "cell_type": "code",
   "execution_count": 62,
   "metadata": {},
   "outputs": [
    {
     "data": {
      "text/plain": [
       "array([-3.,  2.])"
      ]
     },
     "execution_count": 62,
     "metadata": {},
     "output_type": "execute_result"
    }
   ],
   "source": [
    "coeffs = np.array([[2, 6], [5, 3]]) #2x + 6y = 6 5x + 3y = -9\n",
    "depvars = np.array([6, -9])\n",
    "solution = linalg.solve(coeffs, depvars)\n",
    "solution"
   ]
  },
  {
   "cell_type": "markdown",
   "metadata": {},
   "source": [
    "#### Solving a system of linear scalar equations"
   ]
  },
  {
   "cell_type": "code",
   "execution_count": 63,
   "metadata": {},
   "outputs": [
    {
     "data": {
      "text/plain": [
       "(array([ 6., -9.]), array([ 6, -9]))"
      ]
     },
     "execution_count": 63,
     "metadata": {},
     "output_type": "execute_result"
    }
   ],
   "source": [
    "coeffs.dot(solution), depvars"
   ]
  },
  {
   "cell_type": "markdown",
   "metadata": {},
   "source": [
    "<div class=\"panel-body\">\n",
    "<div class=\"aha-panel-body\">\n",
    "                    \n",
    "<h3>Creating Numpy array by passing a Python list</h3>\n",
    "\n",
    "<p>Please follow the below steps to create a NumPy array by passing a Python list:</p>\n",
    "\n",
    "<ul>\n",
    "<li><p>Import Numpy as np</p>\n",
    "\n",
    "<pre><code>import numpy as np\n",
    "</code></pre></li>\n",
    "<li><p>Create a Python list as below:</p>\n",
    "\n",
    "<pre><code>sample_list = [1,2,3]\n",
    "</code></pre></li>\n",
    "<li><p>Pass the above list to <code>array()</code> function of NumPy</p>\n",
    "\n",
    "<pre><code>list_array = np.array(&lt;&lt;your code comes here&gt;&gt;)\n",
    "</code></pre></li>\n",
    "</ul>\n",
    "\n",
    "<h3>Creating Numpy array by passing a Python tuple</h3>\n",
    "\n",
    "<p>Please follow the below steps to create a NumPy array by passing a Python tuple:</p>\n",
    "\n",
    "<ul>\n",
    "<li><p>Import Numpy as np</p>\n",
    "\n",
    "<pre><code>import numpy as np\n",
    "</code></pre></li>\n",
    "<li><p>Create a Python tuple as below:</p>\n",
    "\n",
    "<pre><code>tup = (1,2,3)\n",
    "</code></pre></li>\n",
    "<li><p>Pass the above tuple <code>tup</code>  to <code>array()</code> function of NumPy</p>\n",
    "\n",
    "<pre><code>my_tup_array = np.array(&lt;&lt;your code comes here&gt;&gt;)\n",
    "</code></pre></li>\n",
    "</ul>\n",
    "\n",
    "<p>You can use the <code>print()</code> function to view the above-created arrays.</p>\n",
    "\n",
    " </div>\n",
    "</div>"
   ]
  },
  {
   "cell_type": "code",
   "execution_count": 64,
   "metadata": {},
   "outputs": [],
   "source": [
    "import numpy as np"
   ]
  },
  {
   "cell_type": "code",
   "execution_count": 65,
   "metadata": {},
   "outputs": [],
   "source": [
    "my_list = [50, 12, 67, 23]"
   ]
  },
  {
   "cell_type": "code",
   "execution_count": 66,
   "metadata": {},
   "outputs": [],
   "source": [
    "my_list_array = np.array(my_list)"
   ]
  },
  {
   "cell_type": "code",
   "execution_count": 67,
   "metadata": {},
   "outputs": [
    {
     "name": "stdout",
     "output_type": "stream",
     "text": [
      "[50 12 67 23]\n"
     ]
    }
   ],
   "source": [
    "print(my_list_array)"
   ]
  },
  {
   "cell_type": "code",
   "execution_count": 68,
   "metadata": {},
   "outputs": [],
   "source": [
    "my_tup = (88, 17, 45, 76)"
   ]
  },
  {
   "cell_type": "code",
   "execution_count": 69,
   "metadata": {},
   "outputs": [],
   "source": [
    "my_tup_arr = np.array(my_tup)"
   ]
  },
  {
   "cell_type": "code",
   "execution_count": 70,
   "metadata": {},
   "outputs": [
    {
     "name": "stdout",
     "output_type": "stream",
     "text": [
      "[88 17 45 76]\n"
     ]
    }
   ],
   "source": [
    "print(my_tup_arr)"
   ]
  },
  {
   "cell_type": "code",
   "execution_count": 71,
   "metadata": {},
   "outputs": [],
   "source": [
    "import numpy as np"
   ]
  },
  {
   "cell_type": "code",
   "execution_count": 72,
   "metadata": {},
   "outputs": [],
   "source": [
    "sample_list = [1,2,3]"
   ]
  },
  {
   "cell_type": "code",
   "execution_count": 73,
   "metadata": {},
   "outputs": [],
   "source": [
    "list_array = np.array(sample_list)"
   ]
  },
  {
   "cell_type": "code",
   "execution_count": 74,
   "metadata": {},
   "outputs": [],
   "source": [
    "tup = (1,2,3)"
   ]
  },
  {
   "cell_type": "code",
   "execution_count": 75,
   "metadata": {},
   "outputs": [],
   "source": [
    "my_tup_array = np.array(tup)"
   ]
  },
  {
   "cell_type": "markdown",
   "metadata": {},
   "source": [
    "<div class=\"panel-body\">\n",
    "<div class=\"aha-panel-body\">\n",
    "                    \n",
    "<h3>Time comparison of a NumPy operation and a corresponding Python code</h3>\n",
    "\n",
    "<p>Let us create the below function (<code>multiply_loops</code>) which takes two arrays as input and computes their <strong>multiplication using normal Python way</strong>.</p>\n",
    "\n",
    "<pre><code>def multiply_loops(A, B):\n",
    "    c=np.zeros((A.shape[0], B.shape[1]))\n",
    "    for i in range(A.shape[0]):\n",
    "        for k in range(B.shape[1]):\n",
    "            c[i,k] = 0\n",
    "            for j in range(B.shape[0]):\n",
    "                n = A[i,j] * B[j,k]\n",
    "                c[i,k] += n\n",
    "    return c\n",
    "</code></pre>\n",
    "\n",
    "<p>Now, let us create the below function (<code>multiply_vector</code>) which takes two arrays as input and computes their <strong>multiplication using NumPy's vector multiplication way</strong>.</p>\n",
    "\n",
    "<pre><code>def multiply_vector(A, B):\n",
    "     return A @ B\n",
    "</code></pre>\n",
    "\n",
    "<p>Let us create two randomly generated 100x100 matrices - <code>X</code> and <code>Y</code> - to test the above functions</p>\n",
    "\n",
    "<pre><code>X = np.random.random((100, 100))\n",
    "Y = np.random.random((100, 100))\n",
    "</code></pre>\n",
    "\n",
    "<p>Now execute the below command (<code>timeit</code>) in Jupyter, which will output you the time taken by each of these functions</p>\n",
    "\n",
    "<pre><code>%timeit multiply_loops(X, Y)\n",
    "%timeit multiply_vector(X, Y)\n",
    "</code></pre>\n",
    "\n",
    "                    \n",
    "</div>\n",
    " </div>"
   ]
  },
  {
   "cell_type": "code",
   "execution_count": 76,
   "metadata": {},
   "outputs": [],
   "source": [
    "def multiply_loops(A, B):\n",
    "    c=np.zeros((A.shape[0], B.shape[1]))\n",
    "    for i in range(A.shape[0]):\n",
    "        for k in range(B.shape[1]):\n",
    "            c[i,k] = 0\n",
    "            for j in range(B.shape[0]):\n",
    "                n = A[i,j] * B[j,k]\n",
    "                c[i,k] += n\n",
    "    return c"
   ]
  },
  {
   "cell_type": "code",
   "execution_count": 77,
   "metadata": {},
   "outputs": [],
   "source": [
    "def multiply_vector(A, B):\n",
    "     return A @ B\n",
    "    "
   ]
  },
  {
   "cell_type": "code",
   "execution_count": 78,
   "metadata": {},
   "outputs": [],
   "source": [
    "X = np.random.random((100, 100))\n",
    "Y = np.random.random((100, 100))"
   ]
  },
  {
   "cell_type": "code",
   "execution_count": 79,
   "metadata": {},
   "outputs": [
    {
     "name": "stdout",
     "output_type": "stream",
     "text": [
      "[[0.24152173 0.95906566 0.99791582 ... 0.52826371 0.99504092 0.30887238]\n",
      " [0.72533448 0.32554667 0.79260992 ... 0.45182862 0.15062709 0.07299403]\n",
      " [0.53222206 0.70859501 0.13654581 ... 0.15748053 0.75570108 0.3378911 ]\n",
      " ...\n",
      " [0.00349584 0.86283961 0.79165897 ... 0.56212922 0.49618213 0.602017  ]\n",
      " [0.69430327 0.5050416  0.71743691 ... 0.20018207 0.50985696 0.86974961]\n",
      " [0.95810923 0.89476795 0.73905254 ... 0.13242955 0.13654371 0.07416635]]\n"
     ]
    }
   ],
   "source": [
    "print(X)"
   ]
  },
  {
   "cell_type": "code",
   "execution_count": 80,
   "metadata": {},
   "outputs": [
    {
     "name": "stdout",
     "output_type": "stream",
     "text": [
      "[[0.38280934 0.9295094  0.51072163 ... 0.07129882 0.53279332 0.89371929]\n",
      " [0.79891556 0.41229234 0.11700565 ... 0.83794956 0.10337687 0.82369528]\n",
      " [0.43661118 0.02328076 0.09557493 ... 0.28532287 0.67983302 0.77648558]\n",
      " ...\n",
      " [0.47228628 0.63472244 0.23533187 ... 0.49457907 0.98333012 0.99795726]\n",
      " [0.79169989 0.8228851  0.1749444  ... 0.46431455 0.31185185 0.41004487]\n",
      " [0.31686387 0.71163836 0.68288719 ... 0.99572315 0.0349002  0.27446441]]\n"
     ]
    }
   ],
   "source": [
    "print(Y)"
   ]
  },
  {
   "cell_type": "code",
   "execution_count": 81,
   "metadata": {},
   "outputs": [
    {
     "name": "stdout",
     "output_type": "stream",
     "text": [
      "865 ms ± 14.5 ms per loop (mean ± std. dev. of 7 runs, 1 loop each)\n"
     ]
    }
   ],
   "source": [
    "%timeit multiply_loops(X, Y)\n"
   ]
  },
  {
   "cell_type": "code",
   "execution_count": 82,
   "metadata": {},
   "outputs": [
    {
     "name": "stdout",
     "output_type": "stream",
     "text": [
      "65.9 µs ± 6.85 µs per loop (mean ± std. dev. of 7 runs, 10000 loops each)\n"
     ]
    }
   ],
   "source": [
    "%timeit multiply_vector(X, Y)"
   ]
  },
  {
   "cell_type": "markdown",
   "metadata": {},
   "source": [
    "<div class=\"aha-panel-body\">\n",
    "                    \n",
    "<p><strong>Note:</strong> Please import numpy as np</p>\n",
    "\n",
    "<p><strong>(1) Creating NumPy array with all its elements values as zero (using <code>zeros()</code> function of NumPy)</strong></p>\n",
    "\n",
    "<ul>\n",
    "<li><p>Create a tuple indicating dimensions of the desired array</p>\n",
    "\n",
    "<pre><code>tup_dim = (3, 4)\n",
    "</code></pre></li>\n",
    "<li><p>Now, create your NumPy array by passing the above tuple (<code>tup_dim</code>) to <code>zeros()</code> function below</p>\n",
    "\n",
    "<pre><code>my_zeros_array = np.zeros(&lt;&lt;your code comes here&gt;&gt;, dtype=np.int16)\n",
    "</code></pre></li>\n",
    "</ul>\n",
    "\n",
    "<p><strong>(2) Creating NumPy array with all its elements values as one (using <code>ones()</code> function of NumPy)</strong></p>\n",
    "\n",
    "<ul>\n",
    "<li><p>Create a tuple indicating dimensions of the desired array</p>\n",
    "\n",
    "<pre><code>tup_dim = (3, 4)\n",
    "</code></pre></li>\n",
    "<li><p>Now, create your NumPy array by passing the above tuple (tup_dim) to <code>ones()</code> function below</p>\n",
    "\n",
    "<pre><code>my_ones_array = np.ones( &lt;&lt;your code comes here&gt;&gt;, dtype=np.int16)\n",
    "</code></pre></li>\n",
    "</ul>\n",
    "\n",
    "<p><strong>(3) Creating NumPy array with all its elements values as a specific given value (using <code>full()</code> function of NumPy)</strong></p>\n",
    "\n",
    "<ul>\n",
    "<li><p>Create a tuple indicating dimensions of the desired array</p>\n",
    "\n",
    "<pre><code>tup_dim = (3, 4)\n",
    "</code></pre></li>\n",
    "<li><p>Now, create your NumPy array by passing the above tuple (<code>tup_dim</code>) to <code>full()</code> function below, along with the desired value that you want the array to be filled with (e.g. say value 7)</p>\n",
    "\n",
    "<pre><code>my_seven_array = np.full( &lt;&lt;your code comes here&gt;&gt;, 7, dtype=np.int16)\n",
    "</code></pre></li>\n",
    "</ul>\n",
    "\n",
    "<p>The above NumPy array <code>my_seven_array</code> will be filled with value 7.</p>\n",
    "\n",
    "<p><strong>(4) Creating Identity matrix or array</strong></p>\n",
    "\n",
    "<p>Identity matrix (array) is a square matrix with all its elements as zero (0) except for the diagonal elements whose value is one (1). That is, all the main diagonal values are 1s (one).</p>\n",
    "\n",
    "<p>You can create an Identity matrix by using numpy's <code>identity()</code> function by passing the desired dimension of the matrix (array) and the data type required.</p>\n",
    "\n",
    "<p>e.g. np.identity(2, dtype=float) will create a 2x2 matrix with all its values as 0.0 except for the diagonal values which will be 1.0</p>\n",
    "\n",
    "<ul>\n",
    "<li><p>Please create an identity matrix <code>my_identity_array</code> of size 4x4 with float values.</p>\n",
    "\n",
    "<pre><code>my_identity_array = np.identity(&lt;&lt;your code comes here&gt;&gt;, dtype=np.float64)\n",
    "</code></pre></li>\n",
    "</ul>\n",
    "\n",
    "<p>You can use the print() function to view the above-created arrays.</p>\n",
    "\n",
    "<p>NOTE: <strong>Please ensure that <code>dtype</code> of <code>my_zeros_array, my_ones_array, my_seven_array</code> is <code>np.int16</code> and <code>dtype</code> of <code>my_identity_array</code> is <code>np.float64</code>.</strong></p>\n",
    "\n",
    "                    \n",
    "                </div>"
   ]
  },
  {
   "cell_type": "code",
   "execution_count": 83,
   "metadata": {},
   "outputs": [],
   "source": [
    "tup_dim = (3, 4)\n",
    "\n",
    "my_zeros_array = np.zeros(tup_dim, dtype = np.int16)"
   ]
  },
  {
   "cell_type": "code",
   "execution_count": 84,
   "metadata": {},
   "outputs": [
    {
     "data": {
      "text/plain": [
       "numpy.ndarray"
      ]
     },
     "execution_count": 84,
     "metadata": {},
     "output_type": "execute_result"
    }
   ],
   "source": [
    "type(my_zeros_array)"
   ]
  },
  {
   "cell_type": "code",
   "execution_count": 85,
   "metadata": {},
   "outputs": [],
   "source": [
    "tup_dim = (3, 4)\n",
    "my_ones_array = np.ones(tup_dim, dtype=np.int16)"
   ]
  },
  {
   "cell_type": "code",
   "execution_count": 86,
   "metadata": {},
   "outputs": [
    {
     "data": {
      "text/plain": [
       "array([[1, 1, 1, 1],\n",
       "       [1, 1, 1, 1],\n",
       "       [1, 1, 1, 1]], dtype=int16)"
      ]
     },
     "execution_count": 86,
     "metadata": {},
     "output_type": "execute_result"
    }
   ],
   "source": [
    "my_ones_array"
   ]
  },
  {
   "cell_type": "code",
   "execution_count": 87,
   "metadata": {},
   "outputs": [],
   "source": [
    "tup_dim = (3, 4)\n",
    "my_seven_array = np.full( tup_dim, 7, dtype=np.int16)"
   ]
  },
  {
   "cell_type": "code",
   "execution_count": 88,
   "metadata": {},
   "outputs": [
    {
     "data": {
      "text/plain": [
       "array([[7, 7, 7, 7],\n",
       "       [7, 7, 7, 7],\n",
       "       [7, 7, 7, 7]], dtype=int16)"
      ]
     },
     "execution_count": 88,
     "metadata": {},
     "output_type": "execute_result"
    }
   ],
   "source": [
    "my_seven_array"
   ]
  },
  {
   "cell_type": "code",
   "execution_count": 89,
   "metadata": {},
   "outputs": [],
   "source": [
    "my_identity_array = np.identity(4, dtype=np.float64)"
   ]
  },
  {
   "cell_type": "code",
   "execution_count": 90,
   "metadata": {},
   "outputs": [
    {
     "data": {
      "text/plain": [
       "array([[1., 0., 0., 0.],\n",
       "       [0., 1., 0., 0.],\n",
       "       [0., 0., 1., 0.],\n",
       "       [0., 0., 0., 1.]])"
      ]
     },
     "execution_count": 90,
     "metadata": {},
     "output_type": "execute_result"
    }
   ],
   "source": [
    "my_identity_array"
   ]
  },
  {
   "cell_type": "markdown",
   "metadata": {},
   "source": [
    "<div class=\"panel panel-default\">\n",
    "            <div class=\"panel-heading\">\n",
    "                <strong>\n",
    "                    INSTRUCTIONS\n",
    "                </strong>\n",
    "            </div>\n",
    "            <div class=\"panel-body\">\n",
    "                <div class=\"aha-panel-body\">\n",
    "<p><strong>Note:</strong> Please import numpy as np</p>\n",
    "\n",
    "<p><strong>(1) NumPy array with all its elements values as random values (using <code>random.rand()</code> function of NumPy)</strong></p>\n",
    "\n",
    "<ul>\n",
    "<li><p>Create your NumPy array by passing the above the desired dimensions of the array (say (3,4))  to <code>random.rand()</code> function below</p>\n",
    "\n",
    "<pre><code>my_rand_array = np.random.&lt;&lt;your code comes here&gt;&gt;(3,4)\n",
    "</code></pre></li>\n",
    "</ul>\n",
    "\n",
    "<p>The above NumPy array <code>my_rand_array</code> will have random float values between 0.0 and 1.0</p>\n",
    "\n",
    "<p><strong>(2) NumPy array with all its elements values as uninitialized values (initialized with some random values which you are not aware of - using the <code>empty()</code> function of NumPy)</strong></p>\n",
    "\n",
    "<ul>\n",
    "<li><p>Create a tuple indicating dimensions of the desired array</p>\n",
    "\n",
    "<pre><code>tup_dim = (3, 4)\n",
    "</code></pre></li>\n",
    "<li><p>Now, create your NumPy array by passing the above tuple (<code>tup_dim</code>) to <code>empty()</code> function below</p>\n",
    "\n",
    "<pre><code>my_uninitialized_array = np.empty( &lt;&lt;your code comes here&gt;&gt;)\n",
    "</code></pre></li>\n",
    "</ul>\n",
    "\n",
    "<p>The above NumPy array <code>my_uninitialized_array</code> will be filled with random (also unknown) float values between 0.0 and 1.0</p>\n",
    "\n",
    "                    \n",
    "</div>\n",
    "</div>\n",
    "</div>"
   ]
  },
  {
   "cell_type": "code",
   "execution_count": 91,
   "metadata": {},
   "outputs": [],
   "source": [
    "my_rand_array = np.random.rand(3,4)"
   ]
  },
  {
   "cell_type": "code",
   "execution_count": 92,
   "metadata": {},
   "outputs": [
    {
     "data": {
      "text/plain": [
       "array([[0.28831978, 0.28140446, 0.88434241, 0.36913981],\n",
       "       [0.7553149 , 0.77118054, 0.359725  , 0.94526554],\n",
       "       [0.94124214, 0.41025977, 0.05647742, 0.77661137]])"
      ]
     },
     "execution_count": 92,
     "metadata": {},
     "output_type": "execute_result"
    }
   ],
   "source": [
    "my_rand_array"
   ]
  },
  {
   "cell_type": "code",
   "execution_count": 93,
   "metadata": {},
   "outputs": [],
   "source": [
    "tup_dim = (3, 4)"
   ]
  },
  {
   "cell_type": "code",
   "execution_count": 94,
   "metadata": {},
   "outputs": [],
   "source": [
    "my_uninitialized_array = np.empty(tup_dim)"
   ]
  },
  {
   "cell_type": "code",
   "execution_count": 95,
   "metadata": {},
   "outputs": [
    {
     "data": {
      "text/plain": [
       "array([[0.28831978, 0.28140446, 0.88434241, 0.36913981],\n",
       "       [0.7553149 , 0.77118054, 0.359725  , 0.94526554],\n",
       "       [0.94124214, 0.41025977, 0.05647742, 0.77661137]])"
      ]
     },
     "execution_count": 95,
     "metadata": {},
     "output_type": "execute_result"
    }
   ],
   "source": [
    "my_uninitialized_array"
   ]
  },
  {
   "cell_type": "markdown",
   "metadata": {},
   "source": [
    "<div class=\"panel panel-default\">\n",
    "            <div class=\"panel-heading\">\n",
    "                <strong>\n",
    "                    INSTRUCTIONS\n",
    "                </strong>\n",
    "            </div>\n",
    "            <div class=\"panel-body\">\n",
    "                <div class=\"aha-panel-body\">\n",
    "                    \n",
    "<p><strong>Note:</strong> Please import numpy as np</p>\n",
    "\n",
    "<p><strong>(1)  Creating a NumPy array by passing a range of values (using <code>arange()</code> function of NumPy)</strong></p>\n",
    "\n",
    "<p>Suppose you want to create a NumPy array whose values should lie between 10 and 30 and the values  should have a gap of the value of 5</p>\n",
    "\n",
    "<ul>\n",
    "<li><p>To create this NumPy array, pass the start value (10), end value (30) and the gap value 5, to the  <code>arange()</code> function below</p>\n",
    "\n",
    "<pre><code>my_range_array = np.arange( &lt;&lt;your code comes here&gt;&gt;)\n",
    "</code></pre></li>\n",
    "</ul>\n",
    "\n",
    "<p>The above NumPy array my_range_array will be filled with values between 10 and 30 (excluding 30) having a gap of the value of 5 between the consecutive values.</p>\n",
    "\n",
    "<p><strong>(2) Creating a NumPy array by passing an equally spaced range of values (using <code>linspace()</code> function of NumPy)</strong></p>\n",
    "\n",
    "<p>Suppose you want to create a NumPy array whose values should lie between 0 and 5/3 and the consecutive values should have an equal amount of gap between them (equally spaced values).</p>\n",
    "\n",
    "<ul>\n",
    "<li><p>To create this NumPy array, pass the start value (0), end value (5/3), and the total number of values you want (say 6),  to the <code>linspace()</code> function below</p>\n",
    "\n",
    "<pre><code>my_spaced_array = np.linspace( &lt;&lt;your code comes here&gt;&gt;)\n",
    "</code></pre></li>\n",
    "</ul>\n",
    "\n",
    "<p>The above NumPy array <code>my_spaced_array</code> will have total of 6 values with values ranging between 0 and 5/3 (including 5/3) and having an equal amount of gap between the consecutive values.</p>\n",
    "\n",
    "                    \n",
    "</div>\n",
    "</div>\n",
    "</div>"
   ]
  },
  {
   "cell_type": "code",
   "execution_count": 96,
   "metadata": {},
   "outputs": [
    {
     "data": {
      "text/plain": [
       "array([10, 15, 20, 25])"
      ]
     },
     "execution_count": 96,
     "metadata": {},
     "output_type": "execute_result"
    }
   ],
   "source": [
    "my_range_array = np.arange(10,30,5)\n",
    "my_range_array"
   ]
  },
  {
   "cell_type": "code",
   "execution_count": 97,
   "metadata": {},
   "outputs": [
    {
     "data": {
      "text/plain": [
       "array([0.        , 0.33333333, 0.66666667, 1.        , 1.33333333,\n",
       "       1.66666667])"
      ]
     },
     "execution_count": 97,
     "metadata": {},
     "output_type": "execute_result"
    }
   ],
   "source": [
    "my_spaced_array = np.linspace(0,5/3,6)\n",
    "my_spaced_array"
   ]
  },
  {
   "cell_type": "markdown",
   "metadata": {},
   "source": [
    "<div class=\"aha-panel-body\">\n",
    "                    <h1 class=\"h2\">\n",
    "                        NumPy - Arrays - Attributes of a NumPy Array\n",
    "                    </h1>\n",
    "                    \n",
    "<p>NumPy array (ndarray class) is the most used construct of NumPy in Machine Learning and Deep Learning. Let us look into some important attributes of this NumPy array.</p>\n",
    "\n",
    "<p>Let us create a Numpy array first, say, <code>array_A</code>.</p>\n",
    "\n",
    "<p>Pass the above list to <code>array()</code> function of NumPy</p>\n",
    "\n",
    "<pre><code>array_A = np.array([ [3,4,6], [0,8,1] ])\n",
    "</code></pre>\n",
    "\n",
    "<p>Now, let us understand some important attributes of ndarray object using the above-created array <code>array_A</code>.</p>\n",
    "\n",
    "<p><strong>(1) ndarray.ndim</strong></p>\n",
    "\n",
    "<p><code>ndim</code> represents the number of dimensions (axes) of the ndarray.</p>\n",
    "\n",
    "<p>e.g. for this 2-dimensional array [ [3,4,6], [0,8,1]], value of <code>ndim</code> will be 2. \n",
    "This ndarray has two dimensions (axes) - rows (axis=0) and columns (axis=1)</p>\n",
    "\n",
    "<p><strong>(2) ndarray.shape</strong></p>\n",
    "\n",
    "<p><code>shape</code> is a tuple of integers representing the size of the ndarray in each dimension.</p>\n",
    "\n",
    "<p>e.g. for this 2-dimensional array [ [3,4,6], [0,8,1]], value of <code>shape</code> will be (2,3)\n",
    "because this ndarray has two dimensions - rows and columns - and the number of rows is 2 and the number of columns is 3</p>\n",
    "\n",
    "<p><strong>(3) ndarray.size</strong></p>\n",
    "\n",
    "<p><code>size</code> is the total number of elements in the ndarray. It is equal to the product of elements of the shape. \n",
    "e.g. for this 2-dimensional array [ [3,4,6], [0,8,1]], <code>shape</code> is (2,3), <code>size</code> will be product (multiplication) of 2 and 3 i.e. (2*3) = 6. Hence, the size is 6.</p>\n",
    "\n",
    "<p><strong>(4) ndarray.dtype</strong></p>\n",
    "\n",
    "<p><code>dtype</code> tells the data type of the elements of a NumPy array. In NumPy array, all the elements have the same data type.</p>\n",
    "\n",
    "<p>e.g. for this NumPy array [ [3,4,6], [0,8,1]], <code>dtype</code> will be <code>int64</code></p>\n",
    "\n",
    "<p><strong>(5) ndarray.itemsize</strong></p>\n",
    "\n",
    "<p><code>itemsize</code> returns the size (in bytes) of each element of a NumPy array. </p>\n",
    "\n",
    "<p>e.g. for this NumPy array [ [3,4,6], [0,8,1]], <code>itemsize</code> will be 8, because this array consists of integers and size of integer (in bytes) is 8 bytes.</p>\n",
    "\n",
    "                    \n",
    "</div>"
   ]
  },
  {
   "cell_type": "markdown",
   "metadata": {},
   "source": [
    "<div class=\"row\">\n",
    "    <div class=\"col-md-12\">\n",
    "        <div class=\"panel panel-default\">\n",
    "            <div class=\"panel-heading\">\n",
    "                <strong>\n",
    "                    INSTRUCTIONS\n",
    "                </strong>\n",
    "            </div>\n",
    "            <div class=\"panel-body\">\n",
    "                <div class=\"aha-panel-body\">\n",
    "                    \n",
    "<p>Please follow the below steps:</p>\n",
    "\n",
    "<p>(1) Please <code>import numpy as np</code></p>\n",
    "\n",
    "<p>(2) Create a NumPy array with name <code>my_array</code> with the below elements</p>\n",
    "\n",
    "<pre><code>[ [1, 4, 5, 6], [7, 8, 9, 10], [11, 12, 14, 16] ]\n",
    "</code></pre>\n",
    "\n",
    "<p>Now, based on the above-created array (<code>my_array</code>), please answer the questions in the next few slides.</p>\n",
    "\n",
    " </div>\n",
    "            </div>\n",
    "        </div>\n",
    "    </div>\n",
    "</div>"
   ]
  },
  {
   "cell_type": "code",
   "execution_count": 98,
   "metadata": {},
   "outputs": [
    {
     "data": {
      "text/plain": [
       "array([[ 1,  4,  5,  6],\n",
       "       [ 7,  8,  9, 10],\n",
       "       [11, 12, 14, 16]])"
      ]
     },
     "execution_count": 98,
     "metadata": {},
     "output_type": "execute_result"
    }
   ],
   "source": [
    "my_array = np.array([ [1, 4, 5, 6], [7, 8, 9, 10], [11, 12, 14, 16] ])\n",
    "my_array"
   ]
  },
  {
   "cell_type": "code",
   "execution_count": 99,
   "metadata": {},
   "outputs": [
    {
     "data": {
      "text/plain": [
       "2"
      ]
     },
     "execution_count": 99,
     "metadata": {},
     "output_type": "execute_result"
    }
   ],
   "source": [
    "# What is the dimension of NumPy array my_array ?\n",
    "my_array.ndim"
   ]
  },
  {
   "cell_type": "code",
   "execution_count": 100,
   "metadata": {},
   "outputs": [
    {
     "data": {
      "text/plain": [
       "(3, 4)"
      ]
     },
     "execution_count": 100,
     "metadata": {},
     "output_type": "execute_result"
    }
   ],
   "source": [
    "# What is the shape of NumPy array my_array ?\n",
    "my_array.shape\n"
   ]
  },
  {
   "cell_type": "code",
   "execution_count": 101,
   "metadata": {},
   "outputs": [
    {
     "data": {
      "text/plain": [
       "dtype('int64')"
      ]
     },
     "execution_count": 101,
     "metadata": {},
     "output_type": "execute_result"
    }
   ],
   "source": [
    "# What is the data type of elements of NumPy array my_array?\n",
    "my_array.dtype\n"
   ]
  },
  {
   "cell_type": "code",
   "execution_count": 102,
   "metadata": {},
   "outputs": [
    {
     "data": {
      "text/plain": [
       "12"
      ]
     },
     "execution_count": 102,
     "metadata": {},
     "output_type": "execute_result"
    }
   ],
   "source": [
    "# What is the size of NumPy array my_array?\n",
    "my_array.size\n"
   ]
  },
  {
   "cell_type": "code",
   "execution_count": 103,
   "metadata": {},
   "outputs": [
    {
     "data": {
      "text/plain": [
       "8"
      ]
     },
     "execution_count": 103,
     "metadata": {},
     "output_type": "execute_result"
    }
   ],
   "source": [
    "# What is the itemsize of NumPy array my_array?\n",
    "my_array.itemsize"
   ]
  },
  {
   "cell_type": "markdown",
   "metadata": {},
   "source": [
    "<div class=\"aha-panel-body\">\n",
    "\t\t\t\t\t<h1 class=\"h2\">\n",
    "\t\t\t\t\t\tNumpy - Arrays - Loading a text file data using NumPy's loadtxt() function  - Step 1\n",
    "\t\t\t\t\t</h1>\n",
    "\t\t\t\t\t\n",
    "<p>Although Pandas provides better ways and constructs to load a dataset from various sources like files, databases, etc. we should also know the NumPy constructs for the same.</p>\n",
    "\n",
    "<p>There are two ways (constructs) in NumPy to load data from a text file:</p>\n",
    "\n",
    "<p>(1) using <code>loadtxt()</code> function</p>\n",
    "\n",
    "<p>(2) using <code>genfromtxt()</code> function</p>\n",
    "\n",
    "<p><code>loadtxt()</code> function provides less flexibility, whereas <code>genfromtxt()</code> function provides more flexibility.</p>\n",
    "\n",
    "<p>For example, <code>genfromtxt()</code> function also handles the missing values kind of scenarios in the loaded dataset, whereas <code>loadtxt()</code> function doesn't.</p>\n",
    "\n",
    "<h3>Example of loadtxt()</h3>\n",
    "\n",
    "<pre><code>import numpy as np\n",
    "name_arr, address_arr, zipcode_arr = np.loadtxt('my_file.txt', skiprows=2, unpack=True)\n",
    "</code></pre>\n",
    "\n",
    "<p>The above piece of code will load the data from <code>my_file.txt</code> text file. </p>\n",
    "\n",
    "<p><code>skiprows=2</code> means, skip the first two rows of the <code>my_file.txt</code> file while loading the data.</p>\n",
    "\n",
    "<p><code>unpack=True</code> means, unpack the columns of the dataset being loaded and return the data of each column separately in separate arrays ( name column data in <code>name_arr</code> array,  address column data in <code>address_arr</code> array,  zipcode column data in <code>zipcode_arr</code> array).</p>\n",
    "\n",
    "<p><code>unpack=False</code> means, return only a single array as output from the <code>loadtxt()</code> function.</p>\n",
    "\n",
    "\t\t\t\t\t\n",
    "</div>"
   ]
  },
  {
   "cell_type": "markdown",
   "metadata": {},
   "source": [
    "<div class=\"aha-panel-body\">\n",
    "                    \n",
    "<p>Please follow the below steps:</p>\n",
    "\n",
    "<h3>(1) Import the required libraries</h3>\n",
    "\n",
    "<pre><code>import numpy as np\n",
    "import os\n",
    "</code></pre>\n",
    "\n",
    "<h3>(2) Load using pandas</h3>\n",
    "\n",
    "<p>Now we will use pandas to load data from a large csv file (California housing dataset) and create a small csv file (of housing data) by extracting only few rows of data from this large  housing.csv file.</p>\n",
    "\n",
    "<p>We are creating a smaller csv file of data, just for our convenience, to make it easy for us to load it using loadtxt() function.</p>\n",
    "\n",
    "<p>Don't worry if you don't know pandas yet, just copy and use the below pandas code as it is.</p>\n",
    "\n",
    "<pre><code>import pandas as pd\n",
    "# defining housing.csv file path\n",
    "HOUSING_PATH =  '/cxldata/datasets/project/housing'\n",
    "# reading the large housing.csv file using pandas\n",
    "housing_raw = pd.read_csv(os.path.join(HOUSING_PATH, \"housing.csv\"))\n",
    "# extracting only a few rows (5 rows) of data from the pandas dataframe 'my_df'\n",
    "my_df = housing_raw.iloc[ : 5]\n",
    "# creating a new small csv file - 'housing_short.csv' - containing the above extracted 5 rows of data\n",
    "my_df.to_csv('housing_short.csv', index=False)\n",
    "</code></pre>\n",
    "\n",
    "<h3>(3) Load using Numpy</h3>\n",
    "\n",
    "<p>Now, let us load the csv file - <code>housing_short.csv</code> - using NumPy's <code>loadtxt()</code> function</p>\n",
    "\n",
    "<p>please define a variable called FILE and assign to it the string value <code>housing_short.csv</code>.</p>\n",
    "\n",
    "<pre><code>FILE = '&lt;&lt;your code comes here&gt;&gt;'\n",
    "</code></pre>\n",
    "\n",
    "<h3>(4) Create Function</h3>\n",
    "\n",
    "<p>Please define a function called <code>load_housing_data()</code>, as shown below, which takes filename (FILE) as input and loads this file using NumPy's <code>loadtxt()</code> function. Just copy the below code as it is.</p>\n",
    "\n",
    "<pre><code>def load_housing_data(file = FILE ):\n",
    "    return np.loadtxt(file, dtype={'names': ('longitude','latitude','housing_median_age','total_rooms','total_bedrooms','population','households','median_income','median_house_value','ocean_proximity'),'formats': ('f8', 'f8', 'f8', 'f8', 'f8', 'f8', 'f8', 'f8', 'f8', '|S15')}, delimiter=',', skiprows=1, unpack=True)\n",
    "</code></pre>\n",
    "\n",
    "<h3>loadtxt() function parameters</h3>\n",
    "\n",
    "<p><strong>first parameter</strong> - file. It is the name of the file from which the data is to be loaded.</p>\n",
    "\n",
    "<p><strong>second parameter</strong> - data type <code>dtype</code> of columns of the loaded csv file <code>housing_short.csv</code>. It is a Python dictionary with <em>key as <code>names</code></em> of the columns, and  <em><code>values</code> as the data types</em> of these respective columns e.g. f8, |S15, etc.</p>\n",
    "\n",
    "<p>'f8' means  64-bit floating-point number</p>\n",
    "\n",
    "<p>'|S15' -means a string of length of 15 characters</p>\n",
    "\n",
    "<p><strong>third parameter</strong> - delimiter. It is the character by which values in a row of our csv file are separated. For example, in our case values of a row of our csv file - <code>housing_short.csv</code> - are separated by ',' (comma)</p>\n",
    "\n",
    "<p><strong>fourth parameter</strong> - skiprows. You can specify here, how many initial rows of the csv file you want to skip loading. E.g. you may want to skip the first row of this csv file, as it may contain header information in the first row, which you may not want to load.</p>\n",
    "\n",
    "<p><strong>fifth parameter</strong> - unpack. When unpack is True, the returned array is transposed, so that arguments may be unpacked using <code>x, y, z = loadtxt(...)</code>. When used with a structured data-type, arrays are returned for each field. The default value for unpack is False. But here we are returning the individual arrays so we have kept it here asTrue.</p>\n",
    "\n",
    "<h3>(5) Call the Function</h3>\n",
    "\n",
    "<p>Please call the above defined <code>load_housing_data()</code> function, which returns various column values as NumPy arrays</p>\n",
    "\n",
    "<pre><code>longitude_arr,latitude_arr,housing_median_age_arr,total_rooms_arr,total_bedrooms_arr,population_arr,households_arr,median_income_arr,median_house_value_arr,ocean_proximity_arr = load_housing_data()\n",
    "</code></pre>\n",
    "\n",
    "<h3>(6) Print</h3>\n",
    "\n",
    "<p>You can just check and confirm the values of one of the NumPy arrays (say <code>median_house_value_arr</code>) that you got above by printing the same using <code>print()</code> function</p>\n",
    "\n",
    "<pre><code>print(&lt;&lt;your code comes here&gt;&gt;)\n",
    "</code></pre>\n",
    "\n",
    "<p><code>median_house_value_arr</code> contains values of median_house_value column of the csv file - <code>housing_short.csv</code></p>\n",
    "\n",
    "                    \n",
    "</div>"
   ]
  },
  {
   "cell_type": "code",
   "execution_count": 104,
   "metadata": {},
   "outputs": [],
   "source": [
    "import numpy as np\n",
    "import os"
   ]
  },
  {
   "cell_type": "code",
   "execution_count": 105,
   "metadata": {},
   "outputs": [],
   "source": [
    "import pandas as pd\n",
    "# defining housing.csv file path\n",
    "HOUSING_PATH =  '/cxldata/datasets/project/housing'\n",
    "\n",
    "# reading the large housing.csv file using pandas\n",
    "housing_raw = pd.read_csv(os.path.join(HOUSING_PATH, \"housing.csv\"))\n",
    "\n",
    "# extracting only a few rows (5 rows) of data from the pandas dataframe 'my_df'\n",
    "my_df = housing_raw.iloc[ : 5]\n",
    "\n",
    "# creating a new small csv file - 'housing_short.csv' - containing the above extracted 5 rows of data\n",
    "my_df.to_csv('housing_short.csv', index=False)"
   ]
  },
  {
   "cell_type": "code",
   "execution_count": 106,
   "metadata": {},
   "outputs": [],
   "source": [
    "FILE = 'housing_short.csv'"
   ]
  },
  {
   "cell_type": "code",
   "execution_count": 107,
   "metadata": {},
   "outputs": [],
   "source": [
    "def load_housing_data(file = FILE ):\n",
    "    return np.loadtxt(file, dtype={'names': \n",
    "                                   ('longitude','latitude','housing_median_age','total_rooms','total_bedrooms','population','households','median_income','median_house_value','ocean_proximity'),\n",
    "                                   'formats': ('f8', 'f8', 'f8', 'f8', 'f8', 'f8', 'f8', 'f8', 'f8', '|S15')},\n",
    "                                    delimiter=',', skiprows=1, unpack=True)"
   ]
  },
  {
   "cell_type": "code",
   "execution_count": 108,
   "metadata": {},
   "outputs": [],
   "source": [
    "longitude_arr,latitude_arr,housing_median_age_arr,total_rooms_arr,total_bedrooms_arr,population_arr,households_arr,median_income_arr,median_house_value_arr,ocean_proximity_arr = load_housing_data()"
   ]
  },
  {
   "cell_type": "code",
   "execution_count": 109,
   "metadata": {},
   "outputs": [
    {
     "name": "stdout",
     "output_type": "stream",
     "text": [
      "[452600. 358500. 352100. 341300. 342200.]\n"
     ]
    }
   ],
   "source": [
    "print(median_house_value_arr)"
   ]
  },
  {
   "cell_type": "markdown",
   "metadata": {},
   "source": [
    "<div class=\"aha-panel-body\">\n",
    "                    <h1 class=\"h2\">\n",
    "                        Numpy - Arrays - Loading a text file data using NumPy's genfromtxt() function\n",
    "                    </h1>\n",
    "                    \n",
    "<p>As we discussed earlier, there are two ways (constructs) in NumPy to load data from a text file:</p>\n",
    "\n",
    "<p>(1) using <code>loadtxt()</code> function</p>\n",
    "\n",
    "<p>(2) using <code>genfromtxt()</code> function</p>\n",
    "\n",
    "<p><br></p>\n",
    "\n",
    "<p>Below is an example of using <code>genfromtxt()</code> function</p>\n",
    "\n",
    "<p><br></p>\n",
    "\n",
    "<h3>Example of <code>genfromtxt()</code></h3>\n",
    "\n",
    "<p><br></p>\n",
    "\n",
    "<p><code>genfromtxt()</code> function is very helpful when you are expecting some missing values in the dataset to be loaded. Below is a sample code </p>\n",
    "\n",
    "<pre><code>import numpy as np\n",
    "my_arr = np.genfromtxt('my_file.txt', skip_header=2, filling_values=9999999)\n",
    "</code></pre>\n",
    "\n",
    "<p>Here, if all your data in the dataset is of type integer then, by default, the string values are treated as missing values, and <code>genfromtxt()</code> function will replace these missing values (string values) with a <code>nan</code> value.</p>\n",
    "\n",
    "<p>If you want the missing values to be replaced with some other value other than <code>nan</code>, then, you can specify this particular value in the <code>filling_values</code> parameter. For example, in the above code, we are saying that if any missing values found, please replace it with value 9999999.</p>\n",
    "\n",
    "<p><code>genfromtxt()</code> function also trims any white spaces around the values being loaded. </p>\n",
    "\n",
    "<p>You can also specify if you want to load any maximum number of rows, in this case, only specified number of max. rows will be loaded.</p>\n",
    "\n",
    "                    \n",
    "</div>"
   ]
  },
  {
   "cell_type": "markdown",
   "metadata": {},
   "source": [
    "<div class=\"aha-panel-body\">\n",
    "                    \n",
    "<h3>Please follow the below steps:</h3>\n",
    "\n",
    "<p>(1) Please import the required libraries</p>\n",
    "\n",
    "<pre><code>import numpy as np\n",
    "import os\n",
    "</code></pre>\n",
    "\n",
    "<p>(2) Please create a variable HOUSING_PATH and assign to it the path of <code>housing.csv</code> file \n",
    "(<code>'/cxldata/datasets/project/housing'</code>) as a string</p>\n",
    "\n",
    "<pre><code>HOUSING_PATH = &lt;&lt;your code comes here&gt;&gt;\n",
    "</code></pre>\n",
    "\n",
    "<p>(3) Please define a complete path for your csv file <code>housing.csv</code> by using <code>os.path.join()</code> function, by passing to it the HOUSING_PATH and the csv file <code>housing.csv</code>, and save this complete path in a variable FILE.</p>\n",
    "\n",
    "<pre><code>FILE = os.path.join(HOUSING_PATH, &lt;&lt;your code comes here&gt;&gt;)\n",
    "</code></pre>\n",
    "\n",
    "<p>(4) Please define a function <code>load_housing_dataset()</code> and add to it the complete path of the csv file (FILE) just defined above. This function will load <code>housing.csv</code> file using <code>genfromtxt()</code> function.</p>\n",
    "\n",
    "<pre><code>def &lt;&lt;your code comes here&gt;&gt;(file =FILE ):\n",
    "    return np.genfromtxt(file, dtype={'names': ('longitude','latitude','housing_median_age','total_rooms','total_bedrooms','population','households','median_income','median_house_value','ocean_proximity'),'formats': ('f8', 'f8', 'f8', 'f8', 'f8', 'f8', 'f8', 'f8', 'f8', '|S15')}, delimiter=',', skip_header=1, filling_values = 99999999, unpack=False)\n",
    "</code></pre>\n",
    "\n",
    "<p><strong><code>genfromtxt()</code> function parameters:</strong></p>\n",
    "\n",
    "<p><strong>first parameter</strong> - name of the file from which the data is to be loaded.</p>\n",
    "\n",
    "<p><strong>second parameter</strong> - data type (dtype) of columns of the loaded csv file <code>housing.csv</code>. It is a Python dictionary with key as 'names' of the columns, and  'values' as the data types of these respective columns e.g. f8, |S15, etc.</p>\n",
    "\n",
    "<p>'f8' means  64-bit floating-point number\n",
    "'|S15' -means a string of length of 15 characters</p>\n",
    "\n",
    "<p><strong>third parameter</strong> - delimiter. Character by which values in a row of our csv file are separated. For example, in our case values of a row of our csv file  <code>housing.csv</code>  are separated by ',' (comma)</p>\n",
    "\n",
    "<p><strong>fourth parameter</strong> - skiprows. You can specify here, how many initial rows of the csv file you want to skip loading. E.g. you may want to skip the first row of this csv file, as it may contain header information in the first row, which you may not want to load.</p>\n",
    "\n",
    "<p><strong>fifth parameter</strong> - unpack. Same meaning as explained in <code>loadtxt()</code> function chapter.</p>\n",
    "\n",
    "<p>(5) Call the <code>load_housing_dataset()</code> function, as defined above, and store the output in a variable called result_arr</p>\n",
    "\n",
    "<pre><code>result_arr = &lt;&lt;your code comes here&gt;&gt;()\n",
    "</code></pre>\n",
    "\n",
    "<p>(6) Print the length (number of records) of <code>result_arr</code></p>\n",
    "\n",
    "<pre><code>print(&lt;&lt;your code comes here&gt;&gt;)\n",
    "</code></pre>\n",
    "\n",
    "<p>(7) Print array <code>result_arr</code> to see its values.</p>\n",
    "\n",
    "<pre><code>print(&lt;&lt;your code comes here&gt;&gt;)\n",
    "</code></pre>\n",
    "\n",
    "                    \n",
    " </div>"
   ]
  },
  {
   "cell_type": "code",
   "execution_count": 110,
   "metadata": {},
   "outputs": [],
   "source": [
    "import numpy as np\n",
    "import os"
   ]
  },
  {
   "cell_type": "code",
   "execution_count": 111,
   "metadata": {},
   "outputs": [],
   "source": [
    "HOUSING_PATH = '/cxldata/datasets/project/housing'"
   ]
  },
  {
   "cell_type": "code",
   "execution_count": 112,
   "metadata": {},
   "outputs": [],
   "source": [
    "FILE = os.path.join(HOUSING_PATH, 'housing.csv')"
   ]
  },
  {
   "cell_type": "code",
   "execution_count": 113,
   "metadata": {},
   "outputs": [],
   "source": [
    "def load_housing_dataset(file =FILE ):\n",
    "    return np.genfromtxt(file, dtype={'names': ('longitude','latitude','housing_median_age','total_rooms','total_bedrooms','population','households','median_income','median_house_value','ocean_proximity'),'formats': ('f8', 'f8', 'f8', 'f8', 'f8', 'f8', 'f8', 'f8', 'f8', '|S15')}, delimiter=',', skip_header=1, filling_values = 99999999, unpack=False)"
   ]
  },
  {
   "cell_type": "code",
   "execution_count": 114,
   "metadata": {},
   "outputs": [],
   "source": [
    "result_arr = load_housing_dataset()"
   ]
  },
  {
   "cell_type": "code",
   "execution_count": 115,
   "metadata": {},
   "outputs": [
    {
     "name": "stdout",
     "output_type": "stream",
     "text": [
      "20640\n"
     ]
    }
   ],
   "source": [
    "print(result_arr.size)"
   ]
  },
  {
   "cell_type": "code",
   "execution_count": 116,
   "metadata": {},
   "outputs": [
    {
     "name": "stdout",
     "output_type": "stream",
     "text": [
      "[(-122.23, 37.88, 41.,  880.,  129.,  322.,  126., 8.3252, 452600., b'NEAR BAY')\n",
      " (-122.22, 37.86, 21., 7099., 1106., 2401., 1138., 8.3014, 358500., b'NEAR BAY')\n",
      " (-122.24, 37.85, 52., 1467.,  190.,  496.,  177., 7.2574, 352100., b'NEAR BAY')\n",
      " ...\n",
      " (-121.22, 39.43, 17., 2254.,  485., 1007.,  433., 1.7   ,  92300., b'INLAND')\n",
      " (-121.32, 39.43, 18., 1860.,  409.,  741.,  349., 1.8672,  84700., b'INLAND')\n",
      " (-121.24, 39.37, 16., 2785.,  616., 1387.,  530., 2.3886,  89400., b'INLAND')]\n"
     ]
    }
   ],
   "source": [
    "print(result_arr)"
   ]
  },
  {
   "cell_type": "markdown",
   "metadata": {},
   "source": [
    "### NumPy - Arrays - Resizing an Array\n",
    "Resize()\n",
    "<div class=\"aha-panel-body\">\n",
    "                    \n",
    "<p>Please follow the below-mentioned steps:</p>\n",
    "\n",
    "<p>(1) Please <code>import numpy as np</code></p>\n",
    "\n",
    "<p>(2) Please create a (2X4) numpy array (i.e. with 2 rows and 4 columns)  called <code>my_arr</code> with values - 1,2,3,4,5,6,7 and 8,  using <code>array()</code> function of numpy library </p>\n",
    "\n",
    "<pre><code>&lt;&lt;your code comes here&gt;&gt; = np.array(&lt;&lt;your code comes here&gt;&gt;)\n",
    "</code></pre>\n",
    "\n",
    "<p>(3) Please apply <code>resize()</code> function on this <code>my_arr</code> array to convert this (2X4) array into a (3x4) array.</p>\n",
    "\n",
    "<pre><code>my_arr.resize(&lt;&lt;your code comes here&gt;&gt;)\n",
    "</code></pre>\n",
    "\n",
    "<p>(4) Please print this array (<code>my_arr</code>) to see its values</p>\n",
    "\n",
    "                    \n",
    "</div>"
   ]
  },
  {
   "cell_type": "code",
   "execution_count": 117,
   "metadata": {},
   "outputs": [],
   "source": [
    "my_arr = np.array([[1,2,3,4],[5,6,7,8]])"
   ]
  },
  {
   "cell_type": "code",
   "execution_count": 118,
   "metadata": {},
   "outputs": [],
   "source": [
    "my_arr.resize(3,4)"
   ]
  },
  {
   "cell_type": "code",
   "execution_count": 119,
   "metadata": {},
   "outputs": [
    {
     "name": "stdout",
     "output_type": "stream",
     "text": [
      "[[1 2 3 4]\n",
      " [5 6 7 8]\n",
      " [0 0 0 0]]\n"
     ]
    }
   ],
   "source": [
    "print(my_arr)"
   ]
  },
  {
   "cell_type": "markdown",
   "metadata": {},
   "source": [
    "<h3>Difference between resize() and reshape() :</h3>\n",
    "<p><strong>reshape()</strong> will create an array with the same number of elements as the original array, i.e. of the same ‘size’ as that of the original array. If you want to convert the original array to a bigger array, <code>reshape()</code> can’t add more elements(than available in the original array) to give you a bigger array. Hence, <code>reshape()</code> is used to create a new array of the same size (as the original array) but of different desired dimensions.</p>\n",
    "\n",
    "<p><strong>resize()</strong> can create an array of larger size than the original array. To convert the original array into a bigger array, <code>resize()</code> will add more elements (than available in the original array) by copying the existing elements (repeated as many times as required) to fill the desired larger size. <code>resize()</code> is used to create a new array of different sizes and dimensions.</p>"
   ]
  },
  {
   "cell_type": "markdown",
   "metadata": {},
   "source": [
    "<div class=\"aha-panel-body\">\n",
    "                    \n",
    "<p>Please follow the below-mentioned steps:</p>\n",
    "\n",
    "<p><br>\n",
    "<strong>First case:</strong> When, for the reshaped array,  the number of desired rows and columns are known.\n",
    "<br>\n",
    "<br>\n",
    "(1) Please <code>import numpy as np</code></p>\n",
    "\n",
    "<p>(2) Please create a 1-D numpy array called <code>my_first_arr</code> with values - 1,2,3,4,5,6,7 and 8,  using <code>array()</code> function of numpy library </p>\n",
    "\n",
    "<pre><code>&lt;&lt;your code comes here&gt;&gt; = np.array(&lt;&lt;your code comes here&gt;&gt;)\n",
    "</code></pre>\n",
    "\n",
    "<p>(3) Please apply <code>reshape()</code> function on this <code>my_first_arr</code> array to convert this 1-D array into a (2x4) array and store this newly created (2x4) array in a variable called <code>my_new_arr</code></p>\n",
    "\n",
    "<pre><code>&lt;&lt;your code comes here&gt;&gt; = my_first_arr.reshape(&lt;&lt;your code comes here&gt;&gt;)\n",
    "</code></pre>\n",
    "\n",
    "<p>(4) Please print this new array (<code>my_new_arr</code>) to see its values</p>\n",
    "\n",
    "<p>(5) Please print the existing array (<code>my_first_arr</code>) to see its values</p>\n",
    "\n",
    "<p><br>\n",
    "<strong>Second case:</strong> When, for the reshaped array,  the number of desired columns is known, but the desired number of rows is not known.\n",
    "<br>\n",
    "<br>\n",
    "(1) Please <code>import numpy as np</code></p>\n",
    "\n",
    "<p>(2) Please create a 1-D numpy array called <code>my_second_arr</code> with values - 0,1,2,3,4,5,6,7 and 8,  using <code>array()</code> function of numpy library </p>\n",
    "\n",
    "<pre><code>&lt;&lt;your code comes here&gt;&gt; = np.array(&lt;&lt;your code comes here&gt;&gt;)\n",
    "</code></pre>\n",
    "\n",
    "<p>(3) Please apply <code>reshape()</code> function on this <code>my_second_arr</code> array to convert this 1-D array into an array with 3 columns but unknown number of rows, and store this newly created array in a variable called <code>my_updated_arr</code></p>\n",
    "\n",
    "<pre><code>&lt;&lt;your code comes here&gt;&gt; = my_second_arr.reshape(&lt;&lt;your code comes here&gt;&gt;)\n",
    "</code></pre>\n",
    "\n",
    "<p>(4) Please print this new array (<code>my_updated_arr</code>) to see its values</p>\n",
    "\n",
    "<p>(5) Please print the existing array (<code>my_second_arr</code>) to see its values</p>\n",
    "\n",
    "                    \n",
    "</div>"
   ]
  },
  {
   "cell_type": "code",
   "execution_count": 120,
   "metadata": {},
   "outputs": [],
   "source": [
    "my_first_arr = np.array([1,2,3,4,5,6,7,8])"
   ]
  },
  {
   "cell_type": "code",
   "execution_count": 121,
   "metadata": {},
   "outputs": [],
   "source": [
    "my_new_arr = my_first_arr.reshape(2,4)"
   ]
  },
  {
   "cell_type": "code",
   "execution_count": 122,
   "metadata": {},
   "outputs": [
    {
     "name": "stdout",
     "output_type": "stream",
     "text": [
      "[[1 2 3 4]\n",
      " [5 6 7 8]]\n"
     ]
    }
   ],
   "source": [
    "print(my_new_arr)"
   ]
  },
  {
   "cell_type": "code",
   "execution_count": 123,
   "metadata": {},
   "outputs": [
    {
     "name": "stdout",
     "output_type": "stream",
     "text": [
      "[1 2 3 4 5 6 7 8]\n"
     ]
    }
   ],
   "source": [
    "print(my_first_arr)"
   ]
  },
  {
   "cell_type": "code",
   "execution_count": 124,
   "metadata": {},
   "outputs": [],
   "source": [
    "# Second case\n",
    "my_second_arr = np.array([0,1,2,3,4,5,6,7,8])"
   ]
  },
  {
   "cell_type": "code",
   "execution_count": 125,
   "metadata": {},
   "outputs": [],
   "source": [
    "my_updated_arr = my_second_arr.reshape(-1, 3)   #unknown rows"
   ]
  },
  {
   "cell_type": "code",
   "execution_count": 126,
   "metadata": {},
   "outputs": [
    {
     "name": "stdout",
     "output_type": "stream",
     "text": [
      "[[0 1 2]\n",
      " [3 4 5]\n",
      " [6 7 8]]\n"
     ]
    }
   ],
   "source": [
    "print(my_updated_arr)"
   ]
  },
  {
   "cell_type": "code",
   "execution_count": 127,
   "metadata": {},
   "outputs": [
    {
     "name": "stdout",
     "output_type": "stream",
     "text": [
      "[0 1 2 3 4 5 6 7 8]\n"
     ]
    }
   ],
   "source": [
    "print(my_second_arr)"
   ]
  },
  {
   "cell_type": "markdown",
   "metadata": {},
   "source": [
    "### Numpy - Arrays - Indexing and Array Slicing\n",
    "<div class=\"aha-panel-body\">\n",
    "                    \n",
    "<p>Please follow the below instructions to try the below problems using array index slicing technique:</p>\n",
    "\n",
    "<pre><code>Please import numpy as np\n",
    "</code></pre>\n",
    "\n",
    "<p><br></p>\n",
    "\n",
    "<h3>Reversing of an array elements</h3>\n",
    "\n",
    "<p><br>\n",
    "<br>\n",
    "(1) Please define a NumPy array with name <code>my_orig_arr</code> having following elements (1, 15, 3, 9, 26, 7, 89, 12) </p>\n",
    "\n",
    "<pre><code>my_orig_arr = np.array(&lt;&lt;your code comes here&gt;&gt;)\n",
    "</code></pre>\n",
    "\n",
    "<p>(2) Please reverse the elements of the above array by using the below syntax and store the result in a variable called <code>my_rev_arr</code></p>\n",
    "\n",
    "<pre><code>&lt;&lt; your code comes here&gt;&gt; = my_orig_arr[ : : -1]\n",
    "</code></pre>\n",
    "\n",
    "<p>(3) Now print this array <code>my_rev_arr</code> that you got above to see its values</p>\n",
    "\n",
    "<pre><code>print(&lt;&lt;your code comes here&gt;&gt;)\n",
    "</code></pre>\n",
    "\n",
    "<p><br></p>\n",
    "\n",
    "<h3>Replacing selected elements of a NumPy array by a specific value</h3>\n",
    "\n",
    "<p><br>\n",
    "<br></p>\n",
    "\n",
    "<ul>\n",
    "<li><p>Create a new array <code>my_orig_arr2</code> having following elements (2, 9, 17, 13, 1, 4, 20, 57).</p>\n",
    "\n",
    "<pre><code>my_orig_arr2 = np.array(&lt;&lt;your code comes here&gt;&gt;)\n",
    "</code></pre></li>\n",
    "<li><p>Say, you want to replace a few elements (say from index 2 to 5) of the above NumPy array <code>my_orig_arr2</code> by a value <code>-6</code>, you can do so by following the below steps:</p>\n",
    "\n",
    "<pre><code>my_orig_arr2[2 : 5] = -6\n",
    "</code></pre></li>\n",
    "<li><p>Please print this NumPy array <code>my_orig_arr2</code> to see its values (please note that only values at indexes 2, 3, 4 will be replaced, not the 5th index value)</p>\n",
    "\n",
    "<pre><code>print(&lt;&lt;your code comes here&gt;&gt;)\n",
    "</code></pre></li>\n",
    "</ul>\n",
    "\n",
    "<p><strong>Please remember that this is only possible in a NumPy array, if you try to do this with a normal Python array, you will get an error.</strong></p>\n",
    "\n",
    "<p>e.g.</p>\n",
    "\n",
    "<p>(1) Please create a normal Python array</p>\n",
    "\n",
    "<pre><code>arr = [1, 3, 5, 10, 4, 15]\n",
    "</code></pre>\n",
    "\n",
    "<p><code>arr</code> is a normal Python array here. </p>\n",
    "\n",
    "<p>(2) Please try to replace some of its values with a value say <code>-3</code>, you will get an error</p>\n",
    "\n",
    "<pre><code>arr[1 : 4]  = -3\n",
    "</code></pre>\n",
    "\n",
    "<p><br></p>\n",
    "\n",
    "<h3>Extracting a slice(portion) of a NumPy array</h3>\n",
    "\n",
    "<p><br></p>\n",
    "\n",
    "<p>To extract a slice (portion) of a NumPy array, please follow the below steps:</p>\n",
    "\n",
    "<p>(1) Define a NumPy array with name <code>apple</code> with values (1, 8, 23, 3, 18, 91, 7, 15)</p>\n",
    "\n",
    "<pre><code>apple = np.array(&lt;&lt;your code comes here&gt;&gt;)\n",
    "</code></pre>\n",
    "\n",
    "<p>(2) Extract a portion of this NumPy array  <code>apple</code> from index 1 to 4 (by using the below syntax) and store it in a variable <code>apple_slice</code></p>\n",
    "\n",
    "<pre><code>&lt;&lt;your code comes here&gt;&gt; = apple[1 : 4]\n",
    "</code></pre>\n",
    "\n",
    "<p>(3) Print array <code>apple_slice</code> using the <code>print()</code> function to see its values</p>\n",
    "\n",
    "<pre><code>print(&lt;&lt;your code comes here&gt;&gt;)\n",
    "</code></pre>\n",
    "\n",
    "<p>(4) Print array <code>apple</code> using the <code>print()</code> function to see its values are intact</p>\n",
    "\n",
    "<pre><code>print(&lt;&lt;your code comes here&gt;&gt;)\n",
    "</code></pre>\n",
    "\n",
    "<p><strong>If you change (replace) value in this slice (<code>apple_slice</code> array), the corresponding value will also get modified in its parent array <code>apple</code>.</strong> </p>\n",
    "\n",
    "<p>Please follow the below steps to check this for yourself.</p>\n",
    "\n",
    "<p>(1) Replace 2nd element of array <code>apple_slice</code> by a value say <code>99999</code></p>\n",
    "\n",
    "<pre><code>apple_slice[1] = 99999\n",
    "</code></pre>\n",
    "\n",
    "<p>please remember 2nd element will have an index of '<code>1</code>'</p>\n",
    "\n",
    "<p>(3) Print array <code>apple_slice</code> using the <code>print()</code> function to see its values, 2nd element should be 99999 now</p>\n",
    "\n",
    "<pre><code>print(&lt;&lt;your code comes here&gt;&gt;)\n",
    "</code></pre>\n",
    "\n",
    "<p>(4) Print array <code>apple</code> using the <code>print()</code> function to see its values, the corresponding original value in the parent array <code>apple</code> should also have been changed to <code>99999</code></p>\n",
    "\n",
    "<pre><code>print(&lt;&lt;your code comes here&gt;&gt;)\n",
    "</code></pre>\n",
    "\n",
    "<p><strong>Original (parent) array from which the slice was extracted also gets modified if the slice value is modified.</strong></p>\n",
    "\n",
    "<p><strong>If you don't want original (parent) array values to get modified when its slice values are changing, you can create the slice by using a <code>copy()</code> function in the slicing code syntax</strong></p>\n",
    "\n",
    "<ul>\n",
    "<li>Suppose you don't want your parent (original) array values to get modified when its slice values are changing. You can achieve this by using the <code>copy()</code> function in the previous code syntax to create a slice.</li>\n",
    "</ul>\n",
    "\n",
    "<p>Please follow the below steps:</p>\n",
    "\n",
    "<p>(1) Please create a new slice from the <code>apple</code> array by using <code>copy()</code> function in the syntax, as shown below:</p>\n",
    "\n",
    "<pre><code>apple_slice_new = apple[2 : 5].copy()\n",
    "</code></pre>\n",
    "\n",
    "<p>(2) Replace 2nd element of array <code>apple_slice_new</code> by a value say <code>222222</code></p>\n",
    "\n",
    "<pre><code>apple_slice_new[1] = 222222\n",
    "</code></pre>\n",
    "\n",
    "<p>please remember 2nd element will have an index of '<code>1</code>'</p>\n",
    "\n",
    "<p>(3) Print slice array <code>apple_slice_new</code> using the <code>print()</code> function to see its values, 2nd element should be <code>222222</code> now</p>\n",
    "\n",
    "<pre><code>print(&lt;&lt;your code comes here&gt;&gt;)\n",
    "</code></pre>\n",
    "\n",
    "<p>(4) Print parent array <code>apple</code> using the <code>print()</code> function to see its values, the parent array <code>apple</code> should be intact (no values modified).</p>\n",
    "\n",
    "<pre><code>print(&lt;&lt;your code comes here&gt;&gt;)\n",
    "</code></pre>\n",
    "\n",
    "<p><strong>Original (parent) array from which the slice was extracted using the <code>copy()</code> function doesn't get modified if the slice value is modified.</strong></p>\n",
    "\n",
    "                    \n",
    "</div>"
   ]
  },
  {
   "cell_type": "code",
   "execution_count": 128,
   "metadata": {},
   "outputs": [],
   "source": [
    "my_orig_arr = np.array([1, 15, 3, 9, 26, 7, 89, 12])"
   ]
  },
  {
   "cell_type": "code",
   "execution_count": 129,
   "metadata": {},
   "outputs": [
    {
     "name": "stdout",
     "output_type": "stream",
     "text": [
      "[12 89  7 26  9  3 15  1]\n"
     ]
    }
   ],
   "source": [
    "# Reversing of an array elements\n",
    "my_rev_arr = my_orig_arr[ : : -1]\n",
    "print(my_rev_arr)"
   ]
  },
  {
   "cell_type": "code",
   "execution_count": 130,
   "metadata": {},
   "outputs": [
    {
     "name": "stdout",
     "output_type": "stream",
     "text": [
      "[ 2  9 -6 -6 -6  4 20 57]\n"
     ]
    }
   ],
   "source": [
    "#Replacing selected elements of a NumPy array by a specific value\n",
    "my_orig_arr2 = np.array([2, 9, 17, 13, 1, 4, 20, 57])\n",
    "my_orig_arr2[2 : 5] = -6\n",
    "print(my_orig_arr2)"
   ]
  },
  {
   "cell_type": "code",
   "execution_count": 131,
   "metadata": {},
   "outputs": [],
   "source": [
    "# Please remember that this is only possible in a NumPy array, \n",
    "# if you try to do this with a normal Python array, you will get an error.\n",
    "# arr = [1, 3, 5, 10, 4, 15]\n",
    "# arr[1 : 4]  = -3\n",
    "import numpy as np"
   ]
  },
  {
   "cell_type": "code",
   "execution_count": 132,
   "metadata": {},
   "outputs": [
    {
     "name": "stdout",
     "output_type": "stream",
     "text": [
      "[ 8 23  3]\n",
      "[ 1  8 23  3 18 91  7 15]\n"
     ]
    }
   ],
   "source": [
    "# Extracting a slice(portion) of a NumPy array\n",
    "apple = np.array([1, 8, 23, 3, 18, 91, 7, 15])\n",
    "apple_slice = apple[1 : 4]\n",
    "print(apple_slice)\n",
    "print(apple)"
   ]
  },
  {
   "cell_type": "markdown",
   "metadata": {},
   "source": [
    "**** If you change (replace) value in this slice (apple_slice array), the corresponding value will also get modified in its parent array apple. ****"
   ]
  },
  {
   "cell_type": "code",
   "execution_count": 133,
   "metadata": {},
   "outputs": [
    {
     "name": "stdout",
     "output_type": "stream",
     "text": [
      "[    8 99999     3]\n"
     ]
    }
   ],
   "source": [
    "apple_slice[1] = 99999\n",
    "print(apple_slice)"
   ]
  },
  {
   "cell_type": "code",
   "execution_count": 134,
   "metadata": {},
   "outputs": [
    {
     "name": "stdout",
     "output_type": "stream",
     "text": [
      "[    1     8 99999     3    18    91     7    15]\n"
     ]
    }
   ],
   "source": [
    "print(apple)"
   ]
  },
  {
   "cell_type": "markdown",
   "metadata": {},
   "source": [
    "Original (parent) array from which the slice was extracted also gets modified if the slice value is modified.\n",
    "\n",
    "If you don't want original (parent) array values to get modified when its slice values are changing, you can create the slice by using a copy() function in the slicing code syntax"
   ]
  },
  {
   "cell_type": "code",
   "execution_count": 135,
   "metadata": {},
   "outputs": [
    {
     "name": "stdout",
     "output_type": "stream",
     "text": [
      "[ 99999 222222     18]\n"
     ]
    }
   ],
   "source": [
    "apple_slice_new = apple[2 : 5].copy()\n",
    "apple_slice_new[1] = 222222\n",
    "print(apple_slice_new)"
   ]
  },
  {
   "cell_type": "code",
   "execution_count": 136,
   "metadata": {},
   "outputs": [
    {
     "name": "stdout",
     "output_type": "stream",
     "text": [
      "[    1     8 99999     3    18    91     7    15]\n"
     ]
    }
   ],
   "source": [
    "print(apple)"
   ]
  },
  {
   "cell_type": "markdown",
   "metadata": {},
   "source": [
    "Original (parent) array from which the slice was extracted using the copy() function doesn't get modified if the slice value is modified.\n"
   ]
  },
  {
   "cell_type": "markdown",
   "metadata": {},
   "source": [
    "#### Numpy - Arrays - Example - Extracting a portion of an image using array slicing"
   ]
  },
  {
   "cell_type": "markdown",
   "metadata": {},
   "source": [
    "<div class=\"aha-panel-body\">\n",
    "                    \n",
    "<p>Please follow the below steps:</p>\n",
    "\n",
    "<p>(1) Please import the required libraries</p>\n",
    "\n",
    "<pre><code>import numpy as np\n",
    "from sklearn.datasets import load_sample_image\n",
    "</code></pre>\n",
    "\n",
    "<p>(2) Let us use the <code>load_sample_images</code> function to load <code>china.jpg</code> image and store the loaded image in a variable called <code>china</code></p>\n",
    "\n",
    "<pre><code>china = load_sample_image(\"china.jpg\")\n",
    "</code></pre>\n",
    "\n",
    "<p>(3) Please check the shape of <code>china</code> array</p>\n",
    "\n",
    "<pre><code>china.&lt;&lt;your code comes here&gt;&gt;\n",
    "</code></pre>\n",
    "\n",
    "<p>the shape of <code>china</code> array is <code>(427, 640, 3)</code></p>\n",
    "\n",
    "<p>Let us see the structure of this <code>china</code> array and then we will try to understand each value in this shape.</p>\n",
    "\n",
    "<p><code>china</code> is a 3-dimensional numpy array, and it looks something like below</p>\n",
    "\n",
    "<pre><code>[\n",
    "      [ [174, 201, 231], [250, 251, 255],...........]    - row 0\n",
    "      [ [172, 199, 229], [251, 252, 255],...........]    - row 1\n",
    "      .\n",
    "      .\n",
    "]\n",
    "</code></pre>\n",
    "\n",
    "<p>Hence, in <code>china</code> array, we see that \n",
    "<br></p>\n",
    "\n",
    "<ul>\n",
    "<li>there are some rows - the second level brackets ('<code>[</code>') represents rows. Like this, we have <strong>427</strong> rows.</li>\n",
    "<li>each row has some pixels (each sub-array like <code>[174, 201, 231]</code> in the row represents a pixel). Like this we have <strong>640</strong> pixels in each row.</li>\n",
    "<li>the <strong>3</strong> values inside each pixel array ( [<code>174, 201, 231</code>] ) represent colour codes for the colour of this pixel. e.g. 174, 201 and 231 combinedly may be representing a dark brown colour (colour of this pixel of the china image).</li>\n",
    "</ul>\n",
    "\n",
    "<p><br>\n",
    "If you see the values above (marked in bold font), you will know what each value of the shape (427, 640, 3) represents in the china array.</p>\n",
    "\n",
    "<p>(4) Just for simplifying the things, let us extract a small portion of this <code>china</code> numpy array and store it in a variable called <code>image</code>.\n",
    "Here, we are extracting (slicing) a portion (<code>image</code>) of <code>china</code> array from row number 150 to 220 and column number 130 to 250.</p>\n",
    "\n",
    "<pre><code>image = china[150:220, 130:250]\n",
    "</code></pre>\n",
    "\n",
    "<p>Now, let us check the shape of this <code>image</code> array by using the below code</p>\n",
    "\n",
    "<pre><code>image.&lt;&lt;your code comes here&gt;&gt;\n",
    "</code></pre>\n",
    "\n",
    "<p>(5) Please store each value of shape 'tuple' separately in variables - <code>height</code>, <code>width</code> and <code>channels</code></p>\n",
    "\n",
    "<pre><code>height, width, channels = image.shape\n",
    "</code></pre>\n",
    "\n",
    "<p>Here, <code>channels</code> are nothing but the number of colour codes i.e. 3.</p>\n",
    "\n",
    "<p>(6) Let us convert the coloured <code>image</code> into a grayscale image (<code>image_grayscale</code>), by replacing the values which are along the <code>axis=2</code>, by their mean value.</p>\n",
    "\n",
    "<p>Do you remember the concept of axis explained earlier? \n",
    "<br></p>\n",
    "\n",
    "<ul>\n",
    "<li><code>axis=0</code> represents the first dimension of an array, i.e. it represents the row</li>\n",
    "<li><code>axis=1</code> represents the second dimension of an array, i.e. it represents the column</li>\n",
    "<li><code>axis=2</code> represents the third dimension of an array, in this case, the third dimension is <code>channels</code>.\n",
    "<br></li>\n",
    "</ul>\n",
    "\n",
    "<p><code>channels</code> (<code>axis=2</code>) has 3 values (e.g. [68, 39, 44] ), and, mean of these 3 values  is 50.33\n",
    "Hence, value [68, 39, 44] will be replaced with value 50.33 after the step - <code>image.mean(axis=2)</code></p>\n",
    "\n",
    "<pre><code>   image_grayscale = image.mean(axis=2).astype(np.float32)\n",
    "</code></pre>\n",
    "\n",
    "<p>Now, let us check the shape of this <code>image_grayscale</code> array by using the below code</p>\n",
    "\n",
    "<pre><code>image_grayscale.&lt;&lt;your code comes here&gt;&gt;\n",
    "</code></pre>\n",
    "\n",
    "<p>(7) Now, let us reshape this <code>image_grayscale</code> array into a 4-dimensional array (from existing 2-dimensions) and store the output in a variable called <code>images</code>.</p>\n",
    "\n",
    "<pre><code>&lt;&lt;your code comes here&gt;&gt; = image_grayscale.reshape(1, height, width, 1)\n",
    "</code></pre>\n",
    "\n",
    "<p>(8) Please check dimensions of <code>images</code> array</p>\n",
    "\n",
    "<pre><code>images.&lt;&lt;your code comes here&gt;&gt;\n",
    "</code></pre>\n",
    "\n",
    "                    \n",
    "</div>"
   ]
  },
  {
   "cell_type": "code",
   "execution_count": 137,
   "metadata": {},
   "outputs": [],
   "source": [
    "#(1) Please import the required libraries\n",
    "from sklearn.datasets import load_sample_image"
   ]
  },
  {
   "cell_type": "code",
   "execution_count": 138,
   "metadata": {},
   "outputs": [
    {
     "data": {
      "text/plain": [
       "(427, 640, 3)"
      ]
     },
     "execution_count": 138,
     "metadata": {},
     "output_type": "execute_result"
    }
   ],
   "source": [
    "#(2) Let us use the load_sample_images function to load china.jpg image and store the loaded image in a variable called china\n",
    "china = load_sample_image(\"china.jpg\")\n",
    "china.shape"
   ]
  },
  {
   "cell_type": "code",
   "execution_count": 139,
   "metadata": {},
   "outputs": [
    {
     "name": "stdout",
     "output_type": "stream",
     "text": [
      "[[[174 201 231]\n",
      "  [174 201 231]\n",
      "  [174 201 231]\n",
      "  ...\n",
      "  [250 251 255]\n",
      "  [250 251 255]\n",
      "  [250 251 255]]\n",
      "\n",
      " [[172 199 229]\n",
      "  [173 200 230]\n",
      "  [173 200 230]\n",
      "  ...\n",
      "  [251 252 255]\n",
      "  [251 252 255]\n",
      "  [251 252 255]]\n",
      "\n",
      " [[174 201 231]\n",
      "  [174 201 231]\n",
      "  [174 201 231]\n",
      "  ...\n",
      "  [252 253 255]\n",
      "  [252 253 255]\n",
      "  [252 253 255]]\n",
      "\n",
      " ...\n",
      "\n",
      " [[ 88  80   7]\n",
      "  [147 138  69]\n",
      "  [122 116  38]\n",
      "  ...\n",
      "  [ 39  42  33]\n",
      "  [  8  14   2]\n",
      "  [  6  12   0]]\n",
      "\n",
      " [[122 112  41]\n",
      "  [129 120  53]\n",
      "  [118 112  36]\n",
      "  ...\n",
      "  [  9  12   3]\n",
      "  [  9  15   3]\n",
      "  [ 16  24   9]]\n",
      "\n",
      " [[116 103  35]\n",
      "  [104  93  31]\n",
      "  [108 102  28]\n",
      "  ...\n",
      "  [ 43  49  39]\n",
      "  [ 13  21   6]\n",
      "  [ 15  24   7]]]\n"
     ]
    }
   ],
   "source": [
    "print(china)"
   ]
  },
  {
   "cell_type": "code",
   "execution_count": 140,
   "metadata": {},
   "outputs": [],
   "source": [
    "# (4) Just for simplifying the things, let us extract a small portion of this china numpy array and store it in a variable called image. \n",
    "# Here, we are extracting (slicing) a portion (image) of china array from row number 150 to 220 and column number 130 to 250.\n",
    "image = china[ 150:220, 130:250]"
   ]
  },
  {
   "cell_type": "code",
   "execution_count": 141,
   "metadata": {},
   "outputs": [
    {
     "data": {
      "text/plain": [
       "(70, 120, 3)"
      ]
     },
     "execution_count": 141,
     "metadata": {},
     "output_type": "execute_result"
    }
   ],
   "source": [
    "# Now, let us check the shape of this image array by using the below code\n",
    "image.shape"
   ]
  },
  {
   "cell_type": "code",
   "execution_count": 142,
   "metadata": {},
   "outputs": [],
   "source": [
    "# (5) Please store each value of shape 'tuple' separately in variables - height, width and channels\n",
    "height, width, channels = image.shape"
   ]
  },
  {
   "cell_type": "code",
   "execution_count": 143,
   "metadata": {},
   "outputs": [],
   "source": [
    "# (6) Let us convert the coloured image into a grayscale image (image_grayscale), by replacing the values which are along the axis=2, by their mean value.\n",
    "image_grayscale = image.mean(axis=2).astype(np.float32)"
   ]
  },
  {
   "cell_type": "code",
   "execution_count": 144,
   "metadata": {},
   "outputs": [
    {
     "data": {
      "text/plain": [
       "(70, 120)"
      ]
     },
     "execution_count": 144,
     "metadata": {},
     "output_type": "execute_result"
    }
   ],
   "source": [
    "# Now, let us check the shape of this image_grayscale array by using the below code\n",
    "image_grayscale.shape"
   ]
  },
  {
   "cell_type": "code",
   "execution_count": 145,
   "metadata": {},
   "outputs": [],
   "source": [
    "# (7) Now, let us reshape this image_grayscale array into a 4-dimensional array (from existing 2-dimensions) and store the output in a variable called images.\n",
    "images = image_grayscale.reshape(1, height, width, 1)"
   ]
  },
  {
   "cell_type": "code",
   "execution_count": 146,
   "metadata": {},
   "outputs": [
    {
     "data": {
      "text/plain": [
       "4"
      ]
     },
     "execution_count": 146,
     "metadata": {},
     "output_type": "execute_result"
    }
   ],
   "source": [
    "# (8) Please check dimensions of images array\n",
    "images.ndim"
   ]
  },
  {
   "cell_type": "markdown",
   "metadata": {},
   "source": [
    "#### Numpy - Arrays - Multi-Dimensional Arrays and Boolean Indexing\n",
    "\n",
    "\n",
    "<div class=\"aha-panel-body\">\n",
    "                    \n",
    "<p>Please follow the below steps:</p>\n",
    "\n",
    "<p>(1) Import numpy as np</p>\n",
    "\n",
    "<p>(2) Create a 4x5 (4 rows, 5 columns) NumPy array called <code>my_multi_arr</code> </p>\n",
    "\n",
    "<pre><code>my_multi_arr = np.arange(20).reshape(&lt;&lt;your code comes here&gt;&gt;)\n",
    "</code></pre>\n",
    "\n",
    "<p>(3) Extract values from row index numbers 2 to 4 and from column index numbers 2 to 5, and store it in a variable called <code>my_multi_arr_portion</code></p>\n",
    "\n",
    "<pre><code>my_multi_arr_portion = my_multi_arr[&lt;&lt;your code comes here&gt;&gt;]\n",
    "</code></pre>\n",
    "\n",
    "<p>(4) Print the <code>my_multi_arr_portion</code> array using <code>print()</code> function to see its values</p>\n",
    "\n",
    "<pre><code>print(&lt;&lt;your code comes here&gt;&gt;)\n",
    "</code></pre>\n",
    "\n",
    "                    \n",
    "</div>"
   ]
  },
  {
   "cell_type": "code",
   "execution_count": 147,
   "metadata": {},
   "outputs": [
    {
     "name": "stdout",
     "output_type": "stream",
     "text": [
      "[[ 0  1  2  3  4]\n",
      " [ 5  6  7  8  9]\n",
      " [10 11 12 13 14]\n",
      " [15 16 17 18 19]]\n"
     ]
    }
   ],
   "source": [
    "my_multi_arr = np.arange(20).reshape(4,5)\n",
    "print(my_multi_arr)"
   ]
  },
  {
   "cell_type": "code",
   "execution_count": 148,
   "metadata": {},
   "outputs": [
    {
     "name": "stdout",
     "output_type": "stream",
     "text": [
      "[[12 13 14]\n",
      " [17 18 19]]\n"
     ]
    }
   ],
   "source": [
    "my_multi_arr_portion = my_multi_arr[2:4, 2:5]\n",
    "print(my_multi_arr_portion)"
   ]
  },
  {
   "cell_type": "markdown",
   "metadata": {},
   "source": [
    "#### Numpy - Flattening a NumPy Array (converting to 1-D array) using ravel() function\n",
    "If you have a multi-dimensional Numpy array, say, a 3-D, 2-D, etc. array, you can convert it to a 1-dimensional (1-D) array using Numpy function ravel().\n",
    "\n",
    "You may need to do this, as some of the libraries need the data to be fed in 1-dimensional form.\n",
    "<p>                                                                         </p>\n",
    "\n",
    "<div class=\"aha-panel-body\">\n",
    "                    \n",
    "<p>Please follow the below steps:</p>\n",
    "\n",
    "<p>(1) Import numpy as np</p>\n",
    "\n",
    "<p>(2) Please create a 2-dimensional Numpy array (of size 4x5) called <code>my_2d_arr</code> as below</p>\n",
    "\n",
    "<pre><code>my_2d_arr = np.arange(20).reshape(&lt;&lt;your code comes here&gt;&gt;)\n",
    "</code></pre>\n",
    "\n",
    "<p>(3) Call <code>ravel()</code> function on the above Numpy array (<code>my_2d_arr</code>) to create a 1-dimensional array, and store this 1-D array in a variable called <code>my_1d_arr</code></p>\n",
    "\n",
    "<pre><code>&lt;&lt;your code comes here&gt;&gt; = my_2d_arr.ravel()\n",
    "</code></pre>\n",
    "\n",
    "<p>(4) Print this <code>my_1d_arr</code> array by using <code>print()</code> function to see its value</p>\n",
    "\n",
    "<pre><code>print(&lt;&lt;your code comes here&gt;&gt;)\n",
    "</code></pre>\n",
    "\n",
    "                    \n",
    "</div>"
   ]
  },
  {
   "cell_type": "code",
   "execution_count": 149,
   "metadata": {},
   "outputs": [
    {
     "name": "stdout",
     "output_type": "stream",
     "text": [
      "[[ 0  1  2  3  4]\n",
      " [ 5  6  7  8  9]\n",
      " [10 11 12 13 14]\n",
      " [15 16 17 18 19]]\n"
     ]
    }
   ],
   "source": [
    "my_2d_arr = np.arange(20).reshape(4,5)\n",
    "print(my_2d_arr)"
   ]
  },
  {
   "cell_type": "code",
   "execution_count": 150,
   "metadata": {},
   "outputs": [
    {
     "name": "stdout",
     "output_type": "stream",
     "text": [
      "[ 0  1  2  3  4  5  6  7  8  9 10 11 12 13 14 15 16 17 18 19]\n"
     ]
    }
   ],
   "source": [
    "my_1d_arr = my_2d_arr.ravel()\n",
    "print(my_1d_arr)"
   ]
  },
  {
   "cell_type": "markdown",
   "metadata": {},
   "source": [
    "#### Numpy - Mathematical Operations on NumPy Arrays - Addition and Subtraction\n",
    "<p>                                        \n",
    "\n",
    "</p>\n",
    "<div class=\"aha-panel-body\">\n",
    "                    \n",
    "<p>Please follow the following steps:</p>\n",
    "\n",
    "<p>(1) Import the required libraries</p>\n",
    "\n",
    "<pre><code>import numpy as np\n",
    "</code></pre>\n",
    "\n",
    "<p><strong>Addition (element-wise)</strong></p>\n",
    "\n",
    "<p>(2) Please create a NumPy array <code>a_arr</code> with values (60, 70, 80, 90)</p>\n",
    "\n",
    "<pre><code>a_arr = np.array(&lt;&lt; your code comes here&gt;&gt;)\n",
    "b_arr = np.arange(4)\n",
    "</code></pre>\n",
    "\n",
    "<p>Now, we have two NumPy arrays - <code>a_arr</code> and <code>b_arr</code></p>\n",
    "\n",
    "<p>(3) Add these two NumPy arrays (<code>a_arr</code> and  <code>b_arr</code>), and store the result in a variable <code>c_arr</code></p>\n",
    "\n",
    "<pre><code>&lt;&lt;your code comes here&gt;&gt; = a_arr  + b_arr\n",
    "</code></pre>\n",
    "\n",
    "<p>(4) Print array <code>c_arr</code> to see its values</p>\n",
    "\n",
    "<pre><code>print(c_arr)\n",
    "</code></pre>\n",
    "\n",
    "<p><strong>Subtraction (element-wise)</strong></p>\n",
    "\n",
    "<p>(1) Please create a NumPy array <code>d_arr</code> with values (60, 70, 80, 90)</p>\n",
    "\n",
    "<pre><code>d_arr = np.array(&lt;&lt; your code comes here&gt;&gt;)\n",
    "e_arr = np.arange(4)\n",
    "</code></pre>\n",
    "\n",
    "<p>Now, we have two NumPy arrays - <code>d_arr</code> and <code>e_arr</code></p>\n",
    "\n",
    "<p>(2) Subtract NumPy array <code>e_arr</code> from array <code>d_arr</code>, and store the result in a variable called <code>f_arr</code></p>\n",
    "\n",
    "<pre><code>&lt;&lt;your code comes here&gt;&gt; = d_arr  - e_arr\n",
    "</code></pre>\n",
    "\n",
    "<p>(3) Print array <code>f_arr</code> to see its values</p>\n",
    "\n",
    "<pre><code>print(f_arr)\n",
    "</code></pre>\n",
    "\n",
    "                    \n",
    "</div>"
   ]
  },
  {
   "cell_type": "code",
   "execution_count": 151,
   "metadata": {},
   "outputs": [
    {
     "name": "stdout",
     "output_type": "stream",
     "text": [
      "[60 70 80 90] \n",
      " [0 1 2 3]\n"
     ]
    }
   ],
   "source": [
    "a_arr = np.array([60, 70, 80, 90])\n",
    "b_arr = np.arange(4)\n",
    "\n",
    "print(a_arr, '\\n', b_arr)"
   ]
  },
  {
   "cell_type": "code",
   "execution_count": 152,
   "metadata": {},
   "outputs": [
    {
     "name": "stdout",
     "output_type": "stream",
     "text": [
      "[60 71 82 93]\n"
     ]
    }
   ],
   "source": [
    "c_arr = a_arr  + b_arr\n",
    "print(c_arr)"
   ]
  },
  {
   "cell_type": "code",
   "execution_count": 153,
   "metadata": {},
   "outputs": [
    {
     "name": "stdout",
     "output_type": "stream",
     "text": [
      "[60 70 80 90] \n",
      " [0 1 2 3]\n"
     ]
    }
   ],
   "source": [
    "d_arr = np.array([60, 70, 80, 90])\n",
    "e_arr = np.arange(4)\n",
    "print(d_arr, '\\n', e_arr)"
   ]
  },
  {
   "cell_type": "code",
   "execution_count": 173,
   "metadata": {},
   "outputs": [
    {
     "name": "stdout",
     "output_type": "stream",
     "text": [
      "[60 69 78 87]\n"
     ]
    }
   ],
   "source": [
    "f_arr = d_arr  - e_arr\n",
    "print(f_arr)"
   ]
  },
  {
   "cell_type": "markdown",
   "metadata": {},
   "source": [
    "#### Numpy - Mathematical Operations on NumPy Arrays - Multiplication and Dot Product\n",
    "\n",
    "<div class=\"aha-panel-body\">\n",
    "                    \n",
    "<p>Please follow the below steps:</p>\n",
    "\n",
    "<p>(1) Please import required libraries</p>\n",
    "\n",
    "<pre><code> import numpy as np\n",
    "</code></pre>\n",
    "\n",
    "<p><strong>Multiplication (element-wise product)</strong></p>\n",
    "\n",
    "<p>(2) Create two NumPy arrays - <code>A_arr</code> and <code>B_arr</code> - as shown below</p>\n",
    "\n",
    "<pre><code>A_arr = np.array([ [ 5,9], [4, 7] ])\n",
    "B_arr = np.array( [ [2, 8], [1, 6] ] )\n",
    "</code></pre>\n",
    "\n",
    "<p>(3) Multiply the above two NumPy arrays (<code>A_arr</code> and <code>B_arr</code>) and store the result in a variable <code>M_arr</code></p>\n",
    "\n",
    "<pre><code>&lt;&lt;your code comes here&gt;&gt; = A_arr  &lt;&lt; your code comes here&gt;&gt; B_arr\n",
    "</code></pre>\n",
    "\n",
    "<p>(4) Print the array <code>M_arr</code> to see its values</p>\n",
    "\n",
    "<pre><code>print(&lt;&lt;your code comes here&gt;&gt;)\n",
    "</code></pre>\n",
    "\n",
    "<p><strong>Dot Product (Matrix Product)</strong></p>\n",
    "\n",
    "<p>(1) Create two NumPy arrays - <code>C_arr</code> and <code>D_arr</code> - as shown below</p>\n",
    "\n",
    "<pre><code>C_arr = np.array([ [ 5,9], [4, 7] ])\n",
    "D_arr = np.array( [ [2, 8], [1, 6] ] )\n",
    "</code></pre>\n",
    "\n",
    "<p>(2) Perform dot product of the above two NumPy arrays (<code>C_arr</code> and <code>D_arr</code>) and store the result in a variable <code>P_arr</code></p>\n",
    "\n",
    "<pre><code>&lt;&lt;your code comes here&gt;&gt; = np.dot(&lt;&lt;your code comes here&gt;&gt;)\n",
    "</code></pre>\n",
    "\n",
    "<p>(3) Print the array <code>P_arr</code> to see its values</p>\n",
    "\n",
    "<pre><code>print(&lt;&lt;your code comes here&gt;&gt;)\n",
    "</code></pre>\n",
    "\n",
    "                    \n",
    "</div>"
   ]
  },
  {
   "cell_type": "code",
   "execution_count": 190,
   "metadata": {},
   "outputs": [],
   "source": [
    " import numpy as np"
   ]
  },
  {
   "cell_type": "code",
   "execution_count": 193,
   "metadata": {},
   "outputs": [
    {
     "name": "stdout",
     "output_type": "stream",
     "text": [
      "[[5 9]\n",
      " [4 7]] \n",
      " [[2 8]\n",
      " [1 6]]\n"
     ]
    }
   ],
   "source": [
    "A_arr = np.array([ [ 5,9], [4, 7] ])\n",
    "B_arr = np.array( [ [2, 8], [1, 6] ] )\n",
    "print(A_arr, '\\n', B_arr)"
   ]
  },
  {
   "cell_type": "code",
   "execution_count": 194,
   "metadata": {},
   "outputs": [
    {
     "name": "stdout",
     "output_type": "stream",
     "text": [
      "[[10 72]\n",
      " [ 4 42]]\n"
     ]
    }
   ],
   "source": [
    "M_arr = A_arr  * B_arr\n",
    "print(M_arr)"
   ]
  },
  {
   "cell_type": "code",
   "execution_count": 198,
   "metadata": {},
   "outputs": [
    {
     "name": "stdout",
     "output_type": "stream",
     "text": [
      "[[5 9]\n",
      " [4 7]] \n",
      " [[2 8]\n",
      " [1 6]]\n"
     ]
    }
   ],
   "source": [
    "#Dot Product (Matrix Product)\n",
    "C_arr = np.array([ [ 5,9], [4, 7] ])\n",
    "D_arr = np.array( [ [2, 8], [1, 6] ] )\n",
    "print(C_arr, '\\n', D_arr)"
   ]
  },
  {
   "cell_type": "code",
   "execution_count": 199,
   "metadata": {},
   "outputs": [
    {
     "name": "stdout",
     "output_type": "stream",
     "text": [
      "[[19 94]\n",
      " [15 74]]\n"
     ]
    }
   ],
   "source": [
    "P_arr = np.dot(C_arr, D_arr)\n",
    "print(P_arr)"
   ]
  },
  {
   "cell_type": "markdown",
   "metadata": {},
   "source": [
    "#### Numpy - Mathematical Operations on NumPy Arrays - Division, Modulus\n",
    "\n",
    "\n",
    "<div class=\"aha-panel-body\">\n",
    "                    \n",
    "<p>\n",
    "    \n",
    "Please follow the below steps:</p>\n",
    "\n",
    "<p>(1) Please import numpy as np</p>\n",
    "\n",
    "<p><strong>Division</strong></p>\n",
    "\n",
    "<p>(2) Please create two NumPy arrays - <code>R_div</code> and <code>S_div</code> - as shown below</p>\n",
    "\n",
    "<pre><code>R_div = np.array([ [ 25,65], [40, 14] ])\n",
    "S_div = np.array([ [2, 10], [4, 5] ] )\n",
    "</code></pre>\n",
    "\n",
    "<p>(3) Divide (using normal division) above created NumPy array <code>R_div</code> by <code>S_div</code> and store the result in a variable <code>T_div</code></p>\n",
    "\n",
    "<pre><code>&lt;&lt;your code comes here&gt;&gt; = R_div  &lt;&lt; your code comes here&gt;&gt; S_div\n",
    "</code></pre>\n",
    "\n",
    "<p>(4) Print the array <code>T_div</code> to see its values</p>\n",
    "\n",
    "<pre><code>print(&lt;&lt;your code comes here&gt;&gt;)\n",
    "</code></pre>\n",
    "\n",
    "<p><strong>Integer Division</strong></p>\n",
    "\n",
    "<p>(1) Please import numpy as np</p>\n",
    "\n",
    "<p>(2) Please create two NumPy arrays - <code>R_int_div</code> and <code>S_int_div</code> - as shown below</p>\n",
    "\n",
    "<pre><code>R_int_div = np.array([ [ 25,65], [40, 70] ])\n",
    "S_int_div = np.array([ [2, 10], [8, 3] ] )\n",
    "</code></pre>\n",
    "\n",
    "<p>(3) Divide (using integer division) above created NumPy array R_int_div by S_int_div and store the result in a variable <code>T_int_div</code></p>\n",
    "\n",
    "<pre><code>&lt;&lt;your code comes here&gt;&gt; = R_int_div  &lt;&lt; your code comes here&gt;&gt; S_int_div\n",
    "</code></pre>\n",
    "\n",
    "<p>(4) Print the array <code>T_int_div</code> to see its values</p>\n",
    "\n",
    "<pre><code>print(&lt;&lt;your code comes here&gt;&gt;)\n",
    "</code></pre>\n",
    "\n",
    "<p><strong>Modulus</strong></p>\n",
    "\n",
    "<p>(1) Please import numpy as np</p>\n",
    "\n",
    "<p>(2) Please create two NumPy arrays - <code>R_mod</code> and <code>S_mod</code> - as shown below</p>\n",
    "\n",
    "<pre><code>R_mod = np.array([ [ 20,65], [40, 70] ])\n",
    "S_mod = np.array([ [2, 10], [8, 3] ] )\n",
    "</code></pre>\n",
    "\n",
    "<p>(3) Apply modulus operation between above created NumPy arrays <code>R_mod</code> and <code>S_mod</code> and store the result in a variable <code>T_mod</code></p>\n",
    "\n",
    "<pre><code>&lt;&lt;your code comes here&gt;&gt; = R_mod  &lt;&lt; your code comes here&gt;&gt; S_mod\n",
    "</code></pre>\n",
    "\n",
    "<p>(4) Print the array <code>T_mod</code> to see its values</p>\n",
    "\n",
    "<pre><code>print(&lt;&lt;your code comes here&gt;&gt;)\n",
    "</code></pre>\n",
    "\n",
    "                    \n",
    "</div>"
   ]
  },
  {
   "cell_type": "code",
   "execution_count": 216,
   "metadata": {},
   "outputs": [
    {
     "name": "stdout",
     "output_type": "stream",
     "text": [
      "[[25 65]\n",
      " [40 14]] \n",
      " [[ 2 10]\n",
      " [ 4  5]]\n"
     ]
    }
   ],
   "source": [
    "R_div = np.array([ [ 25,65], [40, 14] ])\n",
    "S_div = np.array([ [2, 10], [4, 5] ] )\n",
    "\n",
    "print(R_div, \"\\n\", S_div)"
   ]
  },
  {
   "cell_type": "code",
   "execution_count": 217,
   "metadata": {},
   "outputs": [
    {
     "name": "stdout",
     "output_type": "stream",
     "text": [
      "[[12.5  6.5]\n",
      " [10.   2.8]]\n"
     ]
    }
   ],
   "source": [
    "T_div = R_div  / S_div\n",
    "print(T_div)"
   ]
  },
  {
   "cell_type": "code",
   "execution_count": 220,
   "metadata": {},
   "outputs": [
    {
     "name": "stdout",
     "output_type": "stream",
     "text": [
      "[[25 65]\n",
      " [40 70]] \n",
      " [[ 2 10]\n",
      " [ 8  3]]\n"
     ]
    }
   ],
   "source": [
    "#Integer Division\n",
    "R_int_div = np.array([ [ 25,65], [40, 70] ])\n",
    "S_int_div = np.array([ [2, 10], [8, 3] ] )\n",
    "print(R_int_div, \"\\n\", S_int_div)"
   ]
  },
  {
   "cell_type": "code",
   "execution_count": 222,
   "metadata": {},
   "outputs": [
    {
     "name": "stdout",
     "output_type": "stream",
     "text": [
      "[[12  6]\n",
      " [10  2]]\n"
     ]
    }
   ],
   "source": [
    "T_int_div = R_div  // S_div\n",
    "print(T_int_div)"
   ]
  },
  {
   "cell_type": "code",
   "execution_count": 223,
   "metadata": {},
   "outputs": [
    {
     "name": "stdout",
     "output_type": "stream",
     "text": [
      "[[20 65]\n",
      " [40 70]] \n",
      " [[ 2 10]\n",
      " [ 8  3]]\n"
     ]
    }
   ],
   "source": [
    "# Modulus\n",
    "R_mod = np.array([ [ 20,65], [40, 70] ])\n",
    "S_mod = np.array([ [2, 10], [8, 3] ] )\n",
    "print(R_mod, \"\\n\", S_mod)"
   ]
  },
  {
   "cell_type": "code",
   "execution_count": 224,
   "metadata": {},
   "outputs": [
    {
     "name": "stdout",
     "output_type": "stream",
     "text": [
      "[[0 5]\n",
      " [0 1]]\n"
     ]
    }
   ],
   "source": [
    "T_mod = R_mod  % S_mod\n",
    "print(T_mod)"
   ]
  },
  {
   "cell_type": "markdown",
   "metadata": {},
   "source": [
    "#### Numpy - Mathematical Operations on NumPy Arrays - Exponents\n",
    "\n",
    "<div class=\"aha-panel-body\">\n",
    "                    \n",
    "<p>\n",
    "    \n",
    "   \n",
    "   Please follow the below steps:</p>\n",
    "\n",
    "<p>(1) Please import the required libraries</p>\n",
    "\n",
    "<pre><code>import numpy as np\n",
    "</code></pre>\n",
    "\n",
    "<p>(2) Please create two NumPy arrays - <code>R_exp</code> and <code>S_exp</code> - as shown below</p>\n",
    "\n",
    "<pre><code>R_exp = np.array([ [ 4, 2], [3, 4 ] ] )\n",
    "S_exp = np.array( [ [2, 10], [4, 5] ] )\n",
    "</code></pre>\n",
    "\n",
    "<p>(3) Apply the exponent operator <code>**</code> between the above created NumPy arrays <code>R_exp</code> and <code>S_exp</code> and store the result in a variable <code>T_exp</code></p>\n",
    "\n",
    "<pre><code>&lt;&lt;your code comes here&gt;&gt; = R_exp  &lt;&lt; your code comes here&gt;&gt; S_exp\n",
    "</code></pre>\n",
    "\n",
    "<p>(4) Print the array <code>T_exp</code> to see its values</p>\n",
    "\n",
    "<pre><code>print(&lt;&lt;your code comes here&gt;&gt;)\n",
    "</code></pre>\n",
    "\n",
    "</div>"
   ]
  },
  {
   "cell_type": "code",
   "execution_count": 243,
   "metadata": {},
   "outputs": [
    {
     "name": "stdout",
     "output_type": "stream",
     "text": [
      "[[4 2]\n",
      " [3 4]] \n",
      " [[ 2 10]\n",
      " [ 4  5]]\n"
     ]
    }
   ],
   "source": [
    "R_exp = np.array([ [ 4, 2], [3, 4 ] ] )\n",
    "S_exp = np.array( [ [2, 10], [4, 5] ] )\n",
    "print(R_exp, \"\\n\", S_exp)"
   ]
  },
  {
   "cell_type": "code",
   "execution_count": 244,
   "metadata": {},
   "outputs": [
    {
     "name": "stdout",
     "output_type": "stream",
     "text": [
      "[[  16 1024]\n",
      " [  81 1024]]\n"
     ]
    }
   ],
   "source": [
    "T_exp = R_exp  ** S_exp\n",
    "print(T_exp)"
   ]
  },
  {
   "cell_type": "markdown",
   "metadata": {},
   "source": [
    "#### Numpy - Mathematical Operations on NumPy Arrays - Conditional Operators\n",
    "<div class=\"aha-panel-body\">\n",
    "                    \n",
    "<p>\n",
    "    Please follow the below steps:</p>\n",
    "\n",
    "<p>(1) Please import the required libraries</p>\n",
    "\n",
    "<pre><code>import numpy as np\n",
    "</code></pre>\n",
    "\n",
    "<p>(2) Please create a NumPy array called <code>U</code>, as shown below</p>\n",
    "\n",
    "<pre><code>U = np.array([ [ 22, 45], [90, 4 ] ] )\n",
    "</code></pre>\n",
    "\n",
    "<p>(3)  Get all the elements of <code>U</code> which are less than <code>45</code>, and print the result using the <code>print()</code> function</p>\n",
    "\n",
    "<pre><code>print( &lt;&lt; your code comes here&gt;&gt; )\n",
    "</code></pre>\n",
    "\n",
    "                    \n",
    " </div>"
   ]
  },
  {
   "cell_type": "code",
   "execution_count": 253,
   "metadata": {},
   "outputs": [],
   "source": [
    "U = np.array([ [ 22, 45], [90, 4 ] ] )"
   ]
  },
  {
   "cell_type": "code",
   "execution_count": 254,
   "metadata": {},
   "outputs": [
    {
     "name": "stdout",
     "output_type": "stream",
     "text": [
      "[[ True False]\n",
      " [False  True]]\n"
     ]
    }
   ],
   "source": [
    "print(U < 45)"
   ]
  },
  {
   "cell_type": "markdown",
   "metadata": {},
   "source": [
    "#### Numpy - Mathematical and Statistical functions on NumPy Arrays\n",
    "\n",
    "<div class=\"aha-panel-body\">\n",
    "                    \n",
    "<p>\n",
    "    Please follow the below steps:</p>\n",
    "\n",
    "<p>(1) Please import the required libraries</p>\n",
    "\n",
    "<pre><code>import numpy as np\n",
    "</code></pre>\n",
    "\n",
    "<p>(2) Please create a NumPy array <code>X_stat</code> with values [ [ 1, 2, 3], [ 4, -5, 6] ]</p>\n",
    "\n",
    "<pre><code>&lt;&lt; your code comes here &gt;&gt; = np.array( &lt;&lt; your code comes here &gt;&gt; )\n",
    "</code></pre>\n",
    "\n",
    "<p><strong>mean()</strong></p>\n",
    "\n",
    "<p>(3) Please calculate and print the mean of elements of this array <code>X_stat</code> </p>\n",
    "\n",
    "<pre><code>print(\"mean = \", &lt;&lt;your code comes here&gt;&gt;)\n",
    "</code></pre>\n",
    "\n",
    "<p><strong>var()</strong></p>\n",
    "\n",
    "<p>(4) Please calculate and print the variance of elements of this array <code>X_stat</code> </p>\n",
    "\n",
    "<pre><code>print(\"Variance = \", &lt;&lt;your code comes here&gt;&gt;)\n",
    "</code></pre>\n",
    "\n",
    "<p><strong>std()</strong></p>\n",
    "\n",
    "<p>(5) Please calculate and print the standard deviation of elements of this array <code>X_stat</code> </p>\n",
    "\n",
    "<pre><code>print(\"Standard Deviation = \", &lt;&lt;your code comes here&gt;&gt;)\n",
    "</code></pre>\n",
    "\n",
    "<p><strong>min()</strong></p>\n",
    "\n",
    "<p>(6) Please calculate and print the min of elements of this array <code>X_stat</code> </p>\n",
    "\n",
    "<pre><code>print(\"min = \", &lt;&lt;your code comes here&gt;&gt;)\n",
    "</code></pre>\n",
    "\n",
    "<p><strong>max()</strong></p>\n",
    "\n",
    "<p>(7) Please calculate and print the max of elements of this array <code>X_stat</code> </p>\n",
    "\n",
    "<pre><code>print(\"max = \", &lt;&lt;your code comes here&gt;&gt;)\n",
    "</code></pre>\n",
    "\n",
    "<p><strong>sum()</strong></p>\n",
    "\n",
    "<p>(8) Please calculate and print the sum of elements of this array <code>X_stat</code> </p>\n",
    "\n",
    "<pre><code>print(\"sum = \", &lt;&lt;your code comes here&gt;&gt;)\n",
    "</code></pre>\n",
    "\n",
    "<p><strong>prod()</strong></p>\n",
    "\n",
    "<p>(9) Please calculate and print the product of elements of this array <code>X_stat</code> </p>\n",
    "\n",
    "<pre><code>print(\"product = \", &lt;&lt;your code comes here&gt;&gt;)\n",
    "</code></pre>\n",
    "\n",
    "                    \n",
    "</div>"
   ]
  },
  {
   "cell_type": "code",
   "execution_count": 261,
   "metadata": {},
   "outputs": [
    {
     "name": "stdout",
     "output_type": "stream",
     "text": [
      "[[ 1  2  3]\n",
      " [ 4 -5  6]]\n"
     ]
    }
   ],
   "source": [
    "X_stat = np.array([ [ 1, 2, 3], [ 4, -5, 6] ])\n",
    "print(X_stat)"
   ]
  },
  {
   "cell_type": "code",
   "execution_count": 269,
   "metadata": {},
   "outputs": [
    {
     "name": "stdout",
     "output_type": "stream",
     "text": [
      "mean =  1.8333333333333333\n"
     ]
    }
   ],
   "source": [
    "# mean()\n",
    "print(\"mean = \", X_stat.mean())"
   ]
  },
  {
   "cell_type": "code",
   "execution_count": 270,
   "metadata": {},
   "outputs": [
    {
     "name": "stdout",
     "output_type": "stream",
     "text": [
      "Variance =  11.805555555555557\n"
     ]
    }
   ],
   "source": [
    "# var()\n",
    "print(\"Variance = \", X_stat.var())"
   ]
  },
  {
   "cell_type": "code",
   "execution_count": 271,
   "metadata": {},
   "outputs": [
    {
     "name": "stdout",
     "output_type": "stream",
     "text": [
      "Standard Deviation =  3.435921354681384\n"
     ]
    }
   ],
   "source": [
    "# std()\n",
    "print(\"Standard Deviation = \", X_stat.std())"
   ]
  },
  {
   "cell_type": "code",
   "execution_count": 272,
   "metadata": {},
   "outputs": [
    {
     "name": "stdout",
     "output_type": "stream",
     "text": [
      "min =  -5\n"
     ]
    }
   ],
   "source": [
    "# min()\n",
    "print(\"min = \", X_stat.min())"
   ]
  },
  {
   "cell_type": "code",
   "execution_count": 273,
   "metadata": {},
   "outputs": [
    {
     "name": "stdout",
     "output_type": "stream",
     "text": [
      "max =  6\n"
     ]
    }
   ],
   "source": [
    "# max()\n",
    "print(\"max = \", X_stat.max())"
   ]
  },
  {
   "cell_type": "code",
   "execution_count": 274,
   "metadata": {},
   "outputs": [
    {
     "name": "stdout",
     "output_type": "stream",
     "text": [
      "sum =  11\n"
     ]
    }
   ],
   "source": [
    "# sum()\n",
    "print(\"sum = \", X_stat.sum())"
   ]
  },
  {
   "cell_type": "code",
   "execution_count": 275,
   "metadata": {},
   "outputs": [
    {
     "name": "stdout",
     "output_type": "stream",
     "text": [
      "product =  -720\n"
     ]
    }
   ],
   "source": [
    "# prod()\n",
    "print(\"product = \", X_stat.prod())"
   ]
  },
  {
   "cell_type": "markdown",
   "metadata": {},
   "source": [
    "#### Numpy - Mathematical and Statistical functions on NumPy Arrays - Sum(across axes)\n",
    "<div class=\"aha-panel-body\">\n",
    "                    \n",
    "<p>\n",
    "    Please follow the following steps:</p>\n",
    "\n",
    "<p>(1) Please import the required libraries</p>\n",
    "\n",
    "<pre><code>import numpy as np\n",
    "</code></pre>\n",
    "\n",
    "<p>(2) Please create a NumPy array called <code>Z</code>, with a total of 18 elements, and shape as (2, 3, 3)</p>\n",
    "\n",
    "<pre><code>&lt;&lt;your code comes here&gt;&gt; = np.arange(&lt;&lt;your code comes here&gt;&gt;).reshape(&lt;&lt;your code comes here&gt;&gt;)\n",
    "</code></pre>\n",
    "\n",
    "<p>(3) Print the above array <code>Z</code> using the <code>print()</code> function to see its values.</p>\n",
    "\n",
    "<pre><code>print(Z)\n",
    "</code></pre>\n",
    "\n",
    "<p>(4) Please find the sum across <code>axis=2</code> for the array <code>Z</code>, and print the result using the <code>print()</code> function</p>\n",
    "\n",
    "<pre><code>  print( Z.sum(&lt;&lt;your code comes here&gt;&gt;))\n",
    "</code></pre>\n",
    "\n",
    "</div>\n"
   ]
  },
  {
   "cell_type": "code",
   "execution_count": 287,
   "metadata": {},
   "outputs": [
    {
     "name": "stdout",
     "output_type": "stream",
     "text": [
      "[[[ 0  1  2]\n",
      "  [ 3  4  5]\n",
      "  [ 6  7  8]]\n",
      "\n",
      " [[ 9 10 11]\n",
      "  [12 13 14]\n",
      "  [15 16 17]]]\n"
     ]
    }
   ],
   "source": [
    "Z = np.arange(18).reshape(2,3,3)\n",
    "print(Z)"
   ]
  },
  {
   "cell_type": "code",
   "execution_count": 288,
   "metadata": {},
   "outputs": [
    {
     "name": "stdout",
     "output_type": "stream",
     "text": [
      "[[ 3 12 21]\n",
      " [30 39 48]]\n"
     ]
    }
   ],
   "source": [
    "  print( Z.sum(axis=2))"
   ]
  },
  {
   "cell_type": "markdown",
   "metadata": {},
   "source": [
    "#### Numpy - Mathematical and Statistical functions on NumPy Arrays - Transpose\n",
    "\n",
    "<div class=\"aha-panel-body\">\n",
    "                    \n",
    "<p>Please follow the below steps:</p>\n",
    "\n",
    "<p>(1) Please import the required libraries</p>\n",
    "\n",
    "<pre><code>  import numpy as np\n",
    "</code></pre>\n",
    "\n",
    "<p>(2) Please create a Numpy array called <code>N</code>  of size 6 and shape as (3,2)</p>\n",
    "\n",
    "<pre><code>&lt;&lt;your code comes here&gt;&gt; = np.arange(&lt;&lt;your code comes here&gt;&gt;).reshape(&lt;&lt;your code comes here&gt;&gt;)\n",
    "</code></pre>\n",
    "\n",
    "<p>(3) Print array <code>N</code> using the <code>print()</code> function to see its values</p>\n",
    "\n",
    "<pre><code>print(&lt;&lt;your code comes here&gt;&gt;)\n",
    "</code></pre>\n",
    "\n",
    "<p>(4) Print the transpose of array <code>N</code></p>\n",
    "\n",
    "<pre><code>print(\"Transpose = \", &lt;&lt;your code comes here&gt;&gt;)\n",
    "</code></pre>\n",
    "\n",
    "                    \n",
    "</div>"
   ]
  },
  {
   "cell_type": "code",
   "execution_count": 294,
   "metadata": {},
   "outputs": [
    {
     "name": "stdout",
     "output_type": "stream",
     "text": [
      "[[0 1]\n",
      " [2 3]\n",
      " [4 5]]\n"
     ]
    }
   ],
   "source": [
    "N = np.arange(6).reshape(3,2)\n",
    "print(N)"
   ]
  },
  {
   "cell_type": "code",
   "execution_count": 297,
   "metadata": {},
   "outputs": [
    {
     "name": "stdout",
     "output_type": "stream",
     "text": [
      "Transpose =  [[0 2 4]\n",
      " [1 3 5]]\n"
     ]
    }
   ],
   "source": [
    "#Transpose of a matrix (with rank >= 2) interchanges the rows and columns of the matrix.\n",
    "\n",
    "# We can get the transpose of a matrix (or array) by using the attribute T.\n",
    "print(\"Transpose = \", N.T)"
   ]
  },
  {
   "cell_type": "markdown",
   "metadata": {},
   "source": [
    "#### Numpy - Broadcasting in NumPy Arrays\n",
    "<div class=\"aha-panel-body\">\n",
    "                    \n",
    "<p>\n",
    "    Please follow the below steps:</p>\n",
    "\n",
    "<p>(1) Please import the required libraries</p>\n",
    "\n",
    "<pre><code>import numpy as np\n",
    "</code></pre>\n",
    "\n",
    "<p>(2) Please create a numpy array <code>X_broad</code> of shape (3,3) filled with ones</p>\n",
    "\n",
    "<pre><code>&lt;&lt;your code comes here&gt;&gt; = np.ones(&lt;&lt;your code comes here&gt;&gt;)\n",
    "</code></pre>\n",
    "\n",
    "<p>(3) Print array <code>X_broad</code> using <code>print()</code> function to see its values</p>\n",
    "\n",
    "<pre><code>print(&lt;&lt;your code comes here&gt;&gt;)\n",
    "</code></pre>\n",
    "\n",
    "<p>(4) Please create a numpy array <code>Y_broad</code> of size 3</p>\n",
    "\n",
    "<pre><code>Y_broad = np.arange(&lt;&lt;your code comes here&gt;&gt;)\n",
    "</code></pre>\n",
    "\n",
    "<p>(5) Print array <code>Y_broad</code> using <code>print()</code> function to see its values</p>\n",
    "\n",
    "<pre><code>print(&lt;&lt;your code comes here&gt;&gt;)\n",
    "</code></pre>\n",
    "\n",
    "<p>(6) Add <code>X_broad</code> and <code>Y_broad</code> and store the result in a variable <code>Z_broad</code></p>\n",
    "\n",
    "<pre><code>&lt;&lt;your code comes here&gt;&gt; = &lt;&lt;your code comes here&gt;&gt;  + &lt;&lt;your code comes here&gt;&gt;\n",
    "</code></pre>\n",
    "\n",
    "<p>(7) Print array <code>Z_broad</code> using <code>print()</code> function to see its values</p>\n",
    "\n",
    "<pre><code>print(&lt;&lt;your code comes here&gt;&gt;)\n",
    "</code></pre>\n",
    "\n",
    "<p>Here you will observe that X_broad and Y_broad are added by the second rule of Broadcasting.</p>\n",
    "\n",
    "</div>"
   ]
  },
  {
   "cell_type": "code",
   "execution_count": 305,
   "metadata": {},
   "outputs": [
    {
     "name": "stdout",
     "output_type": "stream",
     "text": [
      "[[1. 1. 1.]\n",
      " [1. 1. 1.]\n",
      " [1. 1. 1.]]\n"
     ]
    }
   ],
   "source": [
    "X_broad = np.ones([3,3])\n",
    "print(X_broad)"
   ]
  },
  {
   "cell_type": "code",
   "execution_count": 306,
   "metadata": {},
   "outputs": [
    {
     "name": "stdout",
     "output_type": "stream",
     "text": [
      "[0 1 2]\n"
     ]
    }
   ],
   "source": [
    "Y_broad = np.arange(3)\n",
    "print(Y_broad)"
   ]
  },
  {
   "cell_type": "code",
   "execution_count": 307,
   "metadata": {},
   "outputs": [
    {
     "name": "stdout",
     "output_type": "stream",
     "text": [
      "[[1. 2. 3.]\n",
      " [1. 2. 3.]\n",
      " [1. 2. 3.]]\n"
     ]
    }
   ],
   "source": [
    "Z_broad = X_broad + Y_broad\n",
    "print(Z_broad)"
   ]
  },
  {
   "cell_type": "markdown",
   "metadata": {},
   "source": [
    "<div class=\"aha-panel-body\">\n",
    "<h1 class=\"h2\">\n",
    "Numpy and Pandas - What is NumPy and Pandas ?\n",
    "</h1>\n",
    "\t\t\t\t\t\n",
    "<p>NumPy and Pandas are the Python libraries that are used to manipulate, process and analyze the data. They don't have constructs that can be used to visualize the data, for that we can use another library from Python called matplotlib.</p>\n",
    "\n",
    "<h3>NumPy</h3>\n",
    "\n",
    "<ul>\n",
    "<li><p>NumPy stands for 'Numeric Python' or 'Numerical Python'.</p></li>\n",
    "<li><p>It is designed for scientific computations.</p></li>\n",
    "<li><p>It has efficiently implemented multi-dimensional arrays and it also provides fast mathematical functions.</p></li>\n",
    "<li><p>It is mostly used for array-oriented computing.</p></li>\n",
    "<li><p>NumPy's main object is the homogeneous multidimensional array called \"ndarray\".</p></li>\n",
    "</ul>\n",
    "\n",
    "<h3>Pandas</h3>\n",
    "\n",
    "<ul>\n",
    "<li><p>Pandas provide high-performance, easy-to-use data structures, and data analysis tools.</p></li>\n",
    "<li><p>The DataFrame is the main and widely used data structure of the Pandas library.</p></li>\n",
    "<li><p>DataFrame is a kind of in-memory 2-D table (similar to Excel sheet) with rows and columns. </p></li>\n",
    "<li><p>Using DataFrames, we can create pivot tables (just like Excel sheet), compute one column value using values of other columns, etc.</p></li>\n",
    "</ul>\n",
    "\n",
    "<h3>When do we use NumPy and when we use Pandas?</h3>\n",
    "\n",
    "<p>Suppose, your data is currently lying in a text file or a database table. You can load this dataset either using Pandas or Numpy. Pandas library is preferred as it is more efficient.</p>\n",
    "\n",
    "<p>You can load the dataset using Pandas into a Pandas Dataframe. After loading the dataset, you can use Pandas library functions along with Matplotlib library functions to analyze, visualize and perform statistical analysis on the data in the dataset.</p>\n",
    "\n",
    "<p>You can use NumPy's functions to create random indices and use these random indices with Pandas dataframe to create a shuffled dataset.</p>\n",
    "\n",
    "<p>Many functions of the Scikit Learn (sklearn) library (like <code>Imputer</code>, <code>OneHotEncoder</code>, <code>predict()</code>) return a NumPy array, which we may need to process using NumPy. Also, we may need to create a Pandas dataframe from an existing NumPy array.</p>\n",
    "\n",
    "<p><code>Imputer</code> - It is used to handle missing values in a dataframe\n",
    "<br>\n",
    "<code>OneHotEncoder</code> - It is used to perform one hot encoding on categorical values\n",
    "<br>\n",
    "<code>predict()</code> - It is used to predict values using a trained ML model</p>\n",
    "\n",
    "<p>So, we see that Pandas and NumPy are used very much in conjunction with each other throughout the Machine Learning process.</p>\n",
    "\n",
    "\t\t\t\t\t\n",
    "</div>"
   ]
  },
  {
   "cell_type": "code",
   "execution_count": null,
   "metadata": {},
   "outputs": [],
   "source": []
  }
 ],
 "metadata": {
  "kernelspec": {
   "display_name": "Python 3",
   "language": "python",
   "name": "python3"
  },
  "language_info": {
   "codemirror_mode": {
    "name": "ipython",
    "version": 3
   },
   "file_extension": ".py",
   "mimetype": "text/x-python",
   "name": "python",
   "nbconvert_exporter": "python",
   "pygments_lexer": "ipython3",
   "version": "3.6.8"
  },
  "toc": {
   "base_numbering": 1,
   "nav_menu": {},
   "number_sections": true,
   "sideBar": true,
   "skip_h1_title": false,
   "title_cell": "Table of Contents",
   "title_sidebar": "Contents",
   "toc_cell": false,
   "toc_position": {},
   "toc_section_display": true,
   "toc_window_display": false
  }
 },
 "nbformat": 4,
 "nbformat_minor": 2
}
