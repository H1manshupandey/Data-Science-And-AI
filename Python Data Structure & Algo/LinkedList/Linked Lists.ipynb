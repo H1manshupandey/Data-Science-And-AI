{
 "cells": [
  {
   "cell_type": "code",
   "execution_count": 3,
   "id": "4de057d0",
   "metadata": {},
   "outputs": [],
   "source": [
    "class Node:\n",
    "    def __init__(self, value):\n",
    "        self.value = value\n",
    "        self.next = None\n",
    "        \n",
    "        \n",
    "class LinkedList:\n",
    "    def __init__(self, value):\n",
    "        new_node = Node(value)\n",
    "        self.head = new_node\n",
    "        self.tail = new_node\n",
    "        self.length = 1\n",
    "\n",
    "\n",
    "\n"
   ]
  },
  {
   "cell_type": "code",
   "execution_count": 4,
   "id": "435782fb",
   "metadata": {},
   "outputs": [
    {
     "name": "stdout",
     "output_type": "stream",
     "text": [
      "Head: 4\n",
      "Tail: 4\n",
      "Length: 1\n"
     ]
    }
   ],
   "source": [
    "my_linked_list = LinkedList(4)\n",
    "\n",
    "print(\"Head:\", my_linked_list.head.value)\n",
    "print(\"Tail:\", my_linked_list.tail.value)\n",
    "print(\"Length:\", my_linked_list.length)"
   ]
  },
  {
   "cell_type": "code",
   "execution_count": null,
   "id": "06378bac",
   "metadata": {},
   "outputs": [],
   "source": []
  }
 ],
 "metadata": {
  "kernelspec": {
   "display_name": "Python 3 (ipykernel)",
   "language": "python",
   "name": "python3"
  },
  "language_info": {
   "codemirror_mode": {
    "name": "ipython",
    "version": 3
   },
   "file_extension": ".py",
   "mimetype": "text/x-python",
   "name": "python",
   "nbconvert_exporter": "python",
   "pygments_lexer": "ipython3",
   "version": "3.9.12"
  }
 },
 "nbformat": 4,
 "nbformat_minor": 5
}
