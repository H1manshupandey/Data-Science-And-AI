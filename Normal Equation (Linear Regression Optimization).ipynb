{
 "cells": [
  {
   "cell_type": "markdown",
   "id": "f045956c",
   "metadata": {},
   "source": [
    "# Normal Equation \n",
    "Obtain θ in one attempt: The Normal Equation (another optimization\n",
    "algorithm)\n",
    "*  It is a mathematical equation that gives the optimal (minimum error or cost) θ directly\n",
    "\n",
    "<img src= https://media.geeksforgeeks.org/wp-content/uploads/Untitled-drawing-1-10.png />\n",
    "\n",
    "* Value of θ that minimizes the cost function\n",
    "* y is the vector of target values containing y(1) to y(m)\n",
    "* X is the feature matrix of training dataset\n",
    "* y is the output vector"
   ]
  },
  {
   "cell_type": "code",
   "execution_count": 1,
   "id": "6e9639e8",
   "metadata": {},
   "outputs": [],
   "source": [
    "# First, generate some linear looking data\n",
    "\n",
    "import numpy as np\n",
    "import matplotlib.pyplot as plt\n",
    "# Uniformly distributed array with dimension (100, 1)\n",
    "X = 2 * np.random.rand(100, 1)\n",
    "\n",
    "# A variable y which a linear function of X\n",
    "y = 4 + 3 * X + np.random.randn(100, 1)"
   ]
  },
  {
   "cell_type": "code",
   "execution_count": 2,
   "id": "a4a911af",
   "metadata": {},
   "outputs": [
    {
     "data": {
      "image/png": "[encoded data removed]",
      "text/plain": [
       "<Figure size 432x288 with 1 Axes>"
      ]
     },
     "metadata": {
      "needs_background": "light"
     },
     "output_type": "display_data"
    }
   ],
   "source": [
    "# Let plot the chart to see if X and y have linear relation\n",
    "\n",
    "plt.plot(X, y, \"b.\")\n",
    "plt.xlabel(\"$x_1$\", fontsize=18)\n",
    "plt.ylabel(\"$y$\", rotation=0, fontsize=18)\n",
    "plt.axis([0, 2, 0, 15])\n",
    "plt.show()"
   ]
  },
  {
   "cell_type": "code",
   "execution_count": 3,
   "id": "392b2591",
   "metadata": {},
   "outputs": [],
   "source": [
    "# Let’s compute theta hat using the Normal Equation\n",
    "\n",
    "# Add Bias term X0 = 1 (w0.X0 +w1.X), so there won’t be any effect of X0 in computation\n",
    "\n",
    "X_b = np.c_[np.ones((100, 1)), X]\n",
    "\n",
    "# Apply the normal equation\n",
    "theta_best = np.linalg.inv(X_b.T.dot(X_b)).dot(X_b.T).dot(y)"
   ]
  },
  {
   "cell_type": "code",
   "execution_count": 4,
   "id": "72e9a682",
   "metadata": {},
   "outputs": [
    {
     "name": "stdout",
     "output_type": "stream",
     "text": [
      "[[4.00112273]\n",
      " [2.92700663]] \n",
      " *************\n"
     ]
    }
   ],
   "source": [
    "print (theta_best, '\\n', \"*************\")\n",
    "# print(X_b)"
   ]
  },
  {
   "cell_type": "code",
   "execution_count": 5,
   "id": "1c8000dd",
   "metadata": {},
   "outputs": [],
   "source": [
    "#Let’s make predictions using theta_best\n",
    "\n",
    "X_new = np.array([[0], [2]])\n",
    "\n",
    "# add x0 = 1 to each instance\n",
    "X_new_b = np.c_[np.ones((2, 1)), X_new]\n",
    "\n",
    "y_predict = X_new_b.dot(theta_best)"
   ]
  },
  {
   "cell_type": "code",
   "execution_count": 6,
   "id": "8222668d",
   "metadata": {},
   "outputs": [
    {
     "data": {
      "text/plain": [
       "array([[4.00112273],\n",
       "       [9.85513598]])"
      ]
     },
     "execution_count": 6,
     "metadata": {},
     "output_type": "execute_result"
    }
   ],
   "source": [
    "y_predict"
   ]
  },
  {
   "cell_type": "code",
   "execution_count": 7,
   "id": "c640ed23",
   "metadata": {},
   "outputs": [
    {
     "data": {
      "image/png": "[encoded data removed]",
      "text/plain": [
       "<Figure size 432x288 with 1 Axes>"
      ]
     },
     "metadata": {
      "needs_background": "light"
     },
     "output_type": "display_data"
    }
   ],
   "source": [
    "# Let’s plot the models predictions\n",
    "\n",
    "plt.plot(X_new, y_predict, \"r-\", linewidth=2, label=\"Predictions\")\n",
    "plt.plot(X, y, \"b.\")\n",
    "plt.xlabel(\"$x_1$\", fontsize=18)\n",
    "plt.ylabel(\"$y$\", rotation=0, fontsize=18)\n",
    "plt.legend(loc=\"upper left\", fontsize=14)\n",
    "plt.axis([0, 2, 0, 15])\n",
    "plt.show()"
   ]
  },
  {
   "cell_type": "markdown",
   "id": "38aa8fea",
   "metadata": {},
   "source": [
    "# Using Scikit Learn\n",
    "* We can also use Scikit-Learn for the previous steps\n"
   ]
  },
  {
   "cell_type": "code",
   "execution_count": 9,
   "id": "c069e481",
   "metadata": {},
   "outputs": [
    {
     "data": {
      "text/plain": [
       "(array([4.00112273]), array([[2.92700663]]))"
      ]
     },
     "execution_count": 9,
     "metadata": {},
     "output_type": "execute_result"
    }
   ],
   "source": [
    "from sklearn.linear_model import LinearRegression\n",
    "lin_reg = LinearRegression()\n",
    "lin_reg.fit(X, y)\n",
    "lin_reg.intercept_, lin_reg.coef_"
   ]
  },
  {
   "cell_type": "code",
   "execution_count": 10,
   "id": "b3327a11",
   "metadata": {},
   "outputs": [
    {
     "data": {
      "text/plain": [
       "array([[4.00112273],\n",
       "       [9.85513598]])"
      ]
     },
     "execution_count": 10,
     "metadata": {},
     "output_type": "execute_result"
    }
   ],
   "source": [
    "lin_reg.predict(X_new)"
   ]
  },
  {
   "cell_type": "code",
   "execution_count": null,
   "id": "7010a373",
   "metadata": {},
   "outputs": [],
   "source": []
  }
 ],
 "metadata": {
  "kernelspec": {
   "display_name": "Python 3 (ipykernel)",
   "language": "python",
   "name": "python3"
  },
  "language_info": {
   "codemirror_mode": {
    "name": "ipython",
    "version": 3
   },
   "file_extension": ".py",
   "mimetype": "text/x-python",
   "name": "python",
   "nbconvert_exporter": "python",
   "pygments_lexer": "ipython3",
   "version": "3.9.12"
  }
 },
 "nbformat": 4,
 "nbformat_minor": 5
}
