{
 "cells": [
  {
   "attachments": {},
   "cell_type": "markdown",
   "id": "0e7de59f",
   "metadata": {},
   "source": [
    "# LinkedList"
   ]
  },
  {
   "attachments": {},
   "cell_type": "markdown",
   "id": "e54cb293",
   "metadata": {},
   "source": [
    "#### LinkedList Constructor"
   ]
  },
  {
   "cell_type": "code",
   "execution_count": 17,
   "id": "4de057d0",
   "metadata": {},
   "outputs": [],
   "source": [
    "#Coding Exercise # 1\n",
    "class Node:\n",
    "    def __init__(self, value):\n",
    "        self.value = value\n",
    "        self.next = None\n",
    "        \n",
    "        \n",
    "class LinkedList:\n",
    "    def __init__(self, value):\n",
    "        new_node = Node(value)\n",
    "        self.head = new_node\n",
    "        self.tail = new_node\n",
    "        self.length = 1\n",
    "        \n",
    "    # Print LinkedList\n",
    "    def print_list(self):\n",
    "        temp = self.head\n",
    "        while temp is not None:\n",
    "            print(temp.value)\n",
    "            temp = temp.next\n",
    "    \n",
    "    # Append LinkedList\n",
    "    def append(self, value):\n",
    "        new_node = Node(value)\n",
    "        if self.head == None:\n",
    "            self.head = new_node\n",
    "            self.tail = new_node\n",
    "        else:\n",
    "            new_node = Node(value)\n",
    "            self.tail.next = new_node\n",
    "            self.tail = new_node\n",
    "        self.length += 1\n",
    "        return True\n",
    "    \n",
    "    # Pop Linked List\n",
    "    def pop(self):\n",
    "        if self.length == 0:                    # if there is no node -------------------case 1\n",
    "            return None\n",
    "                                                # if LinkedList has more than one node---case 2\n",
    "        pre = self.head\n",
    "        temp = self.head\n",
    "        while (temp.next):\n",
    "            pre = temp\n",
    "            temp = temp.next\n",
    "        self.tail = pre\n",
    "        self.tail.next = None\n",
    "        self.length -= 1\n",
    "                                                # if Linkelist has only one node---------case 3\n",
    "        if self.length == 0:\n",
    "            self.head = None\n",
    "            self.tail = None\n",
    "        return temp\n"
   ]
  },
  {
   "cell_type": "code",
   "execution_count": null,
   "id": "e4a50868",
   "metadata": {},
   "outputs": [],
   "source": []
  },
  {
   "cell_type": "code",
   "execution_count": null,
   "id": "d764f294",
   "metadata": {},
   "outputs": [],
   "source": []
  },
  {
   "attachments": {},
   "cell_type": "markdown",
   "id": "76ee2364",
   "metadata": {},
   "source": [
    "#\n",
    "\n",
    "my_linked_list = LinkedList(4)\n",
    "\n",
    "\n",
    "print(\"Head:\", my_linked_list.head.value)\n",
    "print(\"Tail:\", my_linked_list.tail.value)\n",
    "print(\"Length:\", my_linked_list.length)"
   ]
  },
  {
   "attachments": {},
   "cell_type": "markdown",
   "id": "d955c75b",
   "metadata": {},
   "source": []
  }
 ],
 "metadata": {
  "kernelspec": {
   "display_name": "Python 3 (ipykernel)",
   "language": "python",
   "name": "python3"
  },
  "language_info": {
   "codemirror_mode": {
    "name": "ipython",
    "version": 3
   },
   "file_extension": ".py",
   "mimetype": "text/x-python",
   "name": "python",
   "nbconvert_exporter": "python",
   "pygments_lexer": "ipython3",
   "version": "3.9.12"
  }
 },
 "nbformat": 4,
 "nbformat_minor": 5
}
