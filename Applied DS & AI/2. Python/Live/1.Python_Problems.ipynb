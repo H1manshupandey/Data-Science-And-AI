{
 "cells": [
  {
   "cell_type": "markdown",
   "metadata": {
    "id": "Abw2sTED-IPQ"
   },
   "source": [
    "## Objective: Learning to solve basic Python problems\n",
    "\n",
    "\n",
    "* Tackle few simple problems relvant to AI/ML\n",
    "    - Break a problem into smaller sub-problems.\n",
    "    - Connecting the dots from sub-problems to coding-concepts.\n",
    "    - Code-walkthrough + Putting it all together.\n",
    "    - More focus on common errors and mistakes + reading function reference + * fixing bugs\n",
    "    - Exercise-problems for practice.\n",
    "    - Introduce new concepts as we need.\n",
    "    - Good programmers may not benifit much from this session.\n",
    "    "
   ]
  },
  {
   "cell_type": "markdown",
   "metadata": {
    "id": "gog-AMMg-IPZ"
   },
   "source": [
    "### Problem 1: Add two randomly generated NumPy matrices using loops \n",
    "    - Sub-problems\n",
    "    - Subproblems ---> coding concepts\n",
    "    - Code-walkthrough + Mistakes\n",
    "    - Exercise: Add two randomly generated NumPy 3D-matrices(tensor) using loops "
   ]
  },
  {
   "cell_type": "code",
   "execution_count": 1,
   "metadata": {
    "colab": {
     "base_uri": "https://localhost:8080/"
    },
    "executionInfo": {
     "elapsed": 3233,
     "status": "ok",
     "timestamp": 1615377822398,
     "user": {
      "displayName": "Applied AI Course",
      "photoUrl": "https://lh3.googleusercontent.com/a-/AOh14GjjpR94Niu_srJxsFT_3bp9vDfqrjd2Zx94jDQdMg=s64",
      "userId": "06629147635963609455"
     },
     "user_tz": -330
    },
    "id": "bO32klOm-IPa",
    "outputId": "b90b212b-f013-4f96-c45c-1f063f78e3aa"
   },
   "outputs": [
    {
     "name": "stdout",
     "output_type": "stream",
     "text": [
      "[[0.11419109 0.04090205 0.6744976  0.12569158]\n",
      " [0.37080561 0.94594833 0.22674558 0.16411151]\n",
      " [0.89926256 0.75835048 0.66838625 0.48044131]\n",
      " [0.98262586 0.12581884 0.03188257 0.51798177]\n",
      " [0.55870847 0.23684287 0.88246898 0.27068062]]\n",
      "(5, 4)\n"
     ]
    }
   ],
   "source": [
    "# create random matrix A1 of size 5X4.\n",
    "### Google \" numpy create random matrices \" & Read through the top 4-5 links\n",
    "### https://www.codespeedy.com/how-to-create-matrix-of-random-numbers-in-python-numpy/\n",
    "\n",
    "import numpy as np\n",
    "A1 = np.random.rand(5,4)  #(rows, Columns)\n",
    "\n",
    "# read documentation to understand the params. Google \"np.random.rand reference\" ---> https://docs.scipy.org/doc/numpy-1.15.1/reference/generated/numpy.random.rand.html\n",
    "\n",
    "##COMMON-ERROR: np.random.rand(4,5)\n",
    "##COMMON_ERROR: \n",
    "\n",
    "print(A1) # always print to ensure that everyhitng works fine.\n",
    "\n",
    "print(A1.shape)\n"
   ]
  },
  {
   "cell_type": "code",
   "execution_count": 2,
   "metadata": {
    "colab": {
     "base_uri": "https://localhost:8080/",
     "height": 167
    },
    "executionInfo": {
     "elapsed": 3234,
     "status": "error",
     "timestamp": 1615377822405,
     "user": {
      "displayName": "Applied AI Course",
      "photoUrl": "https://lh3.googleusercontent.com/a-/AOh14GjjpR94Niu_srJxsFT_3bp9vDfqrjd2Zx94jDQdMg=s64",
      "userId": "06629147635963609455"
     },
     "user_tz": -330
    },
    "id": "8F2ZSjid-IPc",
    "outputId": "c6bc4ce0-3f50-455a-cf43-ec4eb27503d9"
   },
   "outputs": [
    {
     "ename": "TypeError",
     "evalue": "'tuple' object is not callable",
     "output_type": "error",
     "traceback": [
      "\u001b[1;31m---------------------------------------------------------------------------\u001b[0m",
      "\u001b[1;31mTypeError\u001b[0m                                 Traceback (most recent call last)",
      "Input \u001b[1;32mIn [2]\u001b[0m, in \u001b[0;36m<cell line: 1>\u001b[1;34m()\u001b[0m\n\u001b[1;32m----> 1\u001b[0m \u001b[38;5;28mprint\u001b[39m(\u001b[43mA1\u001b[49m\u001b[38;5;241;43m.\u001b[39;49m\u001b[43mshape\u001b[49m\u001b[43m(\u001b[49m\u001b[43m)\u001b[49m)\n",
      "\u001b[1;31mTypeError\u001b[0m: 'tuple' object is not callable"
     ]
    }
   ],
   "source": [
    "print(A1.shape()); #COMMON-ERROR"
   ]
  },
  {
   "cell_type": "code",
   "execution_count": null,
   "metadata": {
    "executionInfo": {
     "elapsed": 3224,
     "status": "aborted",
     "timestamp": 1615377822399,
     "user": {
      "displayName": "Applied AI Course",
      "photoUrl": "https://lh3.googleusercontent.com/a-/AOh14GjjpR94Niu_srJxsFT_3bp9vDfqrjd2Zx94jDQdMg=s64",
      "userId": "06629147635963609455"
     },
     "user_tz": -330
    },
    "id": "52ppUyZB-IPc"
   },
   "outputs": [],
   "source": [
    "print(A1.type); # COMMON-ERROR"
   ]
  },
  {
   "cell_type": "code",
   "execution_count": 3,
   "metadata": {
    "executionInfo": {
     "elapsed": 3222,
     "status": "aborted",
     "timestamp": 1615377822400,
     "user": {
      "displayName": "Applied AI Course",
      "photoUrl": "https://lh3.googleusercontent.com/a-/AOh14GjjpR94Niu_srJxsFT_3bp9vDfqrjd2Zx94jDQdMg=s64",
      "userId": "06629147635963609455"
     },
     "user_tz": -330
    },
    "id": "W336cfcq-IPd"
   },
   "outputs": [
    {
     "name": "stdout",
     "output_type": "stream",
     "text": [
      "<class 'numpy.ndarray'>\n"
     ]
    }
   ],
   "source": [
    "print(type(A1));"
   ]
  },
  {
   "cell_type": "code",
   "execution_count": 4,
   "metadata": {
    "executionInfo": {
     "elapsed": 3220,
     "status": "aborted",
     "timestamp": 1615377822400,
     "user": {
      "displayName": "Applied AI Course",
      "photoUrl": "https://lh3.googleusercontent.com/a-/AOh14GjjpR94Niu_srJxsFT_3bp9vDfqrjd2Zx94jDQdMg=s64",
      "userId": "06629147635963609455"
     },
     "user_tz": -330
    },
    "id": "No1raYG1-IPd"
   },
   "outputs": [],
   "source": [
    "# Read through the attributes and methods in numpy.ndarray class\n",
    "## Google \"numpy.ndarray\" ---> https://docs.scipy.org/doc/numpy/reference/generated/numpy.ndarray.html\n",
    "\n",
    "## Pre-Google programmers: Read reference docs."
   ]
  },
  {
   "cell_type": "code",
   "execution_count": 5,
   "metadata": {
    "executionInfo": {
     "elapsed": 3218,
     "status": "aborted",
     "timestamp": 1615377822401,
     "user": {
      "displayName": "Applied AI Course",
      "photoUrl": "https://lh3.googleusercontent.com/a-/AOh14GjjpR94Niu_srJxsFT_3bp9vDfqrjd2Zx94jDQdMg=s64",
      "userId": "06629147635963609455"
     },
     "user_tz": -330
    },
    "id": "itjFQ2hk-IPd"
   },
   "outputs": [
    {
     "name": "stdout",
     "output_type": "stream",
     "text": [
      "[[0.60978144 0.10047343 0.10608134 0.52186963]\n",
      " [0.50175274 0.73723035 0.29758813 0.53364459]\n",
      " [0.64007945 0.13759513 0.36864652 0.32285154]\n",
      " [0.49424465 0.28593887 0.48683157 0.43318618]\n",
      " [0.05378806 0.0447652  0.36694029 0.16489729]]\n"
     ]
    }
   ],
   "source": [
    "# Create random Matrix A2\n",
    "A2 = np.random.rand(5,4);\n",
    "\n",
    "print(A2);"
   ]
  },
  {
   "cell_type": "code",
   "execution_count": 6,
   "metadata": {
    "executionInfo": {
     "elapsed": 3215,
     "status": "aborted",
     "timestamp": 1615377822401,
     "user": {
      "displayName": "Applied AI Course",
      "photoUrl": "https://lh3.googleusercontent.com/a-/AOh14GjjpR94Niu_srJxsFT_3bp9vDfqrjd2Zx94jDQdMg=s64",
      "userId": "06629147635963609455"
     },
     "user_tz": -330
    },
    "id": "fv-xhX3U-IPe"
   },
   "outputs": [
    {
     "name": "stdout",
     "output_type": "stream",
     "text": [
      "0.4804413128856596\n"
     ]
    }
   ],
   "source": [
    "# Add element wise using loops A1+A2 = B\n",
    "\n",
    "## Google \"Accessing i,j th element in an ndarray\" ---> https://docs.scipy.org/doc/numpy/reference/arrays.ndarray.html\n",
    "print(A1[2,3]);\n"
   ]
  },
  {
   "cell_type": "code",
   "execution_count": 7,
   "metadata": {
    "executionInfo": {
     "elapsed": 3213,
     "status": "aborted",
     "timestamp": 1615377822402,
     "user": {
      "displayName": "Applied AI Course",
      "photoUrl": "https://lh3.googleusercontent.com/a-/AOh14GjjpR94Niu_srJxsFT_3bp9vDfqrjd2Zx94jDQdMg=s64",
      "userId": "06629147635963609455"
     },
     "user_tz": -330
    },
    "id": "5v6pjkld-IPe"
   },
   "outputs": [
    {
     "ename": "TypeError",
     "evalue": "'numpy.ndarray' object is not callable",
     "output_type": "error",
     "traceback": [
      "\u001b[1;31m---------------------------------------------------------------------------\u001b[0m",
      "\u001b[1;31mTypeError\u001b[0m                                 Traceback (most recent call last)",
      "Input \u001b[1;32mIn [7]\u001b[0m, in \u001b[0;36m<cell line: 1>\u001b[1;34m()\u001b[0m\n\u001b[1;32m----> 1\u001b[0m \u001b[38;5;28mprint\u001b[39m(\u001b[43mA1\u001b[49m\u001b[43m(\u001b[49m\u001b[38;5;241;43m2\u001b[39;49m\u001b[43m,\u001b[49m\u001b[38;5;241;43m3\u001b[39;49m\u001b[43m)\u001b[49m)\n",
      "\u001b[1;31mTypeError\u001b[0m: 'numpy.ndarray' object is not callable"
     ]
    }
   ],
   "source": [
    "print(A1(2,3)); #COMMON_ERROR >>>>>>>> print(A1[2,3]) or print(A1[(2,3)])"
   ]
  },
  {
   "cell_type": "code",
   "execution_count": 8,
   "metadata": {
    "executionInfo": {
     "elapsed": 3210,
     "status": "aborted",
     "timestamp": 1615377822402,
     "user": {
      "displayName": "Applied AI Course",
      "photoUrl": "https://lh3.googleusercontent.com/a-/AOh14GjjpR94Niu_srJxsFT_3bp9vDfqrjd2Zx94jDQdMg=s64",
      "userId": "06629147635963609455"
     },
     "user_tz": -330
    },
    "id": "ne_zKySV-IPf"
   },
   "outputs": [
    {
     "name": "stdout",
     "output_type": "stream",
     "text": [
      "[[0.72397253 0.14137549 0.78057895 0.64756121]\n",
      " [0.87255835 1.68317868 0.52433371 0.69775611]\n",
      " [1.53934201 0.89594561 1.03703277 0.80329285]\n",
      " [1.4768705  0.41175771 0.51871414 0.95116796]\n",
      " [0.61249653 0.28160808 1.24940927 0.43557792]]\n"
     ]
    }
   ],
   "source": [
    "B= A1+A2; # using + operator on ndarrays\n",
    "print(B); "
   ]
  },
  {
   "cell_type": "code",
   "execution_count": 9,
   "metadata": {
    "executionInfo": {
     "elapsed": 3207,
     "status": "aborted",
     "timestamp": 1615377822403,
     "user": {
      "displayName": "Applied AI Course",
      "photoUrl": "https://lh3.googleusercontent.com/a-/AOh14GjjpR94Niu_srJxsFT_3bp9vDfqrjd2Zx94jDQdMg=s64",
      "userId": "06629147635963609455"
     },
     "user_tz": -330
    },
    "id": "rx3do7cC-IPf"
   },
   "outputs": [
    {
     "name": "stdout",
     "output_type": "stream",
     "text": [
      "5 4\n"
     ]
    }
   ],
   "source": [
    "(r,c) = A1.shape;\n",
    "print(r,c)"
   ]
  },
  {
   "cell_type": "code",
   "execution_count": 10,
   "metadata": {
    "executionInfo": {
     "elapsed": 3204,
     "status": "aborted",
     "timestamp": 1615377822403,
     "user": {
      "displayName": "Applied AI Course",
      "photoUrl": "https://lh3.googleusercontent.com/a-/AOh14GjjpR94Niu_srJxsFT_3bp9vDfqrjd2Zx94jDQdMg=s64",
      "userId": "06629147635963609455"
     },
     "user_tz": -330
    },
    "id": "_Rp66p0k-IPg"
   },
   "outputs": [
    {
     "name": "stdout",
     "output_type": "stream",
     "text": [
      "[[0.72397253 0.14137549 0.78057895 0.64756121]\n",
      " [0.87255835 1.68317868 0.52433371 0.69775611]\n",
      " [1.53934201 0.89594561 1.03703277 0.80329285]\n",
      " [1.4768705  0.41175771 0.51871414 0.95116796]\n",
      " [0.61249653 0.28160808 1.24940927 0.43557792]]\n"
     ]
    }
   ],
   "source": [
    "#B[i,j] = A1[i,j] + A2 [i,j] \n",
    "\n",
    "for i in range(r):\n",
    "    for j in range(c):\n",
    "        B[i,j] = A1[i,j] + A2[i,j];\n",
    "        \n",
    "print(B)"
   ]
  },
  {
   "cell_type": "code",
   "execution_count": 11,
   "metadata": {
    "executionInfo": {
     "elapsed": 3202,
     "status": "aborted",
     "timestamp": 1615377822404,
     "user": {
      "displayName": "Applied AI Course",
      "photoUrl": "https://lh3.googleusercontent.com/a-/AOh14GjjpR94Niu_srJxsFT_3bp9vDfqrjd2Zx94jDQdMg=s64",
      "userId": "06629147635963609455"
     },
     "user_tz": -330
    },
    "id": "n3OHZezn-IPg"
   },
   "outputs": [
    {
     "ename": "TypeError",
     "evalue": "Cannot interpret '4' as a data type",
     "output_type": "error",
     "traceback": [
      "\u001b[1;31m---------------------------------------------------------------------------\u001b[0m",
      "\u001b[1;31mTypeError\u001b[0m                                 Traceback (most recent call last)",
      "Input \u001b[1;32mIn [11]\u001b[0m, in \u001b[0;36m<cell line: 2>\u001b[1;34m()\u001b[0m\n\u001b[0;32m      1\u001b[0m \u001b[38;5;66;03m# OPTIMIZATION: Pre-allocate matrix B\u001b[39;00m\n\u001b[1;32m----> 2\u001b[0m B \u001b[38;5;241m=\u001b[39m \u001b[43mnp\u001b[49m\u001b[38;5;241;43m.\u001b[39;49m\u001b[43mzeros\u001b[49m\u001b[43m(\u001b[49m\u001b[38;5;241;43m5\u001b[39;49m\u001b[43m,\u001b[49m\u001b[38;5;241;43m4\u001b[39;49m\u001b[43m)\u001b[49m\n",
      "\u001b[1;31mTypeError\u001b[0m: Cannot interpret '4' as a data type"
     ]
    }
   ],
   "source": [
    "# OPTIMIZATION: Pre-allocate matrix B\n",
    "B = np.zeros(5,4); # COMMON-ERROR"
   ]
  },
  {
   "cell_type": "code",
   "execution_count": 12,
   "metadata": {},
   "outputs": [
    {
     "data": {
      "text/plain": [
       "array([[0., 0., 0., 0.],\n",
       "       [0., 0., 0., 0.],\n",
       "       [0., 0., 0., 0.],\n",
       "       [0., 0., 0., 0.],\n",
       "       [0., 0., 0., 0.]])"
      ]
     },
     "execution_count": 12,
     "metadata": {},
     "output_type": "execute_result"
    }
   ],
   "source": [
    "B = np.zeros((5,4))\n",
    "B"
   ]
  },
  {
   "cell_type": "code",
   "execution_count": 13,
   "metadata": {
    "executionInfo": {
     "elapsed": 3199,
     "status": "aborted",
     "timestamp": 1615377822404,
     "user": {
      "displayName": "Applied AI Course",
      "photoUrl": "https://lh3.googleusercontent.com/a-/AOh14GjjpR94Niu_srJxsFT_3bp9vDfqrjd2Zx94jDQdMg=s64",
      "userId": "06629147635963609455"
     },
     "user_tz": -330
    },
    "id": "zmBaIGXT-IPg"
   },
   "outputs": [
    {
     "name": "stdout",
     "output_type": "stream",
     "text": [
      "[[0.72397253 0.14137549 0.78057895 0.64756121]\n",
      " [0.87255835 1.68317868 0.52433371 0.69775611]\n",
      " [1.53934201 0.89594561 1.03703277 0.80329285]\n",
      " [1.4768705  0.41175771 0.51871414 0.95116796]\n",
      " [0.61249653 0.28160808 1.24940927 0.43557792]]\n"
     ]
    }
   ],
   "source": [
    "#Google \"np.zeros\" ---> https://docs.scipy.org/doc/numpy/reference/generated/numpy.zeros.html\n",
    "\n",
    "\n",
    "for i in range(r): # same code as earlier\n",
    "    for j in range(c):\n",
    "        B[i,j] = A1[i,j] + A2[i,j];\n",
    "        \n",
    "print(B)"
   ]
  },
  {
   "cell_type": "code",
   "execution_count": 14,
   "metadata": {
    "executionInfo": {
     "elapsed": 3199,
     "status": "aborted",
     "timestamp": 1615377822405,
     "user": {
      "displayName": "Applied AI Course",
      "photoUrl": "https://lh3.googleusercontent.com/a-/AOh14GjjpR94Niu_srJxsFT_3bp9vDfqrjd2Zx94jDQdMg=s64",
      "userId": "06629147635963609455"
     },
     "user_tz": -330
    },
    "id": "b2R7VyiM-IPh"
   },
   "outputs": [],
   "source": [
    "# Time Complexity: ?  O(r * c)\n",
    "\n",
    "# Space Complxiety: ? O(1)   ---we should not include i/p & o/p space"
   ]
  },
  {
   "cell_type": "markdown",
   "metadata": {
    "id": "udTsFwq0-IPh"
   },
   "source": [
    "#### Exercise: Add two randomly generated NumPy 3D-matrices(tensor) using loops \n",
    "\n",
    "HINT: B[i,j,k] = A1[i,j,k] + A2[i,j,k]\n",
    "****************************************************************************************************************\n",
    "****************************************************************************************************************\n",
    "****************************************************************************************************************"
   ]
  },
  {
   "cell_type": "code",
   "execution_count": 15,
   "metadata": {},
   "outputs": [
    {
     "name": "stdout",
     "output_type": "stream",
     "text": [
      "[[[0.24786776 1.4136874  1.61807115 0.84495236]\n",
      "  [1.13478853 0.81959093 1.4843208  0.35647493]\n",
      "  [1.17654991 1.01036462 1.00011305 1.17683889]\n",
      "  [0.66221768 1.11841415 0.60526931 0.80642776]\n",
      "  [0.67525313 1.7720758  0.24770592 1.51785792]]\n",
      "\n",
      " [[0.77957268 1.31336045 0.76760056 1.91602739]\n",
      "  [1.07563245 0.36612403 0.86691378 0.69305726]\n",
      "  [1.59943421 0.61865248 0.85998634 1.14223012]\n",
      "  [1.17358639 1.16740678 1.24624596 0.44413292]\n",
      "  [0.94805791 0.59213453 1.43807366 0.82219936]]]\n"
     ]
    }
   ],
   "source": [
    "A1 = np.random.rand(2, 5,4,)  #( dimension, rows, Columns)\n",
    "\n",
    "\n",
    "A2 = np.random.rand(2, 5, 4);\n",
    "\n",
    "B = np.zeros((2,5,4))\n",
    "\n",
    "d,r,c = A1.shape\n",
    "for k in range(d):\n",
    "    for i in range(r): # same code as earlier\n",
    "        for j in range(c):\n",
    "            B[k,i,j] = A1[k,i,j] + A2[k,i,j];\n",
    "        \n",
    "print(B)"
   ]
  },
  {
   "cell_type": "markdown",
   "metadata": {
    "id": "6lRyhkK--IPi"
   },
   "source": [
    "### Problem 2: Find if a given 2D-point is inside (or) outside a circle \n",
    "    - Subproblems.\n",
    "    - Subproblems --> coding concepts.\n",
    "    - putting it all together.\n",
    "    - Exercise: Find if a given 2D point is inside (or) outside a rectangle ? \n",
    "   "
   ]
  },
  {
   "cell_type": "code",
   "execution_count": 16,
   "metadata": {
    "id": "Qsbb7TXN-IPi",
    "outputId": "9ba26f93-b0dc-4e35-b498-2f2330dac65f"
   },
   "outputs": [
    {
     "name": "stdout",
     "output_type": "stream",
     "text": [
      "Enter Cx, Cy, r:\n"
     ]
    },
    {
     "ename": "NameError",
     "evalue": "name 'raw_input' is not defined",
     "output_type": "error",
     "traceback": [
      "\u001b[1;31m---------------------------------------------------------------------------\u001b[0m",
      "\u001b[1;31mNameError\u001b[0m                                 Traceback (most recent call last)",
      "Input \u001b[1;32mIn [16]\u001b[0m, in \u001b[0;36m<cell line: 6>\u001b[1;34m()\u001b[0m\n\u001b[0;32m      1\u001b[0m \u001b[38;5;66;03m## input circle (C) and point(P)\u001b[39;00m\n\u001b[0;32m      2\u001b[0m \n\u001b[0;32m      3\u001b[0m \u001b[38;5;66;03m# input circle params\u001b[39;00m\n\u001b[0;32m      4\u001b[0m \u001b[38;5;66;03m# Google \" input multiple values python 3\" ---> https://www.geeksforgeeks.org/input-multiple-values-user-one-line-python/\u001b[39;00m\n\u001b[0;32m      5\u001b[0m \u001b[38;5;28mprint\u001b[39m(\u001b[38;5;124m\"\u001b[39m\u001b[38;5;124mEnter Cx, Cy, r:\u001b[39m\u001b[38;5;124m\"\u001b[39m);\n\u001b[1;32m----> 6\u001b[0m (Cx, Cy, r) \u001b[38;5;241m=\u001b[39m \u001b[43mraw_input\u001b[49m()\u001b[38;5;241m.\u001b[39msplit();\n\u001b[0;32m      8\u001b[0m \u001b[38;5;28mprint\u001b[39m(Cx, Cy, r)\n",
      "\u001b[1;31mNameError\u001b[0m: name 'raw_input' is not defined"
     ]
    }
   ],
   "source": [
    "\n",
    "## input circle (C) and point(P)\n",
    "\n",
    "# input circle params\n",
    "# Google \" input multiple values python 3\" ---> https://www.geeksforgeeks.org/input-multiple-values-user-one-line-python/\n",
    "print(\"Enter Cx, Cy, r:\");\n",
    "(Cx, Cy, r) = raw_input().split();\n",
    "\n",
    "print(Cx, Cy, r); # always cross check using print statements\n",
    "\n",
    "# raw input not in Python3"
   ]
  },
  {
   "cell_type": "code",
   "execution_count": 41,
   "metadata": {
    "id": "fRyYZ8gw-IPj",
    "outputId": "346a6678-8523-4d2c-c763-bd085e16e38e"
   },
   "outputs": [
    {
     "name": "stdout",
     "output_type": "stream",
     "text": [
      "0 0 5\n",
      "0.0 0.0 5.0\n"
     ]
    }
   ],
   "source": [
    "# input circle params\n",
    "## Google \"python input multiple values in single line\" ----> https://www.tutorialspoint.com/how-to-input-multiple-values-from-user-in-one-line-in-python\n",
    "## TRY MULTIPLE APPROACHES and learn from each attempt.\n",
    "\n",
    "# Cx, Cy, r = input(\"Enter Cx, Cy, r:\").split(); #>>>> not working\n",
    "\n",
    "Cx, Cy, r = map(float, input().split())\n",
    "#Cx, Cy, r = input(), input(), input()\n",
    "print(Cx, Cy,r)"
   ]
  },
  {
   "cell_type": "code",
   "execution_count": 42,
   "metadata": {
    "id": "tdVuZyuB-IPj",
    "outputId": "a62f6ac2-2ef7-43f6-8f02-039df557eb9a"
   },
   "outputs": [
    {
     "name": "stdout",
     "output_type": "stream",
     "text": [
      "<class 'float'>\n"
     ]
    }
   ],
   "source": [
    "# Google \" SyntaxError: invalid syntax input Python3 string\" --> https://stackoverflow.com/questions/25174925/syntax-error-for-input\n",
    "#Cx, Cy, r = raw_input(\"Enter Cx, Cy, r:\").split();\n",
    "print(type(Cx))"
   ]
  },
  {
   "cell_type": "code",
   "execution_count": null,
   "metadata": {
    "id": "D0ISeL0O-IPj",
    "outputId": "44edca2a-fe8e-4714-eb85-d3608f971c01"
   },
   "outputs": [],
   "source": [
    "print(Cx, Cy,r)"
   ]
  },
  {
   "cell_type": "code",
   "execution_count": null,
   "metadata": {
    "id": "52hoPbDU-IPk",
    "outputId": "13aeb104-537e-4ef7-c42a-162f396e5d57"
   },
   "outputs": [],
   "source": [
    "# Input Px, Py\n",
    "\n",
    "Px, Py = map(float, input(\"Enter Px, Py:\").split())\n",
    "print(Px, Py);"
   ]
  },
  {
   "cell_type": "code",
   "execution_count": 34,
   "metadata": {
    "id": "n93qPm-2-IPk",
    "outputId": "ae078b7d-2a6a-47c7-beec-2a91675d105c",
    "scrolled": true
   },
   "outputs": [
    {
     "name": "stdout",
     "output_type": "stream",
     "text": [
      "2.0\n",
      "P in C\n"
     ]
    }
   ],
   "source": [
    "# # Check if P lies in C.\n",
    "# d = ( (Cx-Px)**2 + (Cy-Py)**2 )   # missing sqrt\n",
    "# print(d);\n",
    "\n",
    "# if d<r:\n",
    "#     print(\"P in C\")\n",
    "# else:\n",
    "#     print(\"P NOT in C\")"
   ]
  },
  {
   "cell_type": "code",
   "execution_count": 35,
   "metadata": {
    "id": "nmFLyXGi-IPl",
    "outputId": "a85e0281-a721-400e-87e8-86a4f287e433"
   },
   "outputs": [
    {
     "name": "stdout",
     "output_type": "stream",
     "text": [
      "1.4142135623730951\n",
      "P in C\n"
     ]
    }
   ],
   "source": [
    "# Check if P lies in C.\n",
    "\n",
    "## String to Float. Very important to note that split() returns Strings\n",
    "Cx = float(Cx);\n",
    "Cy = float(Cy);\n",
    "r =float(r);\n",
    "Px= float(Px);\n",
    "Py = float(Py);\n",
    "\n",
    "import math \n",
    "\n",
    "d = math.sqrt( (Cx-Px)**2 + (Cy-Py)**2 )\n",
    "print(d);\n",
    "\n",
    "if d<r:\n",
    "    print(\"P in C\")\n",
    "else:\n",
    "    print(\"P NOT in C\")"
   ]
  },
  {
   "cell_type": "markdown",
   "metadata": {
    "id": "ykY_t1TV-IPl"
   },
   "source": [
    "#### Exercise: Find if a point is inside or outside a rectangle.\n",
    "\n",
    "HINT: How do you represent a rectangle?\n",
    "\n",
    "********************************************\n",
    "********************************************\n",
    "********************************************"
   ]
  },
  {
   "cell_type": "code",
   "execution_count": 7,
   "metadata": {},
   "outputs": [
    {
     "name": "stdout",
     "output_type": "stream",
     "text": [
      "Enter TRx, TRy:8 5\n",
      "Enter BLx, BLy :1 1 \n",
      "Enter Px, Py:5 4\n"
     ]
    },
    {
     "data": {
      "text/plain": [
       "True"
      ]
     },
     "execution_count": 7,
     "metadata": {},
     "output_type": "execute_result"
    }
   ],
   "source": [
    "#solution1\n",
    "\n",
    "# TRx,y == top right || BLx,y == Bottom left || Px,y == Point\n",
    "TRx, TRy = map(float, input(\"Enter TRx, TRy:\").split())\n",
    "BLx, BLy = map(float, input(\"Enter BLx, BLy :\").split())\n",
    "Px, Py = map(float, input(\"Enter Px, Py:\").split())\n",
    "\n",
    "def in_Rectangle(TRx, TRy,BLx, BLy, Px, Py ) :\n",
    "    if (Px > BLx and Px < TRx and Py > BLy and Py < TRy ):\n",
    "          return True\n",
    "    else :\n",
    "          return False\n",
    "in_Rectangle(TRx, TRy,BLx, BLy, Px, Py)\n",
    "\n",
    "#Solution 2: We can use Array\n",
    "\n",
    "# def solve(bl, tr, p) :\n",
    "#    if (p[0] > bl[0] and p[0] < tr[0] and p[1] > bl[1] and p[1] < tr[1]) :\n",
    "#       return True\n",
    "#    else :\n",
    "#       return False\n",
    "# bottom_left = (1, 1)\n",
    "# top_right = (8, 5)\n",
    "# point = (5, 4)\n",
    "# print(solve(bottom_left, top_right, point))"
   ]
  },
  {
   "cell_type": "markdown",
   "metadata": {
    "id": "GUrAkPph-IPl"
   },
   "source": [
    "### Problem 3: NumPy ndarray manupualtion operations\n"
   ]
  },
  {
   "cell_type": "code",
   "execution_count": 9,
   "metadata": {
    "id": "TjmKcKDE-IPm",
    "outputId": "f5bae4f6-8002-409d-e582-6a589b616012"
   },
   "outputs": [
    {
     "name": "stdout",
     "output_type": "stream",
     "text": [
      "[[0.02824635 0.06020137 0.99766116 0.19883466]\n",
      " [0.55753494 0.16229568 0.46729426 0.78151506]\n",
      " [0.41144438 0.67090354 0.05785613 0.52656697]\n",
      " [0.75480889 0.85201136 0.71817891 0.60641832]\n",
      " [0.65058428 0.06063225 0.27023775 0.36227192]]\n"
     ]
    }
   ],
   "source": [
    "import numpy as np\n",
    "# 1. Reshape matrices: Very COMMON-ERRORS in Assignments\n",
    "A = np.random.rand(5,4);\n",
    "print(A);\n"
   ]
  },
  {
   "cell_type": "code",
   "execution_count": 10,
   "metadata": {
    "id": "KUTZ3cls-IPm",
    "outputId": "e879124b-115f-451e-b6f4-6a1149c192ba"
   },
   "outputs": [
    {
     "name": "stdout",
     "output_type": "stream",
     "text": [
      "[0.02824635 0.06020137 0.99766116 0.19883466 0.55753494 0.16229568\n",
      " 0.46729426 0.78151506 0.41144438 0.67090354 0.05785613 0.52656697\n",
      " 0.75480889 0.85201136 0.71817891 0.60641832 0.65058428 0.06063225\n",
      " 0.27023775 0.36227192]\n"
     ]
    }
   ],
   "source": [
    "## reshape into a vector row-major-order\n",
    "###https://docs.scipy.org/doc/numpy/reference/generated/numpy.reshape.html \n",
    "### Patiently read the documentation and try alternaive params\n",
    "print( np.reshape(A, 20, 'C'))  # 'C' >>> Row major order\n"
   ]
  },
  {
   "cell_type": "code",
   "execution_count": 12,
   "metadata": {
    "id": "Q5kQWL5p-IPm",
    "outputId": "c58582d1-7ff2-4fbc-b173-9d5b4db07248"
   },
   "outputs": [
    {
     "name": "stdout",
     "output_type": "stream",
     "text": [
      "[0.02824635 0.55753494 0.41144438 0.75480889 0.65058428 0.06020137\n",
      " 0.16229568 0.67090354 0.85201136 0.06063225 0.99766116 0.46729426\n",
      " 0.05785613 0.71817891 0.27023775 0.19883466 0.78151506 0.52656697\n",
      " 0.60641832 0.36227192]\n"
     ]
    }
   ],
   "source": [
    "print( np.reshape(A, 20, 'F')) # Fortran >> Column major order"
   ]
  },
  {
   "cell_type": "code",
   "execution_count": 13,
   "metadata": {
    "id": "NelYjP4Y-IPm",
    "outputId": "04c39daf-cc3f-4317-da09-7eb3af67a08e"
   },
   "outputs": [
    {
     "name": "stdout",
     "output_type": "stream",
     "text": [
      "[[0.02824635 0.06020137 0.99766116 0.19883466 0.55753494]\n",
      " [0.16229568 0.46729426 0.78151506 0.41144438 0.67090354]\n",
      " [0.05785613 0.52656697 0.75480889 0.85201136 0.71817891]\n",
      " [0.60641832 0.65058428 0.06063225 0.27023775 0.36227192]]\n"
     ]
    }
   ],
   "source": [
    "print( np.reshape(A, (4,5), 'C'))"
   ]
  },
  {
   "cell_type": "code",
   "execution_count": 14,
   "metadata": {
    "id": "dLQuXHpi-IPn",
    "outputId": "8b19ff7e-ead4-4328-e676-f4e2973210ba"
   },
   "outputs": [
    {
     "name": "stdout",
     "output_type": "stream",
     "text": [
      "[[0.02824635 0.06020137 0.99766116 0.19883466 0.55753494]\n",
      " [0.16229568 0.46729426 0.78151506 0.41144438 0.67090354]\n",
      " [0.05785613 0.52656697 0.75480889 0.85201136 0.71817891]\n",
      " [0.60641832 0.65058428 0.06063225 0.27023775 0.36227192]]\n"
     ]
    }
   ],
   "source": [
    "print( np.reshape(A, (4,-1), 'C'))"
   ]
  },
  {
   "cell_type": "code",
   "execution_count": 15,
   "metadata": {
    "id": "Fff3Q4m1-IPn",
    "outputId": "b18e8435-d0f7-406a-a125-45a749d7550f"
   },
   "outputs": [
    {
     "name": "stdout",
     "output_type": "stream",
     "text": [
      "[[0.02824635 0.06020137 0.99766116 0.19883466 0.55753494]\n",
      " [0.16229568 0.46729426 0.78151506 0.41144438 0.67090354]\n",
      " [0.05785613 0.52656697 0.75480889 0.85201136 0.71817891]\n",
      " [0.60641832 0.65058428 0.06063225 0.27023775 0.36227192]]\n"
     ]
    }
   ],
   "source": [
    "print( np.reshape(A, (-1,5), 'C'))"
   ]
  },
  {
   "cell_type": "code",
   "execution_count": 16,
   "metadata": {
    "id": "9Xp1gFHW-IPo",
    "outputId": "17470a96-3b1a-4498-80f9-64a029d0568d"
   },
   "outputs": [
    {
     "ename": "ValueError",
     "evalue": "cannot reshape array of size 20 into shape (4,6)",
     "output_type": "error",
     "traceback": [
      "\u001b[1;31m---------------------------------------------------------------------------\u001b[0m",
      "\u001b[1;31mValueError\u001b[0m                                Traceback (most recent call last)",
      "Input \u001b[1;32mIn [16]\u001b[0m, in \u001b[0;36m<cell line: 1>\u001b[1;34m()\u001b[0m\n\u001b[1;32m----> 1\u001b[0m \u001b[38;5;28mprint\u001b[39m( \u001b[43mnp\u001b[49m\u001b[38;5;241;43m.\u001b[39;49m\u001b[43mreshape\u001b[49m\u001b[43m(\u001b[49m\u001b[43mA\u001b[49m\u001b[43m,\u001b[49m\u001b[43m \u001b[49m\u001b[43m(\u001b[49m\u001b[38;5;241;43m4\u001b[39;49m\u001b[43m,\u001b[49m\u001b[38;5;241;43m6\u001b[39;49m\u001b[43m)\u001b[49m\u001b[43m,\u001b[49m\u001b[43m \u001b[49m\u001b[38;5;124;43m'\u001b[39;49m\u001b[38;5;124;43mC\u001b[39;49m\u001b[38;5;124;43m'\u001b[39;49m\u001b[43m)\u001b[49m)\n",
      "File \u001b[1;32m<__array_function__ internals>:5\u001b[0m, in \u001b[0;36mreshape\u001b[1;34m(*args, **kwargs)\u001b[0m\n",
      "File \u001b[1;32mE:\\Anaconda\\lib\\site-packages\\numpy\\core\\fromnumeric.py:298\u001b[0m, in \u001b[0;36mreshape\u001b[1;34m(a, newshape, order)\u001b[0m\n\u001b[0;32m    198\u001b[0m \u001b[38;5;129m@array_function_dispatch\u001b[39m(_reshape_dispatcher)\n\u001b[0;32m    199\u001b[0m \u001b[38;5;28;01mdef\u001b[39;00m \u001b[38;5;21mreshape\u001b[39m(a, newshape, order\u001b[38;5;241m=\u001b[39m\u001b[38;5;124m'\u001b[39m\u001b[38;5;124mC\u001b[39m\u001b[38;5;124m'\u001b[39m):\n\u001b[0;32m    200\u001b[0m     \u001b[38;5;124;03m\"\"\"\u001b[39;00m\n\u001b[0;32m    201\u001b[0m \u001b[38;5;124;03m    Gives a new shape to an array without changing its data.\u001b[39;00m\n\u001b[0;32m    202\u001b[0m \n\u001b[1;32m   (...)\u001b[0m\n\u001b[0;32m    296\u001b[0m \u001b[38;5;124;03m           [5, 6]])\u001b[39;00m\n\u001b[0;32m    297\u001b[0m \u001b[38;5;124;03m    \"\"\"\u001b[39;00m\n\u001b[1;32m--> 298\u001b[0m     \u001b[38;5;28;01mreturn\u001b[39;00m \u001b[43m_wrapfunc\u001b[49m\u001b[43m(\u001b[49m\u001b[43ma\u001b[49m\u001b[43m,\u001b[49m\u001b[43m \u001b[49m\u001b[38;5;124;43m'\u001b[39;49m\u001b[38;5;124;43mreshape\u001b[39;49m\u001b[38;5;124;43m'\u001b[39;49m\u001b[43m,\u001b[49m\u001b[43m \u001b[49m\u001b[43mnewshape\u001b[49m\u001b[43m,\u001b[49m\u001b[43m \u001b[49m\u001b[43morder\u001b[49m\u001b[38;5;241;43m=\u001b[39;49m\u001b[43morder\u001b[49m\u001b[43m)\u001b[49m\n",
      "File \u001b[1;32mE:\\Anaconda\\lib\\site-packages\\numpy\\core\\fromnumeric.py:57\u001b[0m, in \u001b[0;36m_wrapfunc\u001b[1;34m(obj, method, *args, **kwds)\u001b[0m\n\u001b[0;32m     54\u001b[0m     \u001b[38;5;28;01mreturn\u001b[39;00m _wrapit(obj, method, \u001b[38;5;241m*\u001b[39margs, \u001b[38;5;241m*\u001b[39m\u001b[38;5;241m*\u001b[39mkwds)\n\u001b[0;32m     56\u001b[0m \u001b[38;5;28;01mtry\u001b[39;00m:\n\u001b[1;32m---> 57\u001b[0m     \u001b[38;5;28;01mreturn\u001b[39;00m bound(\u001b[38;5;241m*\u001b[39margs, \u001b[38;5;241m*\u001b[39m\u001b[38;5;241m*\u001b[39mkwds)\n\u001b[0;32m     58\u001b[0m \u001b[38;5;28;01mexcept\u001b[39;00m \u001b[38;5;167;01mTypeError\u001b[39;00m:\n\u001b[0;32m     59\u001b[0m     \u001b[38;5;66;03m# A TypeError occurs if the object does have such a method in its\u001b[39;00m\n\u001b[0;32m     60\u001b[0m     \u001b[38;5;66;03m# class, but its signature is not identical to that of NumPy's. This\u001b[39;00m\n\u001b[1;32m   (...)\u001b[0m\n\u001b[0;32m     64\u001b[0m     \u001b[38;5;66;03m# Call _wrapit from within the except clause to ensure a potential\u001b[39;00m\n\u001b[0;32m     65\u001b[0m     \u001b[38;5;66;03m# exception has a traceback chain.\u001b[39;00m\n\u001b[0;32m     66\u001b[0m     \u001b[38;5;28;01mreturn\u001b[39;00m _wrapit(obj, method, \u001b[38;5;241m*\u001b[39margs, \u001b[38;5;241m*\u001b[39m\u001b[38;5;241m*\u001b[39mkwds)\n",
      "\u001b[1;31mValueError\u001b[0m: cannot reshape array of size 20 into shape (4,6)"
     ]
    }
   ],
   "source": [
    "print( np.reshape(A, (4,6), 'C'))"
   ]
  },
  {
   "cell_type": "markdown",
   "metadata": {
    "id": "lJZBGckT-IPq"
   },
   "source": [
    "#### Exercise: take a tensor of size 4X5X6 and convert it into a tensor of vector and matrix (10X12)."
   ]
  },
  {
   "cell_type": "code",
   "execution_count": null,
   "metadata": {},
   "outputs": [],
   "source": [
    "#solution\n",
    "\n",
    "A = np.random.rand(4,5,6)\n",
    "print( np.reshape(A, (120), 'C'))     # 1d Vector\n",
    "print( np.reshape(A, (10,12), 'C'))"
   ]
  },
  {
   "cell_type": "code",
   "execution_count": 23,
   "metadata": {
    "id": "Fw9KWRho-IPq",
    "outputId": "1bd637c1-583f-4297-c90f-fe35f473ac38"
   },
   "outputs": [
    {
     "name": "stdout",
     "output_type": "stream",
     "text": [
      "[[0.51753849 0.00413627 0.93655    0.91733812]\n",
      " [0.43592759 0.75002353 0.03718398 0.90379814]\n",
      " [0.34974612 0.01534318 0.15905686 0.5169208 ]\n",
      " [0.28975018 0.96340479 0.20674238 0.04551855]\n",
      " [0.2000864  0.50675347 0.13491329 0.8155138 ]]\n",
      "[[0.92995482 0.80144001]\n",
      " [0.01122398 0.05621959]\n",
      " [0.1093841  0.58537065]\n",
      " [0.32973121 0.14308711]\n",
      " [0.36078314 0.30275528]]\n"
     ]
    }
   ],
   "source": [
    "#2. Stacking\n",
    "A = np.random.rand(5,4);\n",
    "print(A);\n",
    "\n",
    "B= np.random.rand(5,2);\n",
    "print(B)\n"
   ]
  },
  {
   "cell_type": "code",
   "execution_count": 28,
   "metadata": {
    "id": "JroJWl4q-IPr",
    "outputId": "ff996985-fc6a-4015-f69b-3f552e45e7a5",
    "scrolled": true
   },
   "outputs": [
    {
     "ename": "TypeError",
     "evalue": "_vhstack_dispatcher() takes 1 positional argument but 2 were given",
     "output_type": "error",
     "traceback": [
      "\u001b[1;31m---------------------------------------------------------------------------\u001b[0m",
      "\u001b[1;31mTypeError\u001b[0m                                 Traceback (most recent call last)",
      "Input \u001b[1;32mIn [28]\u001b[0m, in \u001b[0;36m<cell line: 2>\u001b[1;34m()\u001b[0m\n\u001b[0;32m      1\u001b[0m \u001b[38;5;66;03m# C = [A B] ---Concatenating not sum\u001b[39;00m\n\u001b[1;32m----> 2\u001b[0m C \u001b[38;5;241m=\u001b[39m \u001b[43mnp\u001b[49m\u001b[38;5;241;43m.\u001b[39;49m\u001b[43mhstack\u001b[49m\u001b[43m(\u001b[49m\u001b[43mA\u001b[49m\u001b[43m,\u001b[49m\u001b[43m \u001b[49m\u001b[43mB\u001b[49m\u001b[43m)\u001b[49m;\n\u001b[0;32m      3\u001b[0m \u001b[38;5;28mprint\u001b[39m(C)\n",
      "File \u001b[1;32m<__array_function__ internals>:4\u001b[0m, in \u001b[0;36mhstack\u001b[1;34m(*args, **kwargs)\u001b[0m\n",
      "\u001b[1;31mTypeError\u001b[0m: _vhstack_dispatcher() takes 1 positional argument but 2 were given"
     ]
    }
   ],
   "source": [
    "# C = [A B] ---Concatenating not sum\n",
    "C = np.hstack(A, B);   # common Error\n",
    "print(C)"
   ]
  },
  {
   "cell_type": "code",
   "execution_count": 27,
   "metadata": {
    "id": "BwOHmm_x-IPs",
    "outputId": "2bfafa2a-9d1b-44cc-c3bb-e2754f983af6"
   },
   "outputs": [
    {
     "name": "stdout",
     "output_type": "stream",
     "text": [
      "[[0.51753849 0.00413627 0.93655    0.91733812 0.92995482 0.80144001]\n",
      " [0.43592759 0.75002353 0.03718398 0.90379814 0.01122398 0.05621959]\n",
      " [0.34974612 0.01534318 0.15905686 0.5169208  0.1093841  0.58537065]\n",
      " [0.28975018 0.96340479 0.20674238 0.04551855 0.32973121 0.14308711]\n",
      " [0.2000864  0.50675347 0.13491329 0.8155138  0.36078314 0.30275528]]\n"
     ]
    }
   ],
   "source": [
    "C = np.hstack((A, B)); # read documentation carefully\n",
    "print(C)"
   ]
  },
  {
   "cell_type": "code",
   "execution_count": 29,
   "metadata": {
    "id": "xnQ8MTRt-IPs",
    "outputId": "fb49881b-76f6-48b1-b7fc-68ba9e1aec59"
   },
   "outputs": [
    {
     "name": "stdout",
     "output_type": "stream",
     "text": [
      "[[0.77326802 0.81269228 0.60098111 0.46023258]\n",
      " [0.62663729 0.78713075 0.10940695 0.42178044]\n",
      " [0.13473523 0.21678858 0.14777099 0.3850994 ]\n",
      " [0.14724069 0.40904938 0.69226529 0.62486113]\n",
      " [0.59430726 0.60971708 0.93863903 0.04979529]]\n",
      "[[0.19195953 0.90176802 0.9955996  0.74124699]\n",
      " [0.98946978 0.56622796 0.5681176  0.4663762 ]\n",
      " [0.85796399 0.12332633 0.72738697 0.96431373]\n",
      " [0.93778038 0.65173834 0.95949048 0.85531819]]\n"
     ]
    },
    {
     "ename": "ValueError",
     "evalue": "all the input array dimensions for the concatenation axis must match exactly, but along dimension 0, the array at index 0 has size 5 and the array at index 1 has size 4",
     "output_type": "error",
     "traceback": [
      "\u001b[1;31m---------------------------------------------------------------------------\u001b[0m",
      "\u001b[1;31mValueError\u001b[0m                                Traceback (most recent call last)",
      "Input \u001b[1;32mIn [29]\u001b[0m, in \u001b[0;36m<cell line: 7>\u001b[1;34m()\u001b[0m\n\u001b[0;32m      4\u001b[0m B\u001b[38;5;241m=\u001b[39m np\u001b[38;5;241m.\u001b[39mrandom\u001b[38;5;241m.\u001b[39mrand(\u001b[38;5;241m4\u001b[39m,\u001b[38;5;241m4\u001b[39m);\n\u001b[0;32m      5\u001b[0m \u001b[38;5;28mprint\u001b[39m(B)\n\u001b[1;32m----> 7\u001b[0m C \u001b[38;5;241m=\u001b[39m \u001b[43mnp\u001b[49m\u001b[38;5;241;43m.\u001b[39;49m\u001b[43mhstack\u001b[49m\u001b[43m(\u001b[49m\u001b[43m(\u001b[49m\u001b[43mA\u001b[49m\u001b[43m,\u001b[49m\u001b[43m \u001b[49m\u001b[43mB\u001b[49m\u001b[43m)\u001b[49m\u001b[43m)\u001b[49m;\n\u001b[0;32m      8\u001b[0m \u001b[38;5;28mprint\u001b[39m(C)\n",
      "File \u001b[1;32m<__array_function__ internals>:5\u001b[0m, in \u001b[0;36mhstack\u001b[1;34m(*args, **kwargs)\u001b[0m\n",
      "File \u001b[1;32mE:\\Anaconda\\lib\\site-packages\\numpy\\core\\shape_base.py:345\u001b[0m, in \u001b[0;36mhstack\u001b[1;34m(tup)\u001b[0m\n\u001b[0;32m    343\u001b[0m     \u001b[38;5;28;01mreturn\u001b[39;00m _nx\u001b[38;5;241m.\u001b[39mconcatenate(arrs, \u001b[38;5;241m0\u001b[39m)\n\u001b[0;32m    344\u001b[0m \u001b[38;5;28;01melse\u001b[39;00m:\n\u001b[1;32m--> 345\u001b[0m     \u001b[38;5;28;01mreturn\u001b[39;00m \u001b[43m_nx\u001b[49m\u001b[38;5;241;43m.\u001b[39;49m\u001b[43mconcatenate\u001b[49m\u001b[43m(\u001b[49m\u001b[43marrs\u001b[49m\u001b[43m,\u001b[49m\u001b[43m \u001b[49m\u001b[38;5;241;43m1\u001b[39;49m\u001b[43m)\u001b[49m\n",
      "File \u001b[1;32m<__array_function__ internals>:5\u001b[0m, in \u001b[0;36mconcatenate\u001b[1;34m(*args, **kwargs)\u001b[0m\n",
      "\u001b[1;31mValueError\u001b[0m: all the input array dimensions for the concatenation axis must match exactly, but along dimension 0, the array at index 0 has size 5 and the array at index 1 has size 4"
     ]
    }
   ],
   "source": [
    "A = np.random.rand(5,4);\n",
    "print(A);\n",
    "\n",
    "B= np.random.rand(4,4);\n",
    "print(B)\n",
    "\n",
    "C = np.hstack((A, B));    # it will not work\n",
    "print(C)"
   ]
  },
  {
   "cell_type": "code",
   "execution_count": 30,
   "metadata": {
    "id": "7QrmqtPs-IPs",
    "outputId": "63fe4091-c658-4244-c26e-ea2fe5f1ae3e"
   },
   "outputs": [
    {
     "name": "stdout",
     "output_type": "stream",
     "text": [
      "[[0.03507936 0.15424443 0.80269649 0.40071464]\n",
      " [0.08113523 0.51884121 0.71775139 0.42974313]\n",
      " [0.17256369 0.06623889 0.77193625 0.629401  ]\n",
      " [0.577798   0.96389228 0.77782471 0.76984967]\n",
      " [0.14827747 0.81750878 0.43498497 0.23984703]]\n",
      "[[0.23969501 0.61135407 0.45771649 0.8063997 ]\n",
      " [0.64022292 0.31619828 0.03498183 0.1594187 ]\n",
      " [0.62658916 0.5885009  0.74380595 0.22780118]\n",
      " [0.92989567 0.15554295 0.98791541 0.19720931]]\n",
      "[[0.03507936 0.15424443 0.80269649 0.40071464]\n",
      " [0.08113523 0.51884121 0.71775139 0.42974313]\n",
      " [0.17256369 0.06623889 0.77193625 0.629401  ]\n",
      " [0.577798   0.96389228 0.77782471 0.76984967]\n",
      " [0.14827747 0.81750878 0.43498497 0.23984703]\n",
      " [0.23969501 0.61135407 0.45771649 0.8063997 ]\n",
      " [0.64022292 0.31619828 0.03498183 0.1594187 ]\n",
      " [0.62658916 0.5885009  0.74380595 0.22780118]\n",
      " [0.92989567 0.15554295 0.98791541 0.19720931]]\n"
     ]
    }
   ],
   "source": [
    "A = np.random.rand(5,4);\n",
    "print(A);\n",
    "\n",
    "B= np.random.rand(4,4);\n",
    "print(B)\n",
    "\n",
    "C = np.vstack((A, B)); #Vertical stacking\n",
    "print(C)"
   ]
  },
  {
   "cell_type": "code",
   "execution_count": 31,
   "metadata": {
    "id": "G7G2gKSv-IPt",
    "outputId": "ce7b822c-f5c8-449e-87ec-0510349d1a92"
   },
   "outputs": [
    {
     "name": "stdout",
     "output_type": "stream",
     "text": [
      "(5, 4, 3)\n",
      "(5, 3, 3)\n",
      "(5, 7, 3)\n"
     ]
    }
   ],
   "source": [
    "# 3D tensors\n",
    "A = np.random.rand(5,4,3); # (height, width, colors) in images is a good way to think of this\n",
    "print(A.shape);\n",
    "\n",
    "B= np.random.rand(5,3,3);\n",
    "print(B.shape)\n",
    "\n",
    "C = np.hstack((A, B));\n",
    "print(C.shape)"
   ]
  },
  {
   "cell_type": "code",
   "execution_count": 32,
   "metadata": {
    "id": "4xMF604G-IPt",
    "outputId": "0c9ffad7-6373-4963-f22e-16ec00852645"
   },
   "outputs": [
    {
     "name": "stdout",
     "output_type": "stream",
     "text": [
      "(5, 4, 3)\n",
      "(4, 3, 3)\n"
     ]
    },
    {
     "ename": "ValueError",
     "evalue": "all the input array dimensions for the concatenation axis must match exactly, but along dimension 0, the array at index 0 has size 5 and the array at index 1 has size 4",
     "output_type": "error",
     "traceback": [
      "\u001b[1;31m---------------------------------------------------------------------------\u001b[0m",
      "\u001b[1;31mValueError\u001b[0m                                Traceback (most recent call last)",
      "Input \u001b[1;32mIn [32]\u001b[0m, in \u001b[0;36m<cell line: 8>\u001b[1;34m()\u001b[0m\n\u001b[0;32m      5\u001b[0m B\u001b[38;5;241m=\u001b[39m np\u001b[38;5;241m.\u001b[39mrandom\u001b[38;5;241m.\u001b[39mrand(\u001b[38;5;241m4\u001b[39m,\u001b[38;5;241m3\u001b[39m,\u001b[38;5;241m3\u001b[39m);\n\u001b[0;32m      6\u001b[0m \u001b[38;5;28mprint\u001b[39m(B\u001b[38;5;241m.\u001b[39mshape)\n\u001b[1;32m----> 8\u001b[0m C \u001b[38;5;241m=\u001b[39m \u001b[43mnp\u001b[49m\u001b[38;5;241;43m.\u001b[39;49m\u001b[43mhstack\u001b[49m\u001b[43m(\u001b[49m\u001b[43m(\u001b[49m\u001b[43mA\u001b[49m\u001b[43m,\u001b[49m\u001b[43m \u001b[49m\u001b[43mB\u001b[49m\u001b[43m)\u001b[49m\u001b[43m)\u001b[49m;\n\u001b[0;32m      9\u001b[0m \u001b[38;5;28mprint\u001b[39m(C\u001b[38;5;241m.\u001b[39mshape)\n",
      "File \u001b[1;32m<__array_function__ internals>:5\u001b[0m, in \u001b[0;36mhstack\u001b[1;34m(*args, **kwargs)\u001b[0m\n",
      "File \u001b[1;32mE:\\Anaconda\\lib\\site-packages\\numpy\\core\\shape_base.py:345\u001b[0m, in \u001b[0;36mhstack\u001b[1;34m(tup)\u001b[0m\n\u001b[0;32m    343\u001b[0m     \u001b[38;5;28;01mreturn\u001b[39;00m _nx\u001b[38;5;241m.\u001b[39mconcatenate(arrs, \u001b[38;5;241m0\u001b[39m)\n\u001b[0;32m    344\u001b[0m \u001b[38;5;28;01melse\u001b[39;00m:\n\u001b[1;32m--> 345\u001b[0m     \u001b[38;5;28;01mreturn\u001b[39;00m \u001b[43m_nx\u001b[49m\u001b[38;5;241;43m.\u001b[39;49m\u001b[43mconcatenate\u001b[49m\u001b[43m(\u001b[49m\u001b[43marrs\u001b[49m\u001b[43m,\u001b[49m\u001b[43m \u001b[49m\u001b[38;5;241;43m1\u001b[39;49m\u001b[43m)\u001b[49m\n",
      "File \u001b[1;32m<__array_function__ internals>:5\u001b[0m, in \u001b[0;36mconcatenate\u001b[1;34m(*args, **kwargs)\u001b[0m\n",
      "\u001b[1;31mValueError\u001b[0m: all the input array dimensions for the concatenation axis must match exactly, but along dimension 0, the array at index 0 has size 5 and the array at index 1 has size 4"
     ]
    }
   ],
   "source": [
    "# 3D tensors\n",
    "A = np.random.rand(5,4,3);\n",
    "print(A.shape);\n",
    "\n",
    "B= np.random.rand(4,3,3);\n",
    "print(B.shape)\n",
    "\n",
    "C = np.hstack((A, B));\n",
    "print(C.shape)"
   ]
  },
  {
   "cell_type": "code",
   "execution_count": 33,
   "metadata": {
    "id": "bsViHtML-IPt",
    "outputId": "b25d7769-0175-4f9e-8031-7aa945d36548"
   },
   "outputs": [
    {
     "name": "stdout",
     "output_type": "stream",
     "text": [
      "(5, 4, 3)\n",
      "(5, 4, 2)\n"
     ]
    },
    {
     "ename": "ValueError",
     "evalue": "all the input array dimensions for the concatenation axis must match exactly, but along dimension 2, the array at index 0 has size 3 and the array at index 1 has size 2",
     "output_type": "error",
     "traceback": [
      "\u001b[1;31m---------------------------------------------------------------------------\u001b[0m",
      "\u001b[1;31mValueError\u001b[0m                                Traceback (most recent call last)",
      "Input \u001b[1;32mIn [33]\u001b[0m, in \u001b[0;36m<cell line: 8>\u001b[1;34m()\u001b[0m\n\u001b[0;32m      5\u001b[0m B\u001b[38;5;241m=\u001b[39m np\u001b[38;5;241m.\u001b[39mrandom\u001b[38;5;241m.\u001b[39mrand(\u001b[38;5;241m5\u001b[39m,\u001b[38;5;241m4\u001b[39m,\u001b[38;5;241m2\u001b[39m);\n\u001b[0;32m      6\u001b[0m \u001b[38;5;28mprint\u001b[39m(B\u001b[38;5;241m.\u001b[39mshape)\n\u001b[1;32m----> 8\u001b[0m C \u001b[38;5;241m=\u001b[39m \u001b[43mnp\u001b[49m\u001b[38;5;241;43m.\u001b[39;49m\u001b[43mhstack\u001b[49m\u001b[43m(\u001b[49m\u001b[43m(\u001b[49m\u001b[43mA\u001b[49m\u001b[43m,\u001b[49m\u001b[43m \u001b[49m\u001b[43mB\u001b[49m\u001b[43m)\u001b[49m\u001b[43m)\u001b[49m;\n\u001b[0;32m      9\u001b[0m \u001b[38;5;28mprint\u001b[39m(C\u001b[38;5;241m.\u001b[39mshape)\n",
      "File \u001b[1;32m<__array_function__ internals>:5\u001b[0m, in \u001b[0;36mhstack\u001b[1;34m(*args, **kwargs)\u001b[0m\n",
      "File \u001b[1;32mE:\\Anaconda\\lib\\site-packages\\numpy\\core\\shape_base.py:345\u001b[0m, in \u001b[0;36mhstack\u001b[1;34m(tup)\u001b[0m\n\u001b[0;32m    343\u001b[0m     \u001b[38;5;28;01mreturn\u001b[39;00m _nx\u001b[38;5;241m.\u001b[39mconcatenate(arrs, \u001b[38;5;241m0\u001b[39m)\n\u001b[0;32m    344\u001b[0m \u001b[38;5;28;01melse\u001b[39;00m:\n\u001b[1;32m--> 345\u001b[0m     \u001b[38;5;28;01mreturn\u001b[39;00m \u001b[43m_nx\u001b[49m\u001b[38;5;241;43m.\u001b[39;49m\u001b[43mconcatenate\u001b[49m\u001b[43m(\u001b[49m\u001b[43marrs\u001b[49m\u001b[43m,\u001b[49m\u001b[43m \u001b[49m\u001b[38;5;241;43m1\u001b[39;49m\u001b[43m)\u001b[49m\n",
      "File \u001b[1;32m<__array_function__ internals>:5\u001b[0m, in \u001b[0;36mconcatenate\u001b[1;34m(*args, **kwargs)\u001b[0m\n",
      "\u001b[1;31mValueError\u001b[0m: all the input array dimensions for the concatenation axis must match exactly, but along dimension 2, the array at index 0 has size 3 and the array at index 1 has size 2"
     ]
    }
   ],
   "source": [
    "# 3D tensors\n",
    "A = np.random.rand(5,4,3);\n",
    "print(A.shape);\n",
    "\n",
    "B= np.random.rand(5,4,2);\n",
    "print(B.shape)\n",
    "\n",
    "C = np.hstack((A, B));\n",
    "print(C.shape)"
   ]
  },
  {
   "cell_type": "code",
   "execution_count": 34,
   "metadata": {
    "id": "ZkTBDa_m-IPu",
    "outputId": "7b62d9ce-f935-4033-c560-1dcf1cfbfb96"
   },
   "outputs": [
    {
     "name": "stdout",
     "output_type": "stream",
     "text": [
      "(5, 4, 3)\n",
      "(2, 4, 3)\n",
      "(7, 4, 3)\n"
     ]
    }
   ],
   "source": [
    "# 3D tensors vstack\n",
    "A = np.random.rand(5,4,3); # (height, width, colors) in images\n",
    "print(A.shape);\n",
    "\n",
    "B= np.random.rand(2,4,3);\n",
    "print(B.shape)\n",
    "\n",
    "C = np.vstack((A, B));\n",
    "print(C.shape)"
   ]
  },
  {
   "cell_type": "markdown",
   "metadata": {
    "id": "Ygea6Q1s-IPv"
   },
   "source": [
    "#### Exercise: Achieve the above tranaomfrs using numpy.concatenate [https://numpy.org/doc/1.18/reference/generated/numpy.concatenate.html#numpy.concatenate]\n",
    "***********\n",
    "***********\n",
    "* a = np.array([[1, 2], [3, 4]])\n",
    "* b = np.array([[5, 6]])\n",
    "* np.concatenate((a, b), axis=0)\n",
    "* array([[1, 2],\n",
    "       [3, 4],\n",
    "       [5, 6]])\n",
    "* np.concatenate((a, b.T), axis=1)\n",
    "* array([[1, 2, 5],\n",
    "       [3, 4, 6]])\n",
    "* np.concatenate((a, b), axis=None)\n",
    "* array([1, 2, 3, 4, 5, 6])\n",
    "***********\n",
    "***********\n"
   ]
  },
  {
   "cell_type": "code",
   "execution_count": 35,
   "metadata": {},
   "outputs": [
    {
     "name": "stdout",
     "output_type": "stream",
     "text": [
      "(7, 4, 3)\n"
     ]
    }
   ],
   "source": [
    "C = np.concatenate((A, B), axis=0)\n",
    "print(C.shape)"
   ]
  },
  {
   "cell_type": "markdown",
   "metadata": {
    "id": "nQhHSgG6-IPv"
   },
   "source": [
    "### Problem-4: Find peaks/max in an list\n",
    "- problem definition\n"
   ]
  },
  {
   "cell_type": "code",
   "execution_count": 36,
   "metadata": {
    "id": "3kRrfNhL-IPw",
    "outputId": "f23118c5-e1ba-4997-88e1-83034b63c7d6"
   },
   "outputs": [
    {
     "name": "stdout",
     "output_type": "stream",
     "text": [
      "[1, 3, 4, 5, 7, 6, 4, 5, 10, 1]\n"
     ]
    }
   ],
   "source": [
    "\n",
    "A = [1,3,4,5,7,6,4,5,10,1];\n",
    "print(A)"
   ]
  },
  {
   "cell_type": "code",
   "execution_count": 37,
   "metadata": {
    "id": "R1XPpLSx-IPw",
    "outputId": "a3d4ad12-97ec-454b-ca66-3d9b4e20edc4"
   },
   "outputs": [
    {
     "ename": "AttributeError",
     "evalue": "'list' object has no attribute 'size'",
     "output_type": "error",
     "traceback": [
      "\u001b[1;31m---------------------------------------------------------------------------\u001b[0m",
      "\u001b[1;31mAttributeError\u001b[0m                            Traceback (most recent call last)",
      "Input \u001b[1;32mIn [37]\u001b[0m, in \u001b[0;36m<cell line: 4>\u001b[1;34m()\u001b[0m\n\u001b[0;32m      1\u001b[0m \u001b[38;5;66;03m# Peaks: 7,10\u001b[39;00m\n\u001b[0;32m      2\u001b[0m \u001b[38;5;66;03m# Peak: A[i-1] <= A[i] >= A[i+1]\u001b[39;00m\n\u001b[1;32m----> 4\u001b[0m \u001b[38;5;28;01mfor\u001b[39;00m i \u001b[38;5;129;01min\u001b[39;00m \u001b[38;5;28mrange\u001b[39m(\u001b[38;5;241m1\u001b[39m, \u001b[43mA\u001b[49m\u001b[38;5;241;43m.\u001b[39;49m\u001b[43msize\u001b[49m \u001b[38;5;241m-\u001b[39m \u001b[38;5;241m1\u001b[39m): \u001b[38;5;66;03m# 1 and -1 are important\u001b[39;00m\n\u001b[0;32m      5\u001b[0m     \u001b[38;5;28;01mif\u001b[39;00m (A[i] \u001b[38;5;241m>\u001b[39m\u001b[38;5;241m=\u001b[39m A[i\u001b[38;5;241m-\u001b[39m\u001b[38;5;241m1\u001b[39m]) \u001b[38;5;129;01mand\u001b[39;00m (A[i] \u001b[38;5;241m>\u001b[39m\u001b[38;5;241m=\u001b[39m A[i\u001b[38;5;241m+\u001b[39m\u001b[38;5;241m1\u001b[39m]):\n\u001b[0;32m      6\u001b[0m         \u001b[38;5;28mprint\u001b[39m(A[i])\n",
      "\u001b[1;31mAttributeError\u001b[0m: 'list' object has no attribute 'size'"
     ]
    }
   ],
   "source": [
    "# Peaks: 7,10\n",
    "# Peak: A[i-1] <= A[i] >= A[i+1]\n",
    "\n",
    "for i in range(1, A.size - 1): # 1 and -1 are important\n",
    "    if (A[i] >= A[i-1]) and (A[i] >= A[i+1]):\n",
    "        print(A[i]);"
   ]
  },
  {
   "cell_type": "code",
   "execution_count": 38,
   "metadata": {
    "id": "KyqfmpTb-IPw",
    "outputId": "8b7cf56c-b39f-4fc8-bf75-836a2645e2e4"
   },
   "outputs": [
    {
     "name": "stdout",
     "output_type": "stream",
     "text": [
      "10\n"
     ]
    }
   ],
   "source": [
    "print(len(A));"
   ]
  },
  {
   "cell_type": "code",
   "execution_count": 39,
   "metadata": {
    "id": "UaaOMeHC-IPx",
    "outputId": "b3a07074-7ca5-4b14-d6c4-c9d7c3ac94bc"
   },
   "outputs": [
    {
     "name": "stdout",
     "output_type": "stream",
     "text": [
      "7\n",
      "10\n"
     ]
    }
   ],
   "source": [
    "for i in range(1, len(A) - 1): # 1 and -1 are important\n",
    "    if (A[i] >= A[i-1]) and (A[i] >= A[i+1]):\n",
    "        print(A[i]);"
   ]
  },
  {
   "cell_type": "code",
   "execution_count": null,
   "metadata": {
    "id": "dPmRKG4B-IPx"
   },
   "outputs": [],
   "source": [
    "# There is a bug in the above solution. Find it...\n"
   ]
  },
  {
   "cell_type": "code",
   "execution_count": 40,
   "metadata": {
    "id": "1zeSHucL-IPx",
    "outputId": "af3658de-7852-4bf7-e3e7-ffeec862e065"
   },
   "outputs": [
    {
     "name": "stdout",
     "output_type": "stream",
     "text": [
      "7\n"
     ]
    }
   ],
   "source": [
    "A = [11,3,4,5,7,6,4,5,10,15];\n",
    "\n",
    "for i in range(1, len(A) - 1): # 1 and -1 are important\n",
    "    if (A[i] >= A[i-1]) and (A[i] >= A[i+1]):\n",
    "        print(A[i]);"
   ]
  },
  {
   "cell_type": "code",
   "execution_count": 41,
   "metadata": {
    "id": "m-zf3NmQ-IPx"
   },
   "outputs": [
    {
     "name": "stdout",
     "output_type": "stream",
     "text": [
      "11\n",
      "7\n",
      "15\n"
     ]
    }
   ],
   "source": [
    "# what about 11 and 15?\n",
    "\n",
    "# boundary case\n",
    "if A[0] >= A[1]:\n",
    "    print(A[0])\n",
    "    \n",
    "for i in range(1, len(A) - 1): # 1 and -1 are important\n",
    "    if (A[i] >= A[i-1]) and (A[i] >= A[i+1]):\n",
    "        print(A[i]);\n",
    "\n",
    "# boundary case\n",
    "if A[len(A)-1] >= A[len(A)-2]:\n",
    "    print(A[len(A)-1])\n"
   ]
  },
  {
   "cell_type": "code",
   "execution_count": null,
   "metadata": {
    "id": "TQpvidEO-IPx"
   },
   "outputs": [],
   "source": [
    "# LESSON: Donot forget boundary cases\n",
    "\n",
    "#Question: Time Complexity = ?"
   ]
  },
  {
   "cell_type": "markdown",
   "metadata": {
    "id": "JiIslzrx-IPy"
   },
   "source": [
    "#### Exercise: \n",
    "1. Find peaks which are max values in a window of size 2 on both sides.\n",
    "2. Use scipy.signal.find_peaks [https://docs.scipy.org/doc/scipy/reference/generated/scipy.signal.find_peaks.html]\n",
    "\n",
    "Additioanl reading: More efficient algos @ http://courses.csail.mit.edu/6.006/spring11/lectures/lec02.pdf"
   ]
  },
  {
   "cell_type": "markdown",
   "metadata": {
    "id": "g61ib3AL-IPy"
   },
   "source": [
    "### Problem 5: Permutations of a list\n",
    "- Problem definition: lst = [1,2,3]"
   ]
  },
  {
   "cell_type": "code",
   "execution_count": null,
   "metadata": {
    "id": "ITDWcfvK-IPy",
    "outputId": "9dc96993-2d36-4511-d56c-dce86398d6e3"
   },
   "outputs": [],
   "source": [
    "# Using libraries\n",
    "from itertools import permutations \n",
    "  \n",
    "p = permutations([1, 2, 3]) # refer: https://docs.python.org/3/library/itertools.html#itertools.permutations\n",
    "\n",
    "# what is an iterable in Python [https://www.pythonlikeyoumeanit.com/Module2_EssentialsOfPython/Iterables.html]\n",
    "\n",
    "# print the permutations\n",
    "for i in list(p): \n",
    "    print i "
   ]
  },
  {
   "cell_type": "code",
   "execution_count": null,
   "metadata": {
    "id": "7ekRtf4_-IPy"
   },
   "outputs": [],
   "source": [
    "# No fun!\n",
    "# Write your own code. Any suggestions?\n",
    "# Break the problem into smaller sub-problems"
   ]
  },
  {
   "cell_type": "code",
   "execution_count": null,
   "metadata": {
    "id": "BnCMSj2h-IPy",
    "outputId": "97b05996-7602-4613-dd6e-d52174577ca3"
   },
   "outputs": [],
   "source": [
    "[1,2,3]\n",
    "[1,3,2]\n",
    "[2,1,3]\n",
    "[2,3,1]\n",
    "[3,1,2]\n",
    "[3,2,1]"
   ]
  },
  {
   "cell_type": "code",
   "execution_count": null,
   "metadata": {
    "id": "K9EUS0C5-IPz",
    "outputId": "a15f8245-d32d-40c0-e200-8c36e7f64910"
   },
   "outputs": [],
   "source": [
    "# source: https://stackoverflow.com/questions/13109274/python-recursion-permutations\n",
    "\n",
    "def permutation(s):\n",
    "   if len(s) == 1:\n",
    "     return [s]\n",
    "\n",
    "   perm_list = [] # resulting list\n",
    "   for a in s:\n",
    "     remaining_elements = [x for x in s if x != a]\n",
    "     z = permutation(remaining_elements) # permutations of sub-list\n",
    "\n",
    "     for t in z:\n",
    "       perm_list.append([a] + t)\n",
    "\n",
    "   return perm_list\n",
    "\n",
    "s = [1,2,3];\n",
    "p = permutation(s);\n",
    "print(p)"
   ]
  },
  {
   "cell_type": "markdown",
   "metadata": {
    "id": "RlnKPFMH-IPz"
   },
   "source": [
    "#### Exercise: [Combinations] All possible ways to pick 3 elements out of 5 elements\n",
    "\n",
    "- HINT: Use recursion.\n",
    "- Google \"combinations in Python\""
   ]
  },
  {
   "cell_type": "markdown",
   "metadata": {
    "id": "xq8oS_1h-IPz"
   },
   "source": [
    "### Practice, practice and practice..\n",
    "\n",
    "- Optional  Assignments at AAIC: https://go.aws/2JrmV4A [Functions] , https://drive.google.com/file/d/1VB3wJSt_Mq0HLP9uaqgsZBR4BLMFnkmY/view [Pandas]\n",
    "\n",
    "- Basic Python: https://www.geeksforgeeks.org/python-programming-examples/\n",
    "- NumPy: https://www.w3resource.com/python-exercises/numpy/index.php\n"
   ]
  },
  {
   "cell_type": "code",
   "execution_count": null,
   "metadata": {
    "id": "aaC51yoi-IPz"
   },
   "outputs": [],
   "source": []
  }
 ],
 "metadata": {
  "colab": {
   "name": "LIVE-1_Python.ipynb",
   "provenance": []
  },
  "kernelspec": {
   "display_name": "Python 3 (ipykernel)",
   "language": "python",
   "name": "python3"
  },
  "language_info": {
   "codemirror_mode": {
    "name": "ipython",
    "version": 3
   },
   "file_extension": ".py",
   "mimetype": "text/x-python",
   "name": "python",
   "nbconvert_exporter": "python",
   "pygments_lexer": "ipython3",
   "version": "3.9.12"
  }
 },
 "nbformat": 4,
 "nbformat_minor": 1
}
