{
 "cells": [
  {
   "cell_type": "markdown",
   "id": "388675c5",
   "metadata": {},
   "source": [
    "# 1. Sorted Squared Array"
   ]
  },
  {
   "cell_type": "code",
   "execution_count": 2,
   "id": "a851b187",
   "metadata": {},
   "outputs": [],
   "source": [
    "array = [-7, -5, -4, 3, 6, 8, 9]"
   ]
  },
  {
   "cell_type": "code",
   "execution_count": 3,
   "id": "7bab311e",
   "metadata": {},
   "outputs": [
    {
     "data": {
      "text/plain": [
       "[9, 16, 25, 36, 49, 64, 81]"
      ]
     },
     "execution_count": 3,
     "metadata": {},
     "output_type": "execute_result"
    }
   ],
   "source": [
    "#solution 1 \n",
    "#Brute force approach\n",
    "# O(nlogn) time |||| O(n) space\n",
    "def sortedSquaredArray(array):\n",
    "    sortedSquares = [0 for _ in array]\n",
    "    \n",
    "    for idx in range (len(array)):\n",
    "        value = array[idx]\n",
    "        sortedSquares[idx] = value * value\n",
    "        \n",
    "    sortedSquares.sort()\n",
    "    return sortedSquares\n",
    "\n",
    "sortedSquaredArray(array)"
   ]
  },
  {
   "cell_type": "code",
   "execution_count": 5,
   "id": "a3c45b68",
   "metadata": {},
   "outputs": [
    {
     "data": {
      "text/plain": [
       "[9, 16, 25, 36, 49, 64, 81]"
      ]
     },
     "execution_count": 5,
     "metadata": {},
     "output_type": "execute_result"
    }
   ],
   "source": [
    "#solution 2\n",
    "# O(n) time |||| O(n) space\n",
    "\n",
    "def sortedSquaredArray(array):\n",
    "    sortedSquares = [0 for _ in array]\n",
    "    smallerValueIdx = 0\n",
    "    largerValueIdx = len(array)-1\n",
    "    \n",
    "    for idx in reversed(range(len(array))):\n",
    "        smallerValue = array[smallerValueIdx]\n",
    "        largerValue = array[largerValueIdx]\n",
    "        \n",
    "        if abs(smallerValue) > abs(largerValue):\n",
    "            sortedSquares[idx] = smallerValue * smallerValue\n",
    "            smallerValueIdx +=1\n",
    "            \n",
    "        else:\n",
    "            sortedSquares[idx] = largerValue * largerValue\n",
    "            largerValueIdx -= 1\n",
    "    \n",
    "    return sortedSquares\n",
    "\n",
    "    \n",
    "sortedSquaredArray(array)\n",
    "    \n",
    "    "
   ]
  },
  {
   "cell_type": "markdown",
   "id": "b2004bd1",
   "metadata": {},
   "source": [
    "# 2. Palindrome Check"
   ]
  },
  {
   "cell_type": "code",
   "execution_count": 2,
   "id": "cdb8a266",
   "metadata": {},
   "outputs": [],
   "source": [
    "str = \"abcdcba\""
   ]
  },
  {
   "cell_type": "code",
   "execution_count": 2,
   "id": "b6d379a6",
   "metadata": {},
   "outputs": [
    {
     "data": {
      "text/plain": [
       "True"
      ]
     },
     "execution_count": 2,
     "metadata": {},
     "output_type": "execute_result"
    }
   ],
   "source": [
    "# Solution 1\n",
    "\n",
    "# space| O(n)\n",
    "# time | O(n^2)\n",
    "\n",
    "def isPalindrome1(string):\n",
    "    reversedString = \"\"\n",
    "    for i in reversed(range(len(string))):\n",
    "        reversedString += string[i]\n",
    "    return reversedString == string\n",
    "\n",
    "isPalindrome1(str) "
   ]
  },
  {
   "cell_type": "code",
   "execution_count": 3,
   "id": "8dfd5490",
   "metadata": {},
   "outputs": [
    {
     "data": {
      "text/plain": [
       "True"
      ]
     },
     "execution_count": 3,
     "metadata": {},
     "output_type": "execute_result"
    }
   ],
   "source": [
    "# Solution 2\n",
    "\n",
    "# space| O(n)\n",
    "# time | O(n)\n",
    "\n",
    "def isPalindrome2(string):\n",
    "    reversedChars = []\n",
    "    \n",
    "    for i in reversed(range(len(string))):\n",
    "        reversedChars.append(string[i])\n",
    "    return string == \"\".join(reversedChars)\n",
    "\n",
    "isPalindrome2(str)"
   ]
  },
  {
   "cell_type": "code",
   "execution_count": 4,
   "id": "9b526a12",
   "metadata": {},
   "outputs": [
    {
     "data": {
      "text/plain": [
       "True"
      ]
     },
     "execution_count": 4,
     "metadata": {},
     "output_type": "execute_result"
    }
   ],
   "source": [
    "# Solution 3\n",
    "\n",
    "# space| O(n)\n",
    "# time | O(n)\n",
    "'''\n",
    "def isPalindrome3(string, i = 0):\n",
    "    j = len(string) - 1 - i\n",
    "    return True if i >= j else string[i] == string[j] and isPalindrome3(string, i + 1)\n",
    "\n",
    "isPalindrome3(str)\n",
    "'''\n",
    "#tail Recursion\n",
    "def isPalindrome3(string, i = 0):\n",
    "    j = len(string) - 1 - i\n",
    "    if i >= j :\n",
    "        return True \n",
    "    if string[i] != string [j]:\n",
    "        return False\n",
    "    return isPalindrome3(string, i + 1)\n",
    "\n",
    "isPalindrome3(str)"
   ]
  },
  {
   "cell_type": "code",
   "execution_count": 23,
   "id": "acae0d6b",
   "metadata": {},
   "outputs": [
    {
     "data": {
      "text/plain": [
       "True"
      ]
     },
     "execution_count": 23,
     "metadata": {},
     "output_type": "execute_result"
    }
   ],
   "source": [
    "\n",
    "# Solution 4\n",
    "\n",
    "# space| O(1)\n",
    "# time | O(n)\n",
    "def isPalindrome4(string):\n",
    "    leftIdx = 0\n",
    "    rigthIdx = len(string) - 1\n",
    "\n",
    "    while leftIdx < rigthIdx:\n",
    "        if string[leftIdx] != string[rigthIdx]:\n",
    "            return False\n",
    "        leftIdx += 1\n",
    "        rigthIdx -= 1\n",
    "    return True\n",
    "\n",
    "isPalindrome4(str)\n",
    "\n",
    "\n",
    "\n"
   ]
  },
  {
   "cell_type": "code",
   "execution_count": 3,
   "id": "8b0de4b4",
   "metadata": {},
   "outputs": [
    {
     "data": {
      "text/plain": [
       "True"
      ]
     },
     "execution_count": 3,
     "metadata": {},
     "output_type": "execute_result"
    }
   ],
   "source": [
    "#Solution 5 EASIEST\n",
    "def isPalindrome4(string):\n",
    "    return string[::-1] == string[:]\n",
    "\n",
    "isPalindrome4(str)"
   ]
  },
  {
   "cell_type": "markdown",
   "id": "ef92c8e2",
   "metadata": {},
   "source": [
    "# Common elements in List"
   ]
  },
  {
   "cell_type": "code",
   "execution_count": 4,
   "id": "b64736cf",
   "metadata": {},
   "outputs": [
    {
     "name": "stdout",
     "output_type": "stream",
     "text": [
      "{5}\n",
      "No common elements\n"
     ]
    }
   ],
   "source": [
    "# Python program to find the common elements\n",
    "# in two lists\n",
    "def common_member(a, b):\n",
    "    a_set = set(a)\n",
    "    b_set = set(b)\n",
    " \n",
    "    if (a_set & b_set):\n",
    "        print(a_set & b_set)\n",
    "    else:\n",
    "        print(\"No common elements\")\n",
    "          \n",
    "  \n",
    "a = [1, 2, 3, 4, 5]\n",
    "b = [5, 6, 7, 8, 9]\n",
    "common_member(a, b)\n",
    "  \n",
    "a = [1, 2, 3, 4, 5]\n",
    "b = [6, 7, 8, 9]\n",
    "common_member(a, b)"
   ]
  },
  {
   "cell_type": "code",
   "execution_count": 5,
   "id": "02072438",
   "metadata": {},
   "outputs": [
    {
     "name": "stdout",
     "output_type": "stream",
     "text": [
      "The common elements in the two lists are: \n",
      "[5]\n"
     ]
    }
   ],
   "source": [
    "#list comprhension\n",
    "\n",
    "def common_member(a, b):\n",
    "    result = [i for i in a if i in b]\n",
    "    return result\n",
    " \n",
    "a = [1, 2, 3, 4, 5]\n",
    "b = [5, 6, 7, 8, 9]\n",
    " \n",
    "print(\"The common elements in the two lists are: \")\n",
    "print(common_member(a, b))"
   ]
  },
  {
   "cell_type": "markdown",
   "id": "5e82e140",
   "metadata": {},
   "source": [
    "#### Write a program to print twin primes less than 1000. If two consecutive odd numbers are both prime then they are known as twin primes"
   ]
  },
  {
   "cell_type": "code",
   "execution_count": 6,
   "id": "a2c2a3b0",
   "metadata": {},
   "outputs": [
    {
     "name": "stdout",
     "output_type": "stream",
     "text": [
      "3 and 5\n",
      "5 and 7\n",
      "11 and 13\n",
      "17 and 19\n",
      "29 and 31\n",
      "41 and 43\n",
      "59 and 61\n",
      "71 and 73\n",
      "101 and 103\n",
      "107 and 109\n",
      "137 and 139\n",
      "149 and 151\n",
      "179 and 181\n",
      "191 and 193\n",
      "197 and 199\n",
      "227 and 229\n",
      "239 and 241\n",
      "269 and 271\n",
      "281 and 283\n",
      "311 and 313\n",
      "347 and 349\n",
      "419 and 421\n",
      "431 and 433\n",
      "461 and 463\n",
      "521 and 523\n",
      "569 and 571\n",
      "599 and 601\n",
      "617 and 619\n",
      "641 and 643\n",
      "659 and 661\n",
      "809 and 811\n",
      "821 and 823\n",
      "827 and 829\n",
      "857 and 859\n",
      "881 and 883\n"
     ]
    }
   ],
   "source": [
    "def prime(n):\n",
    "    for i in range(2,n):\n",
    "        if(n%i==0):\n",
    "            return False\n",
    "    return True\n",
    "    \n",
    "def twins(x):\n",
    "    for i in range(2,x):\n",
    "        j = i+2\n",
    "        if(prime(i) and prime(j)):\n",
    "            print (i,'and',j)\n",
    "twins(1000)"
   ]
  },
  {
   "cell_type": "markdown",
   "id": "3da3a82e",
   "metadata": {},
   "source": [
    "## Reverse word in given string\n",
    "\n",
    "Input:\n",
    "S = i.like.this.program.very.much\n",
    "Output: much.very.program.this.like.i\n",
    "Explanation: After reversing the whole\n",
    "string(not individual words), the input\n",
    "string becomes\n",
    "much.very.program.this.like.i"
   ]
  },
  {
   "cell_type": "code",
   "execution_count": 7,
   "id": "6169a493",
   "metadata": {},
   "outputs": [
    {
     "data": {
      "text/plain": [
       "'much.very.program.this.like.i'"
      ]
     },
     "execution_count": 7,
     "metadata": {},
     "output_type": "execute_result"
    }
   ],
   "source": [
    "    def reverseWords(S):\n",
    "        \n",
    "        # code here \n",
    "        l = S.split(\".\")\n",
    "        return \".\".join(l[::-1])\n",
    "    \n",
    "s = \"i.like.this.program.very.much\"\n",
    "\n",
    "reverseWords(s)"
   ]
  },
  {
   "cell_type": "markdown",
   "id": "d8fffc91",
   "metadata": {},
   "source": [
    "### Longest Common Prefix in an Array"
   ]
  },
  {
   "cell_type": "code",
   "execution_count": 9,
   "id": "ca194afc",
   "metadata": {},
   "outputs": [
    {
     "data": {
      "text/plain": [
       "'gee'"
      ]
     },
     "execution_count": 9,
     "metadata": {},
     "output_type": "execute_result"
    }
   ],
   "source": [
    "def longestCommonPrefix(arr, n):\n",
    "        \n",
    "        #sort the array\n",
    "        a=sorted(arr)\n",
    "\n",
    "        #first and last word\n",
    "        fword=a[0]\n",
    "        lword=a[-1]\n",
    "\n",
    "        s=\"\"\n",
    "        n=min(len(fword),len(lword))\n",
    "\n",
    "        #comparing if first and last words have characters in              common\n",
    "        for i in range (n):\n",
    "            if fword[i]==lword[i]:\n",
    "                s=s+fword[i]\n",
    "            else:\n",
    "                break\n",
    "        #return string 's'\n",
    "        return (s if len(s)>0 else -1)\n",
    "    \n",
    "longestCommonPrefix([\"geeksforgeeks\", \"geeks\", \"geek\", \"geezer\"],4)"
   ]
  },
  {
   "cell_type": "markdown",
   "id": "04803875",
   "metadata": {},
   "source": [
    "### Sorting an array"
   ]
  },
  {
   "cell_type": "code",
   "execution_count": 10,
   "id": "40b69db3",
   "metadata": {},
   "outputs": [],
   "source": [
    "    def sortArr(arr, n): \n",
    "        arr.sort()\n",
    "\n",
    "        return(arr)"
   ]
  },
  {
   "cell_type": "markdown",
   "id": "aaeea7a4",
   "metadata": {},
   "source": [
    "### Kth smallest element\n",
    "\n"
   ]
  },
  {
   "cell_type": "code",
   "execution_count": 11,
   "id": "e863f132",
   "metadata": {},
   "outputs": [],
   "source": [
    "# Input:\n",
    "# N = 6\n",
    "# arr[] = 7 10 4 3 20 15\n",
    "# K = 3\n",
    "# Output : 7\n",
    "# Explanation :\n",
    "# 3rd smallest element in the given \n",
    "# array is 7.\n",
    "\n",
    "def kthSmallest(self,arr, l, r, k):\n",
    "    arr.sort()\n",
    "    return arr[k-1]"
   ]
  },
  {
   "cell_type": "markdown",
   "id": "42e40b14",
   "metadata": {},
   "source": [
    "### Find the Frequency"
   ]
  },
  {
   "cell_type": "code",
   "execution_count": 12,
   "id": "3c0dff40",
   "metadata": {},
   "outputs": [],
   "source": [
    "# Input:\n",
    "# N = 5\n",
    "# vector = {1, 1, 1, 1, 1}\n",
    "# X = 1\n",
    "# Output: \n",
    "# 5\n",
    "# Explanation: Frequency of 1 is 5.\n",
    "\n",
    "\n",
    "def findFrequency (arr, n, x):\n",
    "    return arr.count(x)"
   ]
  },
  {
   "cell_type": "markdown",
   "id": "904765be",
   "metadata": {},
   "source": [
    "### Sort an array of 0s, 1s and 2s"
   ]
  },
  {
   "cell_type": "code",
   "execution_count": 13,
   "id": "543caf60",
   "metadata": {},
   "outputs": [],
   "source": [
    "# Input: \n",
    "# N = 5\n",
    "# arr[]= {0 2 1 2 0}\n",
    "# Output:\n",
    "# 0 0 1 2 2\n",
    "# Explanation:\n",
    "# 0s 1s and 2s are segregated \n",
    "# into ascending order.\n",
    "\n",
    "def sort012(self,arr,n):\n",
    "    return arr.sort()"
   ]
  },
  {
   "cell_type": "markdown",
   "id": "ab8d7020",
   "metadata": {},
   "source": [
    "### Reverse an array"
   ]
  },
  {
   "cell_type": "code",
   "execution_count": 14,
   "id": "ba90f8b5",
   "metadata": {},
   "outputs": [],
   "source": [
    " def reverseWord(str):\n",
    "    return str[::-1]\n"
   ]
  },
  {
   "cell_type": "markdown",
   "id": "9e1fecb4",
   "metadata": {},
   "source": [
    "### Subarray with given sum\n"
   ]
  },
  {
   "cell_type": "code",
   "execution_count": 16,
   "id": "c15d64e7",
   "metadata": {},
   "outputs": [],
   "source": [
    "# Input:\n",
    "# N = 5, S = 12\n",
    "# A[] = {1,2,3,7,5}\n",
    "# Output: 2 4\n",
    "# Explanation: The sum of elements \n",
    "# from 2nd position to 4th position \n",
    "# is 12.\n",
    "    \n",
    "def subArraySum(self,arr, n, s): \n",
    "    i = 0\n",
    "    j = 0\n",
    "    _sum = 0\n",
    "    if s==0:\n",
    "        return [-1]\n",
    "    while j < n:\n",
    "        _sum += arr[j]\n",
    "        while _sum > s:\n",
    "            _sum -= arr[i]\n",
    "            i += 1\n",
    "        if _sum == s:\n",
    "            return [i + 1, j + 1]  # Adjust indices to 1-based indexing\n",
    "        j += 1\n",
    "    return [-1]"
   ]
  },
  {
   "cell_type": "markdown",
   "id": "eedd53c6",
   "metadata": {},
   "source": [
    "### Move all negative elements to end\n"
   ]
  },
  {
   "cell_type": "code",
   "execution_count": 18,
   "id": "fa7815f6",
   "metadata": {},
   "outputs": [],
   "source": [
    "# Input : \n",
    "# N = 8\n",
    "# arr[] = {1, -1, 3, 2, -7, -5, 11, 6 }\n",
    "# Output : \n",
    "# 1  3  2  11  6  -1  -7  -5"
   ]
  },
  {
   "cell_type": "code",
   "execution_count": 19,
   "id": "def6508d",
   "metadata": {},
   "outputs": [],
   "source": [
    "    def segregateElements(self, arr, n):\n",
    "                # Your code goes here\n",
    "        p=[]\n",
    "        n=[]\n",
    "        for i in arr:\n",
    "            if i>0:\n",
    "                p.append(i)\n",
    "            else:\n",
    "                n.append(i)\n",
    "        arr[:]=p+n\n",
    "        return arr"
   ]
  },
  {
   "cell_type": "markdown",
   "id": "c63da3d9",
   "metadata": {},
   "source": [
    "### Union of two arrays\n"
   ]
  },
  {
   "cell_type": "code",
   "execution_count": 21,
   "id": "eec938e1",
   "metadata": {},
   "outputs": [],
   "source": [
    "# Input:\n",
    "# 5 3\n",
    "# 1 2 3 4 5\n",
    "# 1 2 3\n",
    "# Output: \n",
    "# 5\n",
    "# Explanation: \n",
    "# 1, 2, 3, 4 and 5 are the\n",
    "# elements which comes in the union set\n",
    "# of both arrays. So count is 5.\n",
    "\n",
    "def doUnion(self,a,n,b,m):\n",
    "    return len(set(a+b))"
   ]
  },
  {
   "cell_type": "markdown",
   "id": "7ff9da0d",
   "metadata": {},
   "source": [
    "### Count pairs with given sum\n"
   ]
  },
  {
   "cell_type": "code",
   "execution_count": 22,
   "id": "d68a1d45",
   "metadata": {},
   "outputs": [],
   "source": [
    "# Input:\n",
    "# N = 4, K = 6\n",
    "# arr[] = {1, 5, 7, 1}\n",
    "# Output: 2\n",
    "# Explanation: \n",
    "# arr[0] + arr[1] = 1 + 5 = 6 \n",
    "# and arr[1] + arr[3] = 5 + 1 = 6."
   ]
  },
  {
   "cell_type": "code",
   "execution_count": 24,
   "id": "56b5d357",
   "metadata": {},
   "outputs": [
    {
     "name": "stdout",
     "output_type": "stream",
     "text": [
      "{1: 1}\n",
      "{1: 1, 5: 1}\n",
      "{1: 1, 5: 1, 7: 1}\n",
      "{1: 2, 5: 1, 7: 1}\n"
     ]
    },
    {
     "data": {
      "text/plain": [
       "2"
      ]
     },
     "execution_count": 24,
     "metadata": {},
     "output_type": "execute_result"
    }
   ],
   "source": [
    "def count_pairs(nums, target_sum):\n",
    "    count = {}\n",
    "    for num in nums:\n",
    "        count[num] = count.get(num, 0) + 1\n",
    "        print(count)\n",
    "\n",
    "    total_double = 0\n",
    "    for num in nums:\n",
    "        complement = target_sum - num\n",
    "        if complement in count:\n",
    "            total_double += count[complement]\n",
    "            if complement == num:\n",
    "                total_double -= 1\n",
    "    return total_double // 2\n",
    "\n",
    "\n",
    "## Test\n",
    "arr =[1, 5, 7, 1]\n",
    "sum = 6\n",
    "count_pairs(arr, sum)"
   ]
  },
  {
   "cell_type": "markdown",
   "id": "8a37b8ab",
   "metadata": {},
   "source": [
    "### Find duplicates in an array"
   ]
  },
  {
   "cell_type": "code",
   "execution_count": 25,
   "id": "f69b8787",
   "metadata": {},
   "outputs": [],
   "source": [
    "# Input:\n",
    "# N = 5\n",
    "# a[] = {2,3,1,2,3}\n",
    "# Output: \n",
    "# 2 3 \n",
    "# Explanation: \n",
    "# 2 and 3 occur more than once in the given array.\n",
    "\n",
    "def duplicates(self, arr, n): \n",
    "        seen = set()\n",
    "        dup = set()\n",
    "        \n",
    "        for num in arr:\n",
    "            if num in seen:\n",
    "                dup.add(num)\n",
    "            else:\n",
    "                seen.add(num)\n",
    "                \n",
    "        result = sorted(list(dup))\n",
    "        return result if result else [-1]"
   ]
  },
  {
   "cell_type": "markdown",
   "id": "04da8e59",
   "metadata": {},
   "source": [
    "### Cyclically rotate an array by one"
   ]
  },
  {
   "cell_type": "code",
   "execution_count": 26,
   "id": "2497b3a5",
   "metadata": {},
   "outputs": [],
   "source": [
    "# Input:\n",
    "# N = 5\n",
    "# A[] = {1, 2, 3, 4, 5}\n",
    "# Output:\n",
    "# 5 1 2 3 4\n",
    "\n",
    "def rotate( arr, n):\n",
    "    arr[0],arr[1:] = arr[-1],arr[:-1]\n",
    "    return arr"
   ]
  },
  {
   "cell_type": "markdown",
   "id": "6d0eb91c",
   "metadata": {},
   "source": [
    "### Missing number in array"
   ]
  },
  {
   "cell_type": "code",
   "execution_count": 28,
   "id": "82e45623",
   "metadata": {},
   "outputs": [],
   "source": [
    "# Input:\n",
    "# N = 5\n",
    "# A[] = {1,2,3,5}\n",
    "# Output: 4\n",
    "\n",
    "def missingNumber(self,array,n):\n",
    "        # code here\n",
    "    whole_list = list(range(1,n+1))\n",
    "    a = set(whole_list).difference(set(array))\n",
    "    for i in a:\n",
    "        return i"
   ]
  },
  {
   "cell_type": "markdown",
   "id": "aba0ac8d",
   "metadata": {},
   "source": [
    "### Common elements in array"
   ]
  },
  {
   "cell_type": "code",
   "execution_count": 30,
   "id": "49f8afb7",
   "metadata": {},
   "outputs": [],
   "source": [
    "# Input:\n",
    "# n1 = 6; A = {1, 5, 10, 20, 40, 80}\n",
    "# n2 = 5; B = {6, 7, 20, 80, 100}\n",
    "# n3 = 8; C = {3, 4, 15, 20, 30, 70, 80, 120}\n",
    "# Output: 20 80\n",
    "# Explanation: 20 and 80 are the only\n",
    "# common elements in A, B and C.\n",
    "\n",
    "def commonElements (self,A, B, C, n1, n2, n3):\n",
    "        return sorted(list(set(A)&set(B)&set(C)))\n",
    "        "
   ]
  },
  {
   "cell_type": "markdown",
   "id": "7a8ed292",
   "metadata": {},
   "source": [
    "### First Repeating Element"
   ]
  },
  {
   "cell_type": "code",
   "execution_count": 33,
   "id": "f941152b",
   "metadata": {},
   "outputs": [],
   "source": [
    "# Input:\n",
    "# n = 7\n",
    "# arr[] = {1, 5, 3, 4, 3, 5, 6}\n",
    "# Output: 2\n",
    "# Explanation: \n",
    "# 5 is appearing twice and \n",
    "# its first appearence is at index 2 \n",
    "# which is less than 3 whose first \n",
    "# occuring index is 3.  \n",
    "    \n",
    "    \n",
    "    #Function to return the position of the first repeating element.\n",
    "def firstRepeated(self,arr, n):\n",
    "    dct = {}\n",
    "    for i in arr :\n",
    "        if i not in dct:\n",
    "            dct[i] = 1\n",
    "        else:\n",
    "            dct[i] +=1\n",
    "    for i in range(len(arr)):\n",
    "        if dct[arr[i]] >1:\n",
    "            return i+1\n",
    "    return -1"
   ]
  },
  {
   "cell_type": "markdown",
   "id": "acfbe831",
   "metadata": {},
   "source": [
    "### Majority Element"
   ]
  },
  {
   "cell_type": "code",
   "execution_count": 35,
   "id": "c6a391e0",
   "metadata": {},
   "outputs": [],
   "source": [
    "# Input:\n",
    "# N = 5 \n",
    "# A[] = {3,1,3,3,2} \n",
    "# Output:\n",
    "# 3\n",
    "# Explanation:\n",
    "# Since, 3 is present more\n",
    "# than N/2 times, so it is \n",
    "# the majority element.\n",
    "\n",
    "\n",
    "def majorityElement(self, A, N):\n",
    "            \n",
    "    element_count = {}\n",
    "        \n",
    "    for element in A:\n",
    "        if element in element_count:\n",
    "            element_count[element] += 1\n",
    "        else:\n",
    "            element_count[element] = 1\n",
    "                \n",
    "        if element_count[element] > N // 2:\n",
    "            return element\n",
    "                \n",
    "    return -1  "
   ]
  },
  {
   "cell_type": "markdown",
   "id": "645abe83",
   "metadata": {},
   "source": [
    "### Brane : "
   ]
  },
  {
   "cell_type": "code",
   "execution_count": 36,
   "id": "3d3d8811",
   "metadata": {},
   "outputs": [
    {
     "name": "stdout",
     "output_type": "stream",
     "text": [
      "Geeks\n"
     ]
    }
   ],
   "source": [
    "dictionary = {1: 'Geeks', 'name': 'For', 3: 'Geeks'}\n",
    "val = list(dictionary.values())\n",
    "val.sort()\n",
    "res = val[-2]\n",
    "print(res)"
   ]
  },
  {
   "cell_type": "code",
   "execution_count": 39,
   "id": "0ccc8da5",
   "metadata": {},
   "outputs": [
    {
     "name": "stdout",
     "output_type": "stream",
     "text": [
      "Geeks\n"
     ]
    }
   ],
   "source": [
    "# code for finding second largest value in dictionary\n",
    " \n",
    "dictionary = {1: 'Geeks', 'name': 'For', 3: 'Geeks'}\n",
    " \n",
    "val = list(dictionary.values())\n",
    " \n",
    "# using reverse sort() method\n",
    "val.sort(reverse = True)\n",
    " \n",
    "res = val[1]\n",
    " \n",
    "print(res)"
   ]
  },
  {
   "cell_type": "markdown",
   "id": "dd082783",
   "metadata": {},
   "source": [
    "### Sort Python Dictionaries by Key or Value"
   ]
  },
  {
   "cell_type": "code",
   "execution_count": 40,
   "id": "c7b4d0e5",
   "metadata": {},
   "outputs": [
    {
     "name": "stdout",
     "output_type": "stream",
     "text": [
      "{'rajnish': 9, 'ravi': 10, 'sanjeev': 15, 'suraj': 32, 'yash': 2}\n"
     ]
    }
   ],
   "source": [
    "#Example 1: Sort Dictionary By Key in Python\n",
    "\n",
    "myDict = {'ravi': 10, 'rajnish': 9,\n",
    "        'sanjeev': 15, 'yash': 2, 'suraj': 32}\n",
    " \n",
    "myKeys = list(myDict.keys())\n",
    "myKeys.sort()\n",
    "sorted_dict = {i: myDict[i] for i in myKeys}\n",
    " \n",
    "print(sorted_dict)"
   ]
  },
  {
   "cell_type": "code",
   "execution_count": 41,
   "id": "190f2403",
   "metadata": {},
   "outputs": [
    {
     "name": "stdout",
     "output_type": "stream",
     "text": [
      "OrderedDict([('rajnish', '9'), ('ravi', '10'), ('sanjeev', '15'), ('suraj', '32'), ('yash', '2')])\n"
     ]
    }
   ],
   "source": [
    "\n",
    "# Creates a sorted dictionary (sorted by key)\n",
    "from collections import OrderedDict\n",
    " \n",
    "dict = {'ravi': '10', 'rajnish': '9',\n",
    "        'sanjeev': '15', 'yash': '2', 'suraj': '32'}\n",
    "dict1 = OrderedDict(sorted(dict.items()))\n",
    "print(dict1)"
   ]
  },
  {
   "cell_type": "markdown",
   "id": "033bc3c8",
   "metadata": {},
   "source": [
    "### Sum Of item in Dictionary"
   ]
  },
  {
   "cell_type": "code",
   "execution_count": 56,
   "id": "9b98d230",
   "metadata": {},
   "outputs": [
    {
     "name": "stdout",
     "output_type": "stream",
     "text": [
      "Sum : 600\n"
     ]
    }
   ],
   "source": [
    "# Python3 Program to find sum of\n",
    "# all items in a Dictionary\n",
    " \n",
    "# Function to print sum\n",
    "\n",
    "def returnSum(dict):\n",
    "\n",
    "\tsum = 0\n",
    "\tfor i in dict.values():\n",
    "\t\tsum = sum + i\n",
    "\n",
    "\treturn sum\n",
    "\n",
    "\n",
    "# Driver Function\n",
    "dict = {'a': 100, 'b': 200, 'c': 300}\n",
    "print(\"Sum :\", returnSum(dict))\n"
   ]
  },
  {
   "cell_type": "code",
   "execution_count": 59,
   "id": "10a8495f",
   "metadata": {},
   "outputs": [
    {
     "name": "stdout",
     "output_type": "stream",
     "text": [
      "Sum : 600\n"
     ]
    }
   ],
   "source": [
    "# Python3 Program to find sum of\n",
    "# all items in a Dictionary\n",
    "\n",
    "# Function to print sum\n",
    "\n",
    "\n",
    "def returnSum(dict):\n",
    "\n",
    "\tsum = 0\n",
    "\tfor i in dict:\n",
    "\t\tsum = sum + dict[i]\n",
    "\n",
    "\treturn sum\n",
    "\n",
    "\n",
    "# Driver Function\n",
    "dict = {'a': 100, 'b': 200, 'c': 300}\n",
    "print(\"Sum :\", returnSum(dict))\n",
    "\n"
   ]
  },
  {
   "cell_type": "markdown",
   "id": "1c6d3877",
   "metadata": {},
   "source": [
    "### Roman Number to Decimal Number"
   ]
  },
  {
   "cell_type": "code",
   "execution_count": null,
   "id": "f3905e42",
   "metadata": {},
   "outputs": [],
   "source": [
    "    def romanToDecimal(self, S): \n",
    "        # code here\n",
    "        hm = {'I':1,'V':5,'X':10,'L':50,'C':100,'D':500,'M':1000}\n",
    "        if len(S)==1:\n",
    "            return hm[S]\n",
    "        summ = 0\n",
    "        for i in range(len(S)-1):\n",
    "            if hm[S[i]]<hm[S[i+1]]:\n",
    "                summ-=hm[S[i]]\n",
    "            else:\n",
    "                summ+=hm[S[i]]\n",
    "        return summ+hm[S[-1]]\n",
    "        # code here"
   ]
  },
  {
   "cell_type": "code",
   "execution_count": null,
   "id": "84dec207",
   "metadata": {},
   "outputs": [],
   "source": []
  },
  {
   "cell_type": "code",
   "execution_count": null,
   "id": "a339196c",
   "metadata": {},
   "outputs": [],
   "source": []
  }
 ],
 "metadata": {
  "kernelspec": {
   "display_name": "Python 3 (ipykernel)",
   "language": "python",
   "name": "python3"
  },
  "language_info": {
   "codemirror_mode": {
    "name": "ipython",
    "version": 3
   },
   "file_extension": ".py",
   "mimetype": "text/x-python",
   "name": "python",
   "nbconvert_exporter": "python",
   "pygments_lexer": "ipython3",
   "version": "3.9.12"
  }
 },
 "nbformat": 4,
 "nbformat_minor": 5
}
