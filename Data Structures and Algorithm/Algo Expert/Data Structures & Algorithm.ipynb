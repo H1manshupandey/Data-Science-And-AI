{
 "cells": [
  {
   "attachments": {},
   "cell_type": "markdown",
   "id": "388675c5",
   "metadata": {},
   "source": [
    "# 1. Sorted Squared Array"
   ]
  },
  {
   "cell_type": "code",
   "execution_count": 2,
   "id": "a851b187",
   "metadata": {},
   "outputs": [],
   "source": [
    "array = [-7, -5, -4, 3, 6, 8, 9]"
   ]
  },
  {
   "cell_type": "code",
   "execution_count": 3,
   "id": "7bab311e",
   "metadata": {},
   "outputs": [
    {
     "data": {
      "text/plain": [
       "[9, 16, 25, 36, 49, 64, 81]"
      ]
     },
     "execution_count": 3,
     "metadata": {},
     "output_type": "execute_result"
    }
   ],
   "source": [
    "#solution 1 \n",
    "#Brute force approach\n",
    "# O(nlogn) time |||| O(n) space\n",
    "def sortedSquaredArray(array):\n",
    "    sortedSquares = [0 for _ in array]\n",
    "    \n",
    "    for idx in range (len(array)):\n",
    "        value = array[idx]\n",
    "        sortedSquares[idx] = value * value\n",
    "        \n",
    "    sortedSquares.sort()\n",
    "    return sortedSquares\n",
    "\n",
    "sortedSquaredArray(array)"
   ]
  },
  {
   "cell_type": "code",
   "execution_count": 5,
   "id": "a3c45b68",
   "metadata": {},
   "outputs": [
    {
     "data": {
      "text/plain": [
       "[9, 16, 25, 36, 49, 64, 81]"
      ]
     },
     "execution_count": 5,
     "metadata": {},
     "output_type": "execute_result"
    }
   ],
   "source": [
    "#solution 2\n",
    "# O(n) time |||| O(n) space\n",
    "\n",
    "def sortedSquaredArray(array):\n",
    "    sortedSquares = [0 for _ in array]\n",
    "    smallerValueIdx = 0\n",
    "    largerValueIdx = len(array)-1\n",
    "    \n",
    "    for idx in reversed(range(len(array))):\n",
    "        smallerValue = array[smallerValueIdx]\n",
    "        largerValue = array[largerValueIdx]\n",
    "        \n",
    "        if abs(smallerValue) > abs(largerValue):\n",
    "            sortedSquares[idx] = smallerValue * smallerValue\n",
    "            smallerValueIdx +=1\n",
    "            \n",
    "        else:\n",
    "            sortedSquares[idx] = largerValue * largerValue\n",
    "            largerValueIdx -= 1\n",
    "    \n",
    "    return sortedSquares\n",
    "\n",
    "    \n",
    "sortedSquaredArray(array)\n",
    "    \n",
    "    "
   ]
  },
  {
   "attachments": {},
   "cell_type": "markdown",
   "id": "b2004bd1",
   "metadata": {},
   "source": [
    "# 2. Palindrome Check"
   ]
  },
  {
   "cell_type": "code",
   "execution_count": 1,
   "id": "cdb8a266",
   "metadata": {},
   "outputs": [],
   "source": [
    "str = \"abcdcba\""
   ]
  },
  {
   "cell_type": "code",
   "execution_count": 2,
   "id": "b6d379a6",
   "metadata": {},
   "outputs": [
    {
     "data": {
      "text/plain": [
       "True"
      ]
     },
     "execution_count": 2,
     "metadata": {},
     "output_type": "execute_result"
    }
   ],
   "source": [
    "# Solution 1\n",
    "\n",
    "# space| O(n)\n",
    "# time | O(n^2)\n",
    "\n",
    "def isPalindrome1(string):\n",
    "    reversedString = \"\"\n",
    "    for i in reversed(range(len(string))):\n",
    "        reversedString += string[i]\n",
    "    return reversedString == string\n",
    "\n",
    "isPalindrome1(str) "
   ]
  },
  {
   "cell_type": "code",
   "execution_count": 3,
   "id": "8dfd5490",
   "metadata": {},
   "outputs": [
    {
     "data": {
      "text/plain": [
       "True"
      ]
     },
     "execution_count": 3,
     "metadata": {},
     "output_type": "execute_result"
    }
   ],
   "source": [
    "# Solution 2\n",
    "\n",
    "# space| O(n)\n",
    "# time | O(n)\n",
    "\n",
    "def isPalindrome2(string):\n",
    "    reversedChars = []\n",
    "    \n",
    "    for i in reversed(range(len(string))):\n",
    "        reversedChars.append(string[i])\n",
    "    return string == \"\".join(reversedChars)\n",
    "\n",
    "isPalindrome2(str)"
   ]
  },
  {
   "cell_type": "code",
   "execution_count": 4,
   "id": "9b526a12",
   "metadata": {},
   "outputs": [
    {
     "data": {
      "text/plain": [
       "True"
      ]
     },
     "execution_count": 4,
     "metadata": {},
     "output_type": "execute_result"
    }
   ],
   "source": [
    "# Solution 3\n",
    "\n",
    "# space| O(n)\n",
    "# time | O(n)\n",
    "'''\n",
    "def isPalindrome3(string, i = 0):\n",
    "    j = len(string) - 1 - i\n",
    "    return True if i >= j else string[i] == string[j] and isPalindrome3(string, i + 1)\n",
    "\n",
    "isPalindrome3(str)\n",
    "'''\n",
    "#tail Recursion\n",
    "def isPalindrome3(string, i = 0):\n",
    "    j = len(string) - 1 - i\n",
    "    if i >= j :\n",
    "        return True \n",
    "    if string[i] != string [j]:\n",
    "        return False\n",
    "    return isPalindrome3(string, i + 1)\n",
    "\n",
    "isPalindrome3(str)"
   ]
  },
  {
   "cell_type": "code",
   "execution_count": 23,
   "id": "acae0d6b",
   "metadata": {},
   "outputs": [
    {
     "data": {
      "text/plain": [
       "True"
      ]
     },
     "execution_count": 23,
     "metadata": {},
     "output_type": "execute_result"
    }
   ],
   "source": [
    "\n",
    "# Solution 4\n",
    "\n",
    "# space| O(1)\n",
    "# time | O(n)\n",
    "def isPalindrome4(string):\n",
    "    leftIdx = 0\n",
    "    rigthIdx = len(string) - 1\n",
    "\n",
    "    while leftIdx < rigthIdx:\n",
    "        if string[leftIdx] != string[rigthIdx]:\n",
    "            return False\n",
    "        leftIdx += 1\n",
    "        rigthIdx -= 1\n",
    "    return True\n",
    "\n",
    "isPalindrome4(str)\n",
    "\n",
    "\n",
    "\n"
   ]
  },
  {
   "cell_type": "code",
   "execution_count": 5,
   "id": "8b0de4b4",
   "metadata": {},
   "outputs": [
    {
     "data": {
      "text/plain": [
       "True"
      ]
     },
     "execution_count": 5,
     "metadata": {},
     "output_type": "execute_result"
    }
   ],
   "source": [
    "#Solution 5 EASIEST\n",
    "def isPalindrome4(string):\n",
    "    return string[::-1] == string[:]\n",
    "\n",
    "isPalindrome4(str)"
   ]
  },
  {
   "cell_type": "code",
   "execution_count": null,
   "id": "2e4f4deb",
   "metadata": {},
   "outputs": [],
   "source": []
  }
 ],
 "metadata": {
  "kernelspec": {
   "display_name": "Python 3 (ipykernel)",
   "language": "python",
   "name": "python3"
  },
  "language_info": {
   "codemirror_mode": {
    "name": "ipython",
    "version": 3
   },
   "file_extension": ".py",
   "mimetype": "text/x-python",
   "name": "python",
   "nbconvert_exporter": "python",
   "pygments_lexer": "ipython3",
   "version": "3.9.12"
  }
 },
 "nbformat": 4,
 "nbformat_minor": 5
}
