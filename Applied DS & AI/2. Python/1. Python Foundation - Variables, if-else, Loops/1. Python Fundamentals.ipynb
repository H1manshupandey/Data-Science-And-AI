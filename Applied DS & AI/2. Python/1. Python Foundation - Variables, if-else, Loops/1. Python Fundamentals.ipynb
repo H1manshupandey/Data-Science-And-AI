{
 "cells": [
  {
   "cell_type": "code",
   "execution_count": 1,
   "metadata": {},
   "outputs": [
    {
     "data": {
      "text/plain": [
       "('Total no. of Keywords',\n",
       " ['False',\n",
       "  'None',\n",
       "  'True',\n",
       "  'and',\n",
       "  'as',\n",
       "  'assert',\n",
       "  'async',\n",
       "  'await',\n",
       "  'break',\n",
       "  'class',\n",
       "  'continue',\n",
       "  'def',\n",
       "  'del',\n",
       "  'elif',\n",
       "  'else',\n",
       "  'except',\n",
       "  'finally',\n",
       "  'for',\n",
       "  'from',\n",
       "  'global',\n",
       "  'if',\n",
       "  'import',\n",
       "  'in',\n",
       "  'is',\n",
       "  'lambda',\n",
       "  'nonlocal',\n",
       "  'not',\n",
       "  'or',\n",
       "  'pass',\n",
       "  'raise',\n",
       "  'return',\n",
       "  'try',\n",
       "  'while',\n",
       "  'with',\n",
       "  'yield'])"
      ]
     },
     "execution_count": 1,
     "metadata": {},
     "output_type": "execute_result"
    }
   ],
   "source": [
    "#Get all keywords in python 3\n",
    "import keyword\n",
    "#print (keyword.kwlist)\n",
    "#print (\"no. of keywords: \" ,len(keyword.kwlist))\n",
    "\"Total no. of Keywords\", keyword.kwlist"
   ]
  },
  {
   "cell_type": "code",
   "execution_count": 2,
   "metadata": {},
   "outputs": [],
   "source": [
    "#variable name must start from alphabate and should not contain any spaces (we can then use underscore's and numbers)\n",
    "a_12=12"
   ]
  },
  {
   "cell_type": "code",
   "execution_count": 3,
   "metadata": {},
   "outputs": [
    {
     "ename": "SyntaxError",
     "evalue": "invalid syntax (<ipython-input-3-31dce2486d49>, line 2)",
     "output_type": "error",
     "traceback": [
      "\u001b[1;36m  File \u001b[1;32m\"<ipython-input-3-31dce2486d49>\"\u001b[1;36m, line \u001b[1;32m2\u001b[0m\n\u001b[1;33m    global =1\u001b[0m\n\u001b[1;37m           ^\u001b[0m\n\u001b[1;31mSyntaxError\u001b[0m\u001b[1;31m:\u001b[0m invalid syntax\n"
     ]
    }
   ],
   "source": [
    "#Cannot use keywords as an variable name\n",
    "global =1"
   ]
  },
  {
   "cell_type": "code",
   "execution_count": null,
   "metadata": {},
   "outputs": [],
   "source": [
    "#We cannot use special character in variable\n",
    "a@ =10"
   ]
  },
  {
   "cell_type": "code",
   "execution_count": null,
   "metadata": {},
   "outputs": [],
   "source": [
    "#comment\n",
    "#This is comment\n",
    "'''This is 3 quotes comment'''\n",
    "\"\"\"This \n",
    "is\n",
    "multiline\n",
    "comment\"\"\""
   ]
  },
  {
   "cell_type": "code",
   "execution_count": null,
   "metadata": {},
   "outputs": [],
   "source": [
    "#indentation\n",
    "#if not defined then i starts from 0\n",
    "for i in range (10):\n",
    "    print(i)\n",
    "    "
   ]
  },
  {
   "cell_type": "code",
   "execution_count": null,
   "metadata": {},
   "outputs": [],
   "source": [
    "#indentation error\n",
    "for i in range (10):\n",
    "    print(i)\n",
    " print(100)"
   ]
  },
  {
   "cell_type": "code",
   "execution_count": null,
   "metadata": {},
   "outputs": [],
   "source": [
    "#interpretability of python (readability)\n",
    "if True:\n",
    "    print (\"Data Science\")\n",
    "    z = \"Machine Leaning\"\n",
    "    print(z)"
   ]
  },
  {
   "cell_type": "code",
   "execution_count": null,
   "metadata": {},
   "outputs": [],
   "source": [
    "if True:print (\"Data Science\"); z = \"Machine Leaning\"; print(z)"
   ]
  },
  {
   "cell_type": "code",
   "execution_count": null,
   "metadata": {},
   "outputs": [],
   "source": [
    "#statements\n",
    "a=1 #Single line statement"
   ]
  },
  {
   "cell_type": "code",
   "execution_count": null,
   "metadata": {},
   "outputs": [],
   "source": [
    "#multiline statement\n",
    "a= 1+2+3+\\\n",
    "        4+5+\\\n",
    "            6+7+8\n",
    "print (a)"
   ]
  },
  {
   "cell_type": "code",
   "execution_count": null,
   "metadata": {},
   "outputs": [],
   "source": [
    "#multiline statement\n",
    "a= (1+2+3+\n",
    "   4+5+6+\n",
    "   7+\n",
    "   8)\n",
    "print(a)"
   ]
  },
  {
   "cell_type": "code",
   "execution_count": null,
   "metadata": {},
   "outputs": [],
   "source": [
    "#multiple statement in same line\n",
    "a= 1; b=2 ; c=3\n"
   ]
  },
  {
   "cell_type": "code",
   "execution_count": null,
   "metadata": {},
   "outputs": [],
   "source": [
    "#Variable assignment (Multiple)\n",
    "a,b,c = 10,5.5,\"ML\"\n",
    "print (a,b,c)"
   ]
  },
  {
   "cell_type": "code",
   "execution_count": null,
   "metadata": {},
   "outputs": [],
   "source": [
    "#Variable assignment (Multiple)\n",
    "a=b=c= \"AI\"\n",
    "print (a,b,c)"
   ]
  },
  {
   "cell_type": "code",
   "execution_count": null,
   "metadata": {},
   "outputs": [],
   "source": [
    "#Storage Location\n",
    "#a=b=c= \"AI\"\n",
    "print (id(a))"
   ]
  },
  {
   "cell_type": "code",
   "execution_count": null,
   "metadata": {},
   "outputs": [],
   "source": [
    "#first data is created and then variable is created and directed toward the data pt\n",
    "print (id(b))\n",
    "print (id(c))"
   ]
  },
  {
   "cell_type": "code",
   "execution_count": null,
   "metadata": {},
   "outputs": [],
   "source": [
    "#Now we change the value\n",
    "c=\"ML\"\n",
    "print (id(c))"
   ]
  },
  {
   "cell_type": "markdown",
   "metadata": {},
   "source": [
    "# Data Types"
   ]
  },
  {
   "cell_type": "code",
   "execution_count": null,
   "metadata": {},
   "outputs": [],
   "source": [
    "a = 5\n",
    "print (a, \"is a type of \", type(a))"
   ]
  },
  {
   "cell_type": "code",
   "execution_count": null,
   "metadata": {},
   "outputs": [],
   "source": [
    "a= 5.5\n",
    "print (a, \"is a type of \", type(a))"
   ]
  },
  {
   "cell_type": "code",
   "execution_count": null,
   "metadata": {},
   "outputs": [],
   "source": [
    "a = 1 + 2j\n",
    "print (a, \"is a type of \", type(a))\n",
    "print (isinstance (a,complex))"
   ]
  },
  {
   "cell_type": "code",
   "execution_count": 4,
   "metadata": {},
   "outputs": [
    {
     "name": "stdout",
     "output_type": "stream",
     "text": [
      "ML is a type of  <class 'str'>\n"
     ]
    }
   ],
   "source": [
    "a = \"ML\"\n",
    "print (a, \"is a type of \", type(a))"
   ]
  },
  {
   "cell_type": "code",
   "execution_count": 5,
   "metadata": {},
   "outputs": [
    {
     "name": "stdout",
     "output_type": "stream",
     "text": [
      "True is a type of  <class 'bool'>\n"
     ]
    }
   ],
   "source": [
    "a = True\n",
    "print (a, \"is a type of \", type(a))"
   ]
  },
  {
   "cell_type": "markdown",
   "metadata": {},
   "source": [
    "# Python strings"
   ]
  },
  {
   "cell_type": "code",
   "execution_count": 6,
   "metadata": {},
   "outputs": [],
   "source": [
    "#In python string is a sequence of unicode characters (Not ASCII). It can store non english characters."
   ]
  },
  {
   "cell_type": "code",
   "execution_count": 7,
   "metadata": {},
   "outputs": [
    {
     "name": "stdout",
     "output_type": "stream",
     "text": [
      "This is my python notebook is a type of  <class 'str'>\n"
     ]
    }
   ],
   "source": [
    "s = \"This is my python notebook\"\n",
    "print (s, \"is a type of \", type(s))\n",
    "\n",
    "s = \"\"\"This is \n",
    "my python notebook\"\"\"      #multiline string \"\"\" string \"\"\""
   ]
  },
  {
   "cell_type": "code",
   "execution_count": 8,
   "metadata": {},
   "outputs": [
    {
     "name": "stdout",
     "output_type": "stream",
     "text": [
      "T\n"
     ]
    }
   ],
   "source": [
    "print (s[0])"
   ]
  },
  {
   "cell_type": "code",
   "execution_count": 9,
   "metadata": {},
   "outputs": [
    {
     "name": "stdout",
     "output_type": "stream",
     "text": [
      "k\n",
      "k\n",
      "27\n"
     ]
    }
   ],
   "source": [
    "print (s[-1])\n",
    "print (s[len(s)-1])\n",
    "print (len(s))\n"
   ]
  },
  {
   "cell_type": "code",
   "execution_count": 10,
   "metadata": {},
   "outputs": [],
   "source": [
    "#for i in range (len(s)):\n",
    "#    print (s[i])"
   ]
  },
  {
   "cell_type": "code",
   "execution_count": 11,
   "metadata": {},
   "outputs": [
    {
     "data": {
      "text/plain": [
       "'is \\nmy python noteboo'"
      ]
     },
     "execution_count": 11,
     "metadata": {},
     "output_type": "execute_result"
    }
   ],
   "source": [
    "#slicing\n",
    "s[5:26]  #from 5th index to 26th index hence K is not printed\n"
   ]
  },
  {
   "cell_type": "code",
   "execution_count": 12,
   "metadata": {},
   "outputs": [
    {
     "name": "stdout",
     "output_type": "stream",
     "text": [
      "is \n",
      "my python notebook\n"
     ]
    }
   ],
   "source": [
    "print (s[5:])"
   ]
  },
  {
   "cell_type": "markdown",
   "metadata": {},
   "source": [
    "# Python List"
   ]
  },
  {
   "cell_type": "code",
   "execution_count": 13,
   "metadata": {},
   "outputs": [
    {
     "name": "stdout",
     "output_type": "stream",
     "text": [
      "<class 'list'>\n"
     ]
    }
   ],
   "source": [
    "a = [10, 20.5, \"Hello\"]\n",
    "print (type(a))"
   ]
  },
  {
   "cell_type": "code",
   "execution_count": 14,
   "metadata": {},
   "outputs": [
    {
     "name": "stdout",
     "output_type": "stream",
     "text": [
      "10\n",
      "20.5\n",
      "Hello\n",
      "<class 'str'>\n"
     ]
    }
   ],
   "source": [
    "print (a[0])\n",
    "print (a[1])\n",
    "print (a[2])\n",
    "print (type(a[2]))"
   ]
  },
  {
   "cell_type": "code",
   "execution_count": 15,
   "metadata": {},
   "outputs": [
    {
     "name": "stdout",
     "output_type": "stream",
     "text": [
      "10\n",
      "<class 'int'>\n",
      "20.5\n",
      "<class 'float'>\n",
      "Hello\n",
      "<class 'str'>\n"
     ]
    }
   ],
   "source": [
    "for i in range (len(a)):\n",
    "    print (a[i])\n",
    "    print (type(a[i]))"
   ]
  },
  {
   "cell_type": "markdown",
   "metadata": {},
   "source": [
    "List are Mutable"
   ]
  },
  {
   "cell_type": "code",
   "execution_count": 16,
   "metadata": {},
   "outputs": [
    {
     "name": "stdout",
     "output_type": "stream",
     "text": [
      "[10, 20.5, 'Machine Learning']\n"
     ]
    }
   ],
   "source": [
    "a[2]= 'Machine Learning'\n",
    "print (a)"
   ]
  },
  {
   "cell_type": "markdown",
   "metadata": {},
   "source": [
    "# Python Tuple"
   ]
  },
  {
   "cell_type": "code",
   "execution_count": 17,
   "metadata": {},
   "outputs": [
    {
     "name": "stdout",
     "output_type": "stream",
     "text": [
      "(1, 1.5, 'DSML')\n"
     ]
    }
   ],
   "source": [
    "t = (1, 1.5, \"DSML\")\n",
    "print (t)"
   ]
  },
  {
   "cell_type": "code",
   "execution_count": 18,
   "metadata": {},
   "outputs": [
    {
     "name": "stdout",
     "output_type": "stream",
     "text": [
      "1\n",
      "1.5\n",
      "DSML\n",
      "<class 'str'>\n"
     ]
    }
   ],
   "source": [
    "print (t[0])\n",
    "print (t[1])\n",
    "print (t[2])\n",
    "print (type(t[2]))"
   ]
  },
  {
   "cell_type": "markdown",
   "metadata": {},
   "source": [
    "Tuples are IMMUTABLE (you cannot edit them)"
   ]
  },
  {
   "cell_type": "code",
   "execution_count": 19,
   "metadata": {},
   "outputs": [
    {
     "ename": "TypeError",
     "evalue": "'tuple' object does not support item assignment",
     "output_type": "error",
     "traceback": [
      "\u001b[1;31m---------------------------------------------------------------------------\u001b[0m",
      "\u001b[1;31mTypeError\u001b[0m                                 Traceback (most recent call last)",
      "\u001b[1;32m<ipython-input-19-1ac8f9e0905d>\u001b[0m in \u001b[0;36m<module>\u001b[1;34m\u001b[0m\n\u001b[1;32m----> 1\u001b[1;33m \u001b[0mt\u001b[0m\u001b[1;33m[\u001b[0m\u001b[1;36m2\u001b[0m\u001b[1;33m]\u001b[0m\u001b[1;33m=\u001b[0m\u001b[1;34m\"Machine Learning\"\u001b[0m\u001b[1;33m\u001b[0m\u001b[1;33m\u001b[0m\u001b[0m\n\u001b[0m",
      "\u001b[1;31mTypeError\u001b[0m: 'tuple' object does not support item assignment"
     ]
    }
   ],
   "source": [
    "t[2]=\"Machine Learning\""
   ]
  },
  {
   "cell_type": "markdown",
   "metadata": {},
   "source": [
    "# Python Set"
   ]
  },
  {
   "cell_type": "code",
   "execution_count": null,
   "metadata": {},
   "outputs": [],
   "source": [
    "s = {10, 20, 30, 40}\n",
    "\n",
    "print (type(s))\n",
    "print (s[0])\n",
    "print (s[1])\n",
    "print (s[2])\n",
    "print (type(s[2]))"
   ]
  },
  {
   "cell_type": "code",
   "execution_count": null,
   "metadata": {},
   "outputs": [],
   "source": [
    "#set is unordered collection of objects .'. Indexing does not works\n",
    "print (s)"
   ]
  },
  {
   "cell_type": "code",
   "execution_count": null,
   "metadata": {},
   "outputs": [],
   "source": [
    "#Set only store unique values (union/intersection etc)\n",
    "s = {10, 10, 20, 20, 20, 30, 40, 50, 50 ,50}\n",
    "print (s)"
   ]
  },
  {
   "cell_type": "markdown",
   "metadata": {},
   "source": [
    "# Dictionary"
   ]
  },
  {
   "cell_type": "code",
   "execution_count": null,
   "metadata": {},
   "outputs": [],
   "source": [
    "d = {'a' : 1, 'b' : 'ball', c: 'cat'}    # Key = 'a' : Value= '1'\n",
    "print (d)"
   ]
  },
  {
   "cell_type": "code",
   "execution_count": null,
   "metadata": {},
   "outputs": [],
   "source": [
    "print (type(d))\n",
    "print (d[c])\n",
    "print (type(d[c]))\n",
    "print (d['a'])\n",
    "print (type(d['a']))"
   ]
  },
  {
   "cell_type": "code",
   "execution_count": null,
   "metadata": {},
   "outputs": [],
   "source": [
    "d['a'] = 'apple'"
   ]
  },
  {
   "cell_type": "code",
   "execution_count": null,
   "metadata": {},
   "outputs": [],
   "source": [
    "print (d)"
   ]
  },
  {
   "cell_type": "code",
   "execution_count": null,
   "metadata": {},
   "outputs": [],
   "source": [
    "print (d[1])  #when key is not presnt in not present in a Dictionary then we get Key error"
   ]
  },
  {
   "cell_type": "code",
   "execution_count": null,
   "metadata": {},
   "outputs": [],
   "source": [
    "d = {'a' : (1, 2, 3 ), 'b' : 'ball', c: 'cat'}\n",
    "print (d['a'])"
   ]
  },
  {
   "cell_type": "markdown",
   "metadata": {},
   "source": [
    "# Converting Data Types"
   ]
  },
  {
   "cell_type": "code",
   "execution_count": null,
   "metadata": {},
   "outputs": [],
   "source": [
    "a = 5\n",
    "b= float(a)\n",
    "print (b)"
   ]
  },
  {
   "cell_type": "code",
   "execution_count": null,
   "metadata": {},
   "outputs": [],
   "source": [
    "print (str (a))\n",
    "str(b)"
   ]
  },
  {
   "cell_type": "code",
   "execution_count": null,
   "metadata": {},
   "outputs": [],
   "source": [
    "int('10.0')"
   ]
  },
  {
   "cell_type": "code",
   "execution_count": null,
   "metadata": {},
   "outputs": [],
   "source": [
    "int ('10p')"
   ]
  },
  {
   "cell_type": "code",
   "execution_count": null,
   "metadata": {},
   "outputs": [],
   "source": [
    "a = 10.1\n",
    "int(a)"
   ]
  },
  {
   "cell_type": "code",
   "execution_count": null,
   "metadata": {},
   "outputs": [],
   "source": [
    "user = \"Alan martin\"\n",
    "no = 1\n",
    "\n",
    "print (\"Do you know that\" + user + \" is number \" + no)"
   ]
  },
  {
   "cell_type": "code",
   "execution_count": null,
   "metadata": {},
   "outputs": [],
   "source": [
    "print (\"Do you know that\" + user + \" is number \" + str(no))"
   ]
  },
  {
   "cell_type": "markdown",
   "metadata": {},
   "source": [
    "# Converting Data structures"
   ]
  },
  {
   "cell_type": "code",
   "execution_count": null,
   "metadata": {},
   "outputs": [],
   "source": [
    "a = [1,2,3,3,4,4]\n",
    "print (type(a))\n",
    "print (a)"
   ]
  },
  {
   "cell_type": "code",
   "execution_count": null,
   "metadata": {},
   "outputs": [],
   "source": [
    "s= set(a)\n",
    "print (type(s))\n",
    "print (s)"
   ]
  },
  {
   "cell_type": "code",
   "execution_count": null,
   "metadata": {},
   "outputs": [],
   "source": [
    "h = \"Hello World\"\n",
    "l = list(h)\n",
    "print(type(l), \"       \", (l))"
   ]
  },
  {
   "cell_type": "code",
   "execution_count": null,
   "metadata": {},
   "outputs": [],
   "source": [
    "end = str(l)\n",
    "print (end)"
   ]
  },
  {
   "cell_type": "code",
   "execution_count": null,
   "metadata": {},
   "outputs": [],
   "source": [
    "end = ''\n",
    "for i in range (len(l)):\n",
    "    end += l[i]\n",
    "    \n",
    "print (end)"
   ]
  },
  {
   "cell_type": "markdown",
   "metadata": {},
   "source": [
    "# Functions"
   ]
  },
  {
   "cell_type": "code",
   "execution_count": null,
   "metadata": {},
   "outputs": [],
   "source": [
    "def list2str (z):\n",
    "    end=''\n",
    "    for i in range (len(z)):\n",
    "        end += z[i]\n",
    "    return end\n",
    "    \n"
   ]
  },
  {
   "cell_type": "code",
   "execution_count": null,
   "metadata": {},
   "outputs": [],
   "source": [
    "h = 'Himanshu Pandey'\n",
    "name = list(h)\n",
    "print (name)"
   ]
  },
  {
   "cell_type": "code",
   "execution_count": null,
   "metadata": {},
   "outputs": [],
   "source": [
    "my_name= list2str(name)\n",
    "print (my_name)"
   ]
  },
  {
   "cell_type": "markdown",
   "metadata": {},
   "source": [
    "# Functions vs Variables"
   ]
  },
  {
   "cell_type": "code",
   "execution_count": null,
   "metadata": {},
   "outputs": [],
   "source": [
    "#we already have function called list2str\n",
    "k = 'himanshu'\n",
    "j = list(k)\n",
    "fvsv = list2str(j)\n",
    "print (fvsv)"
   ]
  },
  {
   "cell_type": "markdown",
   "metadata": {},
   "source": [
    "# Input & Output"
   ]
  },
  {
   "cell_type": "code",
   "execution_count": null,
   "metadata": {},
   "outputs": [],
   "source": [
    "print (\"Hello World\")"
   ]
  },
  {
   "cell_type": "code",
   "execution_count": null,
   "metadata": {},
   "outputs": [],
   "source": [
    "a = 10\n",
    "\n",
    "print (\"The value of a is \", a)\n",
    "print (\"The value of a is \" + str(a))"
   ]
  },
  {
   "cell_type": "code",
   "execution_count": null,
   "metadata": {},
   "outputs": [],
   "source": [
    "a = 10 ; b = 20\n",
    "\n",
    "#printf i.e. print format\n",
    "\n",
    "print (\"the value of a is {} and the value of b is {}\".format(a,b))"
   ]
  },
  {
   "cell_type": "code",
   "execution_count": null,
   "metadata": {},
   "outputs": [],
   "source": [
    "print (\"the value of a is {1} and the value of b is {0}\".format(a,b)) #position of the value"
   ]
  },
  {
   "cell_type": "code",
   "execution_count": null,
   "metadata": {},
   "outputs": [],
   "source": [
    "print (\"the value of a is {1} and the value of b is {2}\".format(a,b))"
   ]
  },
  {
   "cell_type": "code",
   "execution_count": null,
   "metadata": {},
   "outputs": [],
   "source": [
    "print (\"Hello {0}, {4}\".format('akshay', 'aakash', 'arjun', 'abhishek', 'Good Morning', 'Good Night'))"
   ]
  },
  {
   "cell_type": "code",
   "execution_count": null,
   "metadata": {},
   "outputs": [],
   "source": [
    "print (\"Hello {name[0]}, {Greeting[0]}\".format(\n",
    "    name=['akshay', 'aakash', 'arjun', 'abhishek'], \n",
    "    Greeting= ['Good Morning', 'Good Night']))"
   ]
  },
  {
   "cell_type": "code",
   "execution_count": null,
   "metadata": {},
   "outputs": [],
   "source": [
    "print (\"Hello {name}, {Greeting}\".format(name='akshay', Greeting='Good Morning'))"
   ]
  },
  {
   "cell_type": "markdown",
   "metadata": {},
   "source": [
    "## Input"
   ]
  },
  {
   "cell_type": "code",
   "execution_count": null,
   "metadata": {},
   "outputs": [],
   "source": [
    "name = input('Enter your name: ')\n",
    "print (\"Hello \" + name + \" Good Afternoon\")"
   ]
  },
  {
   "cell_type": "code",
   "execution_count": null,
   "metadata": {},
   "outputs": [],
   "source": [
    "print (name)"
   ]
  },
  {
   "cell_type": "markdown",
   "metadata": {},
   "source": [
    "# String VS List"
   ]
  },
  {
   "cell_type": "code",
   "execution_count": null,
   "metadata": {},
   "outputs": [],
   "source": [
    "s = \"Himanshu\"\n",
    "l = ['P','a','n','d','e','y']"
   ]
  },
  {
   "cell_type": "code",
   "execution_count": null,
   "metadata": {},
   "outputs": [],
   "source": [
    "print (s[0]*2)\n",
    "print (l[0]*2)"
   ]
  },
  {
   "cell_type": "markdown",
   "metadata": {},
   "source": [
    "# OPERATORS\n",
    "\n",
    "operators & Operands\n",
    "\n",
    "## Arithmatic Operators"
   ]
  },
  {
   "cell_type": "code",
   "execution_count": null,
   "metadata": {},
   "outputs": [],
   "source": [
    "x,y = 10,20\n",
    "\n",
    "# Addition (+)\n",
    "print (y+x)"
   ]
  },
  {
   "cell_type": "code",
   "execution_count": null,
   "metadata": {},
   "outputs": [],
   "source": [
    "# subtraction (-)\n",
    "print (y-x)"
   ]
  },
  {
   "cell_type": "code",
   "execution_count": null,
   "metadata": {},
   "outputs": [],
   "source": [
    "# Multiplication\n",
    "print (y*x)"
   ]
  },
  {
   "cell_type": "code",
   "execution_count": null,
   "metadata": {},
   "outputs": [],
   "source": [
    "# Division (/)\n",
    "print (y/x)"
   ]
  },
  {
   "cell_type": "code",
   "execution_count": null,
   "metadata": {},
   "outputs": [],
   "source": [
    "# Modulo Division (Remainder) (%)\n",
    "print (y%x)"
   ]
  },
  {
   "cell_type": "code",
   "execution_count": null,
   "metadata": {},
   "outputs": [],
   "source": [
    "# Floor Division (//)\n",
    "print (y//x)"
   ]
  },
  {
   "cell_type": "code",
   "execution_count": null,
   "metadata": {},
   "outputs": [],
   "source": [
    "#Exponent (**)\n",
    "a= 2\n",
    "b= 3\n",
    "print (a**3) #a^3 or a-cube"
   ]
  },
  {
   "cell_type": "markdown",
   "metadata": {},
   "source": [
    "## Comparision Operators"
   ]
  },
  {
   "cell_type": "code",
   "execution_count": null,
   "metadata": {},
   "outputs": [],
   "source": [
    "a,b = 10,20   # comparision operator have Boolean o/p (True OR False)\n",
    "\n",
    "# Less than <\n",
    "print (a<b)\n",
    "\n",
    "\n",
    "# Greater than >\n",
    "print (a>b)\n",
    "\n",
    "# equal to ==\n",
    "print (a==b)\n",
    "\n",
    "# not equal to !=\n",
    "print (a!=b)\n",
    "\n",
    "# greater than equal to >=\n",
    "print (a>=b)\n",
    "\n",
    "# less than equal to <=\n",
    "print (a<=b)"
   ]
  },
  {
   "cell_type": "markdown",
   "metadata": {},
   "source": [
    "## Logical Operator\n",
    "\n",
    "   ### AND, OR, NOT\n",
    "   \n",
    "##### AND Logic Table\n",
    "TT--T\n",
    "TF--F\n",
    "FT--F\n",
    "FF--F\n",
    "\n",
    "##### OR Logic Table\n",
    "TT--T\n",
    "TF--T\n",
    "FT--T\n",
    "FF--F\n"
   ]
  },
  {
   "cell_type": "code",
   "execution_count": null,
   "metadata": {},
   "outputs": [],
   "source": [
    "a,b = True, False\n",
    "print (a and b)\n",
    "print (a or b)\n",
    "print (not b)"
   ]
  },
  {
   "cell_type": "markdown",
   "metadata": {},
   "source": [
    "# Bitwise Operator"
   ]
  },
  {
   "cell_type": "code",
   "execution_count": null,
   "metadata": {},
   "outputs": [],
   "source": [
    "# Bitwise operation\n",
    "# 10 [1,0,1,0]\n",
    "# 4  [0,1,0,0]\n",
    "a,b = 10, 4\n",
    "\n",
    "#Bitwise AND (&)\n",
    "print (a & b)\n",
    "\n",
    "#Bitwise OR (|)\n",
    "print (a | b)       # [1,1,1,0]---14\n",
    "\n",
    "#Bitwise NOT XOR Rightshift"
   ]
  },
  {
   "cell_type": "markdown",
   "metadata": {},
   "source": [
    "# Assignment Operators"
   ]
  },
  {
   "cell_type": "markdown",
   "metadata": {},
   "source": [
    "## =,  +=,  -=,  *=,  /=,  //=,  **=,  &=,  |=,  ^=,  >>=,  <<="
   ]
  },
  {
   "cell_type": "code",
   "execution_count": 23,
   "metadata": {},
   "outputs": [],
   "source": [
    "a= 10"
   ]
  },
  {
   "cell_type": "code",
   "execution_count": 24,
   "metadata": {},
   "outputs": [
    {
     "name": "stdout",
     "output_type": "stream",
     "text": [
      "20\n"
     ]
    }
   ],
   "source": [
    "# Addition AND (+=)\n",
    "a += 10\n",
    "print (a)\n",
    "\n",
    "a = 10\n",
    "\n",
    "a += 10         #add AND\n",
    "print(a)\n",
    "\n",
    "#subtract AND (-=)\n",
    "\n",
    "#Multiply AND (*=)\n",
    "\n",
    "#Divide AND (/=)\n",
    "\n",
    "#Modulus AND (%=)\n",
    "\n",
    "#Floor Division (//=)\n",
    "\n",
    "#Exponent AND (**=)\n"
   ]
  },
  {
   "cell_type": "markdown",
   "metadata": {},
   "source": [
    "# Special Operators\n",
    "\n",
    "# Identity Operators\n",
    "\n",
    "**is and is not** are the identity operators in Python. \n",
    "\n"
   ]
  },
  {
   "cell_type": "code",
   "execution_count": 26,
   "metadata": {},
   "outputs": [
    {
     "name": "stdout",
     "output_type": "stream",
     "text": [
      "True\n"
     ]
    }
   ],
   "source": [
    "#They are used to check if two values (or variables) are located on the same part of the memory.\n",
    "\n",
    "a = 5\n",
    "b = 5\n",
    "print(a is b)    #5 is object created once both a and b points to same object\n",
    "\n"
   ]
  },
  {
   "cell_type": "code",
   "execution_count": 32,
   "metadata": {},
   "outputs": [
    {
     "name": "stdout",
     "output_type": "stream",
     "text": [
      "True\n",
      "True\n"
     ]
    }
   ],
   "source": [
    "#check is not\n",
    "\n",
    "l1 = [1, 2, 3]\n",
    "l2 = [1, 2, 3]\n",
    "print(l1 is not l2)\n",
    "\n",
    "s1 = \"Satish\"\n",
    "s2 = \"Satish\"\n",
    "print(s1 is s2)\n",
    "\n"
   ]
  },
  {
   "cell_type": "markdown",
   "metadata": {},
   "source": [
    "# MemberShip Operators\n",
    "\n",
    "**in and not in** are the membership operators in Python. \n",
    "    \n",
    "They are used to test whether a value or variable is found in a sequence (string, list, tuple, set and   dictionary).\n",
    "\n"
   ]
  },
  {
   "cell_type": "code",
   "execution_count": 33,
   "metadata": {},
   "outputs": [
    {
     "name": "stdout",
     "output_type": "stream",
     "text": [
      "True\n"
     ]
    }
   ],
   "source": [
    "lst = [1, 2, 3, 4]\n",
    "print(1 in lst)       #check 1 is present in a given list or not\n",
    "\n",
    "#check 5 is present in a given list"
   ]
  },
  {
   "cell_type": "code",
   "execution_count": 36,
   "metadata": {},
   "outputs": [
    {
     "name": "stdout",
     "output_type": "stream",
     "text": [
      "True\n"
     ]
    }
   ],
   "source": [
    "d = {1: \"a\", 2: \"b\"}\n",
    "print(1 in d)"
   ]
  },
  {
   "cell_type": "code",
   "execution_count": 38,
   "metadata": {},
   "outputs": [
    {
     "name": "stdout",
     "output_type": "stream",
     "text": [
      "False\n"
     ]
    }
   ],
   "source": [
    "d = {1: \"a\", 2: \"b\"}\n",
    "print(\"a\" in d)    # it works only on Keys and not in value"
   ]
  },
  {
   "cell_type": "code",
   "execution_count": 41,
   "metadata": {},
   "outputs": [
    {
     "data": {
      "text/plain": [
       "('Okay we are done', 'ByeBye')"
      ]
     },
     "execution_count": 41,
     "metadata": {},
     "output_type": "execute_result"
    }
   ],
   "source": [
    "\"Okay we are done\", \"Bye\"*2"
   ]
  },
  {
   "cell_type": "code",
   "execution_count": null,
   "metadata": {},
   "outputs": [],
   "source": []
  }
 ],
 "metadata": {
  "kernelspec": {
   "display_name": "Python 3",
   "language": "python",
   "name": "python3"
  },
  "language_info": {
   "codemirror_mode": {
    "name": "ipython",
    "version": 3
   },
   "file_extension": ".py",
   "mimetype": "text/x-python",
   "name": "python",
   "nbconvert_exporter": "python",
   "pygments_lexer": "ipython3",
   "version": "3.8.3"
  }
 },
 "nbformat": 4,
 "nbformat_minor": 4
}
